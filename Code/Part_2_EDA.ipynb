{
  "nbformat": 4,
  "nbformat_minor": 5,
  "metadata": {
    "kernelspec": {
      "display_name": "Python 3",
      "language": "python",
      "name": "python3"
    },
    "language_info": {
      "codemirror_mode": {
        "name": "ipython",
        "version": 3
      },
      "file_extension": ".py",
      "mimetype": "text/x-python",
      "name": "python",
      "nbconvert_exporter": "python",
      "pygments_lexer": "ipython3",
      "version": "3.8.8"
    },
    "colab": {
      "name": "Part 2 - EDA.ipynb",
      "provenance": [],
      "collapsed_sections": [],
      "include_colab_link": true
    }
  },
  "cells": [
    {
      "cell_type": "markdown",
      "metadata": {
        "id": "view-in-github",
        "colab_type": "text"
      },
      "source": [
        "<a href=\"https://colab.research.google.com/github/rmoolchandani/rmoolcha_Capstone/blob/main/Code/Part_2_EDA.ipynb\" target=\"_parent\"><img src=\"https://colab.research.google.com/assets/colab-badge.svg\" alt=\"Open In Colab\"/></a>"
      ]
    },
    {
      "cell_type": "markdown",
      "metadata": {
        "id": "beae53b5"
      },
      "source": [
        "# Exploratory Data Analysis "
      ],
      "id": "beae53b5"
    },
    {
      "cell_type": "markdown",
      "metadata": {
        "id": "bd1672fd"
      },
      "source": [
        "Let's explore the data and see what we can derive. "
      ],
      "id": "bd1672fd"
    },
    {
      "cell_type": "markdown",
      "metadata": {
        "id": "3a9dc16c"
      },
      "source": [
        "__Imports__"
      ],
      "id": "3a9dc16c"
    },
    {
      "cell_type": "code",
      "metadata": {
        "id": "6776cb9d"
      },
      "source": [
        "import numpy as np\n",
        "import pandas as pd\n",
        "from matplotlib import pyplot as plt\n",
        "import seaborn as sns\n",
        "from scipy.stats import iqr"
      ],
      "id": "6776cb9d",
      "execution_count": null,
      "outputs": []
    },
    {
      "cell_type": "markdown",
      "metadata": {
        "id": "73aa4e55"
      },
      "source": [
        "__Read the cleaned file and create a pandas dataframe__"
      ],
      "id": "73aa4e55"
    },
    {
      "cell_type": "code",
      "metadata": {
        "id": "f2dd3f37",
        "colab": {
          "base_uri": "https://localhost:8080/"
        },
        "outputId": "0f64ae6a-8610-493d-e5a1-bcf1118f941e"
      },
      "source": [
        "# Connect to Google Drive\n",
        "# Upload the dataset to your Google drive so it can be loaded here\n",
        "from google.colab import drive\n",
        "drive.mount('/content/gdrive')\n",
        "\n",
        "df = pd.read_csv('/content/gdrive/My Drive/Colab Notebooks/diabetic_data_clean.csv')"
      ],
      "id": "f2dd3f37",
      "execution_count": null,
      "outputs": [
        {
          "output_type": "stream",
          "name": "stdout",
          "text": [
            "Drive already mounted at /content/gdrive; to attempt to forcibly remount, call drive.mount(\"/content/gdrive\", force_remount=True).\n"
          ]
        }
      ]
    },
    {
      "cell_type": "markdown",
      "metadata": {
        "id": "NDC2-0M80W9m"
      },
      "source": [
        ""
      ],
      "id": "NDC2-0M80W9m"
    },
    {
      "cell_type": "code",
      "metadata": {
        "colab": {
          "base_uri": "https://localhost:8080/"
        },
        "id": "onWBjLPn0HVM",
        "outputId": "0cd6508d-bd97-475f-f96e-90b10cf8f658"
      },
      "source": [
        "data = df.replace(\"?\",np.nan)\n",
        "data.isnull().sum()[data.isnull().sum()>1]/len(data)*100"
      ],
      "id": "onWBjLPn0HVM",
      "execution_count": null,
      "outputs": [
        {
          "output_type": "execute_result",
          "data": {
            "text/plain": [
              "Series([], dtype: float64)"
            ]
          },
          "metadata": {},
          "execution_count": 68
        }
      ]
    },
    {
      "cell_type": "code",
      "metadata": {
        "id": "5e43be98"
      },
      "source": [
        "df.drop('Unnamed: 0', axis =1, inplace = True)"
      ],
      "id": "5e43be98",
      "execution_count": null,
      "outputs": []
    },
    {
      "cell_type": "code",
      "metadata": {
        "id": "f886ddc0",
        "colab": {
          "base_uri": "https://localhost:8080/"
        },
        "outputId": "09fddfa5-d121-47ac-a86b-d3b1e6d05465"
      },
      "source": [
        "df.shape"
      ],
      "id": "f886ddc0",
      "execution_count": null,
      "outputs": [
        {
          "output_type": "execute_result",
          "data": {
            "text/plain": [
              "(98052, 48)"
            ]
          },
          "metadata": {},
          "execution_count": 70
        }
      ]
    },
    {
      "cell_type": "markdown",
      "metadata": {
        "id": "db905eba"
      },
      "source": [
        "__Target Variable- Readmission__"
      ],
      "id": "db905eba"
    },
    {
      "cell_type": "code",
      "metadata": {
        "id": "afed1b66",
        "colab": {
          "base_uri": "https://localhost:8080/",
          "height": 350
        },
        "outputId": "f2113852-4d32-46c5-a932-daf345338668"
      },
      "source": [
        "plt.figure(figsize=(6,5))\n",
        "sns.countplot(x='readmitted',data=df, palette= 'GnBu')\n",
        "plt.title('Number of Hospital Readmissions');"
      ],
      "id": "afed1b66",
      "execution_count": null,
      "outputs": [
        {
          "output_type": "display_data",
          "data": {
            "image/png": "[encoded data removed]",
            "text/plain": [
              "<Figure size 432x360 with 1 Axes>"
            ]
          },
          "metadata": {
            "needs_background": "light"
          }
        }
      ]
    },
    {
      "cell_type": "code",
      "metadata": {
        "id": "8391b5a0",
        "colab": {
          "base_uri": "https://localhost:8080/"
        },
        "outputId": "00f0b945-0cea-4cb4-b3dc-fefa9bdae47d"
      },
      "source": [
        "df.readmitted.value_counts()"
      ],
      "id": "8391b5a0",
      "execution_count": null,
      "outputs": [
        {
          "output_type": "execute_result",
          "data": {
            "text/plain": [
              "0    52337\n",
              "2    34649\n",
              "1    11066\n",
              "Name: readmitted, dtype: int64"
            ]
          },
          "metadata": {},
          "execution_count": 72
        }
      ]
    },
    {
      "cell_type": "markdown",
      "metadata": {
        "id": "126f2722"
      },
      "source": [
        "The target variable 'readmitted' in the initial dataset contained three categories:\n",
        "\n",
        "\n",
        "    - 0: “No” for no record of readmission. \n",
        "    - 1: “<30” if the patient was readmitted in less than 30 days.\n",
        "    - 2: “>30” if the patient was readmitted in more than 30 days.\n",
        "    \n",
        "For our modeling purposes we need to get binary values of 0 and 1, so I've classified the values in this variables as such:\n",
        "\n",
        "    - 0: “No” for no record of readmission. \n",
        "    - 1: “<30” or  “>30”, record of readmission, regardless of how many days after being discharged. "
      ],
      "id": "126f2722"
    },
    {
      "cell_type": "code",
      "metadata": {
        "id": "b1912bf4"
      },
      "source": [
        "df['readmitted'] = pd.Series([0 if val == 0 else 1 for val in df['readmitted']])"
      ],
      "id": "b1912bf4",
      "execution_count": null,
      "outputs": []
    },
    {
      "cell_type": "code",
      "metadata": {
        "id": "ae7395f3",
        "colab": {
          "base_uri": "https://localhost:8080/",
          "height": 350
        },
        "outputId": "e4ee2d30-84b5-4cb7-8821-a43e5b366c46"
      },
      "source": [
        "plt.figure(figsize=(6,5))\n",
        "sns.countplot(x='readmitted',data=df, palette= 'GnBu')\n",
        "plt.title('Number of Hospital Readmissions');"
      ],
      "id": "ae7395f3",
      "execution_count": null,
      "outputs": [
        {
          "output_type": "display_data",
          "data": {
            "image/png": "[encoded data removed]",
            "text/plain": [
              "<Figure size 432x360 with 1 Axes>"
            ]
          },
          "metadata": {
            "needs_background": "light"
          }
        }
      ]
    },
    {
      "cell_type": "code",
      "metadata": {
        "id": "c0ec5fcd",
        "colab": {
          "base_uri": "https://localhost:8080/"
        },
        "outputId": "b8a62d24-8735-4a2c-bfac-b1224ccac83c"
      },
      "source": [
        "df.readmitted.value_counts(normalize = True)"
      ],
      "id": "c0ec5fcd",
      "execution_count": null,
      "outputs": [
        {
          "output_type": "execute_result",
          "data": {
            "text/plain": [
              "0    0.533768\n",
              "1    0.466232\n",
              "Name: readmitted, dtype: float64"
            ]
          },
          "metadata": {},
          "execution_count": 75
        }
      ]
    },
    {
      "cell_type": "markdown",
      "metadata": {
        "id": "954a0e22"
      },
      "source": [
        "__Let's Explore the other variables and decide how best to utilize them__"
      ],
      "id": "954a0e22"
    },
    {
      "cell_type": "code",
      "metadata": {
        "id": "b7bc0156",
        "colab": {
          "base_uri": "https://localhost:8080/"
        },
        "outputId": "bb03e73b-dd02-433b-8f79-16eb6869a33c"
      },
      "source": [
        "df.columns"
      ],
      "id": "b7bc0156",
      "execution_count": null,
      "outputs": [
        {
          "output_type": "execute_result",
          "data": {
            "text/plain": [
              "Index(['encounter_id', 'patient_nbr', 'race', 'gender', 'age',\n",
              "       'admission_type_id', 'discharge_disposition_id', 'admission_source_id',\n",
              "       'time_in_hospital', 'num_lab_procedures', 'num_procedures',\n",
              "       'num_medications', 'number_outpatient', 'number_emergency',\n",
              "       'number_inpatient', 'diag_1', 'diag_2', 'diag_3', 'number_diagnoses',\n",
              "       'max_glu_serum', 'A1Cresult', 'metformin', 'repaglinide', 'nateglinide',\n",
              "       'chlorpropamide', 'glimepiride', 'acetohexamide', 'glipizide',\n",
              "       'glyburide', 'tolbutamide', 'pioglitazone', 'rosiglitazone', 'acarbose',\n",
              "       'miglitol', 'troglitazone', 'tolazamide', 'examide', 'citoglipton',\n",
              "       'insulin', 'glyburide-metformin', 'glipizide-metformin',\n",
              "       'glimepiride-pioglitazone', 'metformin-rosiglitazone',\n",
              "       'metformin-pioglitazone', 'change', 'diabetesMed', 'readmitted',\n",
              "       'age_range'],\n",
              "      dtype='object')"
            ]
          },
          "metadata": {},
          "execution_count": 76
        }
      ]
    },
    {
      "cell_type": "markdown",
      "metadata": {
        "id": "5148a056"
      },
      "source": [
        "The first two variables in the data set are numeric but are unique identifiers as such won't be used for any ED of statistical analysis. Since these do not affect my modeling in any way, I'll just drop these columns to keep things as clean as possible.\n",
        "\n",
        "* encounter_id\n",
        "* patient_nbr\n"
      ],
      "id": "5148a056"
    },
    {
      "cell_type": "code",
      "metadata": {
        "id": "6cecfe01"
      },
      "source": [
        "#First check for any duplicates using this unique identifier\n",
        "df.drop_duplicates(subset=['encounter_id'], inplace = True)"
      ],
      "id": "6cecfe01",
      "execution_count": null,
      "outputs": []
    },
    {
      "cell_type": "code",
      "metadata": {
        "id": "c489551d",
        "colab": {
          "base_uri": "https://localhost:8080/"
        },
        "outputId": "580312c9-1074-4ee4-c207-f899ea742037"
      },
      "source": [
        "df.shape"
      ],
      "id": "c489551d",
      "execution_count": null,
      "outputs": [
        {
          "output_type": "execute_result",
          "data": {
            "text/plain": [
              "(98052, 48)"
            ]
          },
          "metadata": {},
          "execution_count": 78
        }
      ]
    },
    {
      "cell_type": "markdown",
      "metadata": {
        "id": "2c8d1618"
      },
      "source": [
        "No duplicates noted, still have 98,052 observations to analyze. "
      ],
      "id": "2c8d1618"
    },
    {
      "cell_type": "code",
      "metadata": {
        "id": "e572ec02"
      },
      "source": [
        "df.drop(['encounter_id', 'patient_nbr'], axis=1, inplace=True)"
      ],
      "id": "e572ec02",
      "execution_count": null,
      "outputs": []
    },
    {
      "cell_type": "markdown",
      "metadata": {
        "id": "4c72893a"
      },
      "source": [
        "### CATEGORICAL VARIABLES"
      ],
      "id": "4c72893a"
    },
    {
      "cell_type": "markdown",
      "metadata": {
        "id": "70e6e3e6"
      },
      "source": [
        "race', 'gender', 'age', 'admission_type_id',\n",
        "       'discharge_disposition_id', 'admission_source_id' 'diag_1',\n",
        "       'diag_2', 'diag_3', 'number_diagnoses', 'max_glu_serum', 'A1Cresult',\n",
        "       'metformin', 'repaglinide', 'nateglinide', 'chlorpropamide',\n",
        "       'glimepiride', 'acetohexamide', 'glipizide', 'glyburide', 'tolbutamide',\n",
        "       'pioglitazone', 'rosiglitazone', 'acarbose', 'miglitol', 'troglitazone',\n",
        "       'tolazamide', 'examide', 'citoglipton', 'insulin',\n",
        "       'glyburide-metformin', 'glipizide-metformin',\n",
        "       'glimepiride-pioglitazone', 'metformin-rosiglitazone',\n",
        "       'metformin-pioglitazone', 'change', 'diabetesMed', 'readmitted',\n",
        "       'age_range'\n",
        "        "
      ],
      "id": "70e6e3e6"
    },
    {
      "cell_type": "markdown",
      "metadata": {
        "id": "b4b429c0"
      },
      "source": [
        "__Race__"
      ],
      "id": "b4b429c0"
    },
    {
      "cell_type": "code",
      "metadata": {
        "id": "5d747d8e",
        "colab": {
          "base_uri": "https://localhost:8080/"
        },
        "outputId": "afb6a821-5107-4b91-b100-072ae4a0aa37"
      },
      "source": [
        "df.race.value_counts(normalize = True)"
      ],
      "id": "5d747d8e",
      "execution_count": null,
      "outputs": [
        {
          "output_type": "execute_result",
          "data": {
            "text/plain": [
              "0    0.765706\n",
              "1    0.192561\n",
              "3    0.020234\n",
              "4    0.015125\n",
              "2    0.006374\n",
              "Name: race, dtype: float64"
            ]
          },
          "metadata": {},
          "execution_count": 80
        }
      ]
    },
    {
      "cell_type": "markdown",
      "metadata": {
        "id": "1ea32927"
      },
      "source": [
        "* 0: Caucasian\n",
        "* 1: African American\n",
        "* 2: Asian\n",
        "* 3: Hispanic\n",
        "* 4: Other\n",
        "\n",
        "\n",
        "* The data collected showcases that 76% of patients within the data set are Caucasian. "
      ],
      "id": "1ea32927"
    },
    {
      "cell_type": "code",
      "metadata": {
        "id": "dd63dd10",
        "colab": {
          "base_uri": "https://localhost:8080/",
          "height": 350
        },
        "outputId": "356132f2-2074-4efc-b177-1dbbbdec6704"
      },
      "source": [
        "plt.figure(figsize=(6,5))\n",
        "sns.countplot(x = df['race'], hue=df['readmitted'],palette= 'GnBu')\n",
        "plt.title(\"Race of Patients Vs. Readmission\");"
      ],
      "id": "dd63dd10",
      "execution_count": null,
      "outputs": [
        {
          "output_type": "display_data",
          "data": {
            "image/png": "[encoded data removed]",
            "text/plain": [
              "<Figure size 432x360 with 1 Axes>"
            ]
          },
          "metadata": {
            "needs_background": "light"
          }
        }
      ]
    },
    {
      "cell_type": "markdown",
      "metadata": {
        "id": "49fdecf6"
      },
      "source": [
        "__Gender__"
      ],
      "id": "49fdecf6"
    },
    {
      "cell_type": "code",
      "metadata": {
        "id": "e405db0c",
        "colab": {
          "base_uri": "https://localhost:8080/",
          "height": 350
        },
        "outputId": "09b98645-14fe-44e0-f80d-4c4042689d00"
      },
      "source": [
        "plt.figure(figsize=(6,5))\n",
        "sns.countplot(x = df['gender'], hue=df['readmitted'],palette= 'GnBu')\n",
        "plt.title(\"Gender of Patients Vs. Readmission\");"
      ],
      "id": "e405db0c",
      "execution_count": null,
      "outputs": [
        {
          "output_type": "display_data",
          "data": {
            "image/png": "[encoded data removed]",
            "text/plain": [
              "<Figure size 432x360 with 1 Axes>"
            ]
          },
          "metadata": {
            "needs_background": "light"
          }
        }
      ]
    },
    {
      "cell_type": "code",
      "metadata": {
        "id": "5dc26ad6",
        "colab": {
          "base_uri": "https://localhost:8080/"
        },
        "outputId": "c3d380e5-e333-46e6-a0a7-dcc1f49d9f12"
      },
      "source": [
        "df.gender.value_counts(normalize = True)"
      ],
      "id": "5dc26ad6",
      "execution_count": null,
      "outputs": [
        {
          "output_type": "execute_result",
          "data": {
            "text/plain": [
              "0    0.538826\n",
              "1    0.461174\n",
              "Name: gender, dtype: float64"
            ]
          },
          "metadata": {},
          "execution_count": 83
        }
      ]
    },
    {
      "cell_type": "markdown",
      "metadata": {
        "id": "ef690d42"
      },
      "source": [
        "__Readmission Rate Based on Age__"
      ],
      "id": "ef690d42"
    },
    {
      "cell_type": "code",
      "metadata": {
        "id": "05b691e5",
        "colab": {
          "base_uri": "https://localhost:8080/",
          "height": 350
        },
        "outputId": "5b37f316-02ae-4a9f-a272-f1ec94a3b368"
      },
      "source": [
        "plt.figure(figsize=(10,5))\n",
        "sns.countplot(x = df['age'], hue=df['readmitted'],palette= 'GnBu')\n",
        "plt.title(\"Ages of Patients Vs. Readmission\");"
      ],
      "id": "05b691e5",
      "execution_count": null,
      "outputs": [
        {
          "output_type": "display_data",
          "data": {
            "image/png": "[encoded data removed]",
            "text/plain": [
              "<Figure size 720x360 with 1 Axes>"
            ]
          },
          "metadata": {
            "needs_background": "light"
          }
        }
      ]
    },
    {
      "cell_type": "markdown",
      "metadata": {
        "id": "9573198a"
      },
      "source": [
        "* In all age groups the number of readmissions never exceeded the number of non-readmissions.\n",
        "* The age group with the highest readmissions overall were those between 70-80 years of age. "
      ],
      "id": "9573198a"
    },
    {
      "cell_type": "code",
      "metadata": {
        "id": "fb81621a",
        "colab": {
          "base_uri": "https://localhost:8080/"
        },
        "outputId": "3a7bbf81-0126-416b-b820-86694dcc2c6d"
      },
      "source": [
        "df.age.value_counts(normalize = True)"
      ],
      "id": "fb81621a",
      "execution_count": null,
      "outputs": [
        {
          "output_type": "execute_result",
          "data": {
            "text/plain": [
              "[70-80)     0.258077\n",
              "[60-70)     0.222423\n",
              "[80-90)     0.170338\n",
              "[50-60)     0.170287\n",
              "[40-50)     0.094491\n",
              "[30-40)     0.036185\n",
              "[90-100)    0.027710\n",
              "[20-30)     0.015074\n",
              "[10-20)     0.004753\n",
              "[0-10)      0.000663\n",
              "Name: age, dtype: float64"
            ]
          },
          "metadata": {},
          "execution_count": 85
        }
      ]
    },
    {
      "cell_type": "markdown",
      "metadata": {
        "id": "068fec73"
      },
      "source": [
        "__Admission Type__"
      ],
      "id": "068fec73"
    },
    {
      "cell_type": "markdown",
      "metadata": {
        "id": "416a318b"
      },
      "source": [
        "Integer identifier corresponding to distinct values: \n",
        "\n",
        "1. Emergency\n",
        "2. Urgent\n",
        "3. Elective\n",
        "4. Newborn\n",
        "5. Delivery \n",
        "5. Trauma Center \n",
        "6. Other\n",
        "\n",
        "Reduced the initial 9 distinct values to just 6. "
      ],
      "id": "416a318b"
    },
    {
      "cell_type": "markdown",
      "metadata": {
        "id": "875aed6b"
      },
      "source": [
        "__Soucrce:__ https://www.hcup-us.ahrq.gov/db/vars/atype/nisnote.jsp#values"
      ],
      "id": "875aed6b"
    },
    {
      "cell_type": "code",
      "metadata": {
        "id": "42efd004"
      },
      "source": [
        "df['admission_type_id'] = pd.Series(['Emergency' if val == 1 else'Urgent' if val == 2\n",
        "                                    else 'Elective' if val == 3\n",
        "                                     else 'Newborn' if val == 4\n",
        "                                     else 'Delivery Center' if val ==5\n",
        "                                     else 'Trauma Center' if val == 6 else 'Other' \n",
        "                                              for val in df['admission_type_id']], index=df.index)"
      ],
      "id": "42efd004",
      "execution_count": null,
      "outputs": []
    },
    {
      "cell_type": "code",
      "metadata": {
        "id": "6a2864a5",
        "colab": {
          "base_uri": "https://localhost:8080/",
          "height": 351
        },
        "outputId": "29e3f686-f5b7-4414-effa-a30e8665d084"
      },
      "source": [
        "plt.figure(figsize=(8,5))\n",
        "sns.countplot(x = df['admission_type_id'], hue=df['readmitted'],palette= 'GnBu')\n",
        "plt.title(\"Admission type Vs Readmission\");"
      ],
      "id": "6a2864a5",
      "execution_count": null,
      "outputs": [
        {
          "output_type": "display_data",
          "data": {
            "image/png": "[encoded data removed]",
            "text/plain": [
              "<Figure size 576x360 with 1 Axes>"
            ]
          },
          "metadata": {
            "needs_background": "light"
          }
        }
      ]
    },
    {
      "cell_type": "markdown",
      "metadata": {
        "id": "36dbf98a"
      },
      "source": [
        "Emergency  admissions comprise the majority of initial patient admissions as well as readmissions. "
      ],
      "id": "36dbf98a"
    },
    {
      "cell_type": "code",
      "metadata": {
        "id": "354e51d6"
      },
      "source": [
        "#Converting back to an integer for modeling purposes moving forward.\n",
        "df['admission_type_id']= df.admission_type_id.map({'Emergency':0, 'Elective':1, 'Urgent':2,'Trauma Center':3, 'Delivery Center':4,'Newborn':5,'Other':6})"
      ],
      "id": "354e51d6",
      "execution_count": null,
      "outputs": []
    },
    {
      "cell_type": "markdown",
      "metadata": {
        "id": "1a1ff79f"
      },
      "source": [
        "__Discharge Disposition__"
      ],
      "id": "1a1ff79f"
    },
    {
      "cell_type": "markdown",
      "metadata": {
        "id": "5d4f3d70"
      },
      "source": [
        "Integer identifier corresponding to 29 distinct values, for example, discharged to home, expired, and not available. "
      ],
      "id": "5d4f3d70"
    },
    {
      "cell_type": "code",
      "metadata": {
        "id": "9b1ec12e",
        "colab": {
          "base_uri": "https://localhost:8080/",
          "height": 351
        },
        "outputId": "e51ad74c-bdb3-4bab-88c6-7a13ad1a78fb"
      },
      "source": [
        "plt.figure(figsize=(8,5))\n",
        "sns.countplot(x ='discharge_disposition_id',data=df, palette= 'GnBu')\n",
        "plt.title(\"Discharge type\");"
      ],
      "id": "9b1ec12e",
      "execution_count": null,
      "outputs": [
        {
          "output_type": "display_data",
          "data": {
            "image/png": "[encoded data removed]",
            "text/plain": [
              "<Figure size 576x360 with 1 Axes>"
            ]
          },
          "metadata": {
            "needs_background": "light"
          }
        }
      ]
    },
    {
      "cell_type": "markdown",
      "metadata": {
        "id": "09d456bf"
      },
      "source": [
        "Reduced the initial 29 distinct values to just 2, simply quantifying whether a patient was discharged to their home or not.  "
      ],
      "id": "09d456bf"
    },
    {
      "cell_type": "code",
      "metadata": {
        "id": "7fa0054a"
      },
      "source": [
        "df['discharge_disposition_id'] = pd.Series(['Discharged Home' if val == 1 else 'Other discharge' \n",
        "                                              for val in df['discharge_disposition_id']], index=df.index)"
      ],
      "id": "7fa0054a",
      "execution_count": null,
      "outputs": []
    },
    {
      "cell_type": "code",
      "metadata": {
        "id": "4720b623",
        "colab": {
          "base_uri": "https://localhost:8080/",
          "height": 351
        },
        "outputId": "45db7e4d-bfd3-41bd-b449-7cd03f6d486e"
      },
      "source": [
        "plt.figure(figsize=(8,5))\n",
        "sns.countplot(x = df['discharge_disposition_id'], hue=df['readmitted'],palette= 'GnBu')\n",
        "plt.title(\"Discharge Vs Readmission\");"
      ],
      "id": "4720b623",
      "execution_count": null,
      "outputs": [
        {
          "output_type": "display_data",
          "data": {
            "image/png": "[encoded data removed]",
            "text/plain": [
              "<Figure size 576x360 with 1 Axes>"
            ]
          },
          "metadata": {
            "needs_background": "light"
          }
        }
      ]
    },
    {
      "cell_type": "code",
      "metadata": {
        "id": "ca45c4c3"
      },
      "source": [
        "#Converting back to an integer for modeling purposes moving forward.\n",
        "df['discharge_disposition_id']= df.discharge_disposition_id.map({'Discharged Home':0, 'Other discharge':1})"
      ],
      "id": "ca45c4c3",
      "execution_count": null,
      "outputs": []
    },
    {
      "cell_type": "markdown",
      "metadata": {
        "id": "d1165838"
      },
      "source": [
        "__Admission source__"
      ],
      "id": "d1165838"
    },
    {
      "cell_type": "markdown",
      "metadata": {
        "id": "e6b7021b"
      },
      "source": [
        "Indicates the origination of a patient's admission, for example, physician referral, emergency room, and transfer from a hospital. "
      ],
      "id": "e6b7021b"
    },
    {
      "cell_type": "code",
      "metadata": {
        "id": "bb7588f7",
        "colab": {
          "base_uri": "https://localhost:8080/",
          "height": 351
        },
        "outputId": "a8537fc5-30d4-4c4f-fefd-9afd79635996"
      },
      "source": [
        "plt.figure(figsize=(8,5))\n",
        "sns.countplot(x='admission_source_id',data=df, palette= 'GnBu')\n",
        "plt.title(\"Admission type\");"
      ],
      "id": "bb7588f7",
      "execution_count": null,
      "outputs": [
        {
          "output_type": "display_data",
          "data": {
            "image/png": "[encoded data removed]",
            "text/plain": [
              "<Figure size 576x360 with 1 Axes>"
            ]
          },
          "metadata": {
            "needs_background": "light"
          }
        }
      ]
    },
    {
      "cell_type": "code",
      "metadata": {
        "id": "f19fe632",
        "colab": {
          "base_uri": "https://localhost:8080/"
        },
        "outputId": "f992f969-06be-4986-bd63-3b21a0bc75f8"
      },
      "source": [
        "df.admission_source_id.value_counts()"
      ],
      "id": "f19fe632",
      "execution_count": null,
      "outputs": [
        {
          "output_type": "execute_result",
          "data": {
            "text/plain": [
              "7     55951\n",
              "1     28355\n",
              "17     6602\n",
              "4      2945\n",
              "6      1893\n",
              "2      1031\n",
              "5       846\n",
              "3       179\n",
              "20      160\n",
              "9        49\n",
              "8        15\n",
              "22       12\n",
              "10        7\n",
              "11        2\n",
              "14        2\n",
              "25        2\n",
              "13        1\n",
              "Name: admission_source_id, dtype: int64"
            ]
          },
          "metadata": {},
          "execution_count": 94
        }
      ]
    },
    {
      "cell_type": "markdown",
      "metadata": {
        "id": "cabed3ae"
      },
      "source": [
        "Based on the value counts above, I decided to reduce the distinct values to simply capture three instances, a physician referral, emergency room referral, or other.  "
      ],
      "id": "cabed3ae"
    },
    {
      "cell_type": "code",
      "metadata": {
        "id": "e2ae5229"
      },
      "source": [
        "df['admission_source_id'] = pd.Series(['Emergency room' if val == 7 else 'Physician/Clinic referral' if val == 1 else 'Other source' \n",
        "                                              for val in df['admission_source_id']], index=df.index)"
      ],
      "id": "e2ae5229",
      "execution_count": null,
      "outputs": []
    },
    {
      "cell_type": "code",
      "metadata": {
        "id": "b5e9bb59",
        "colab": {
          "base_uri": "https://localhost:8080/",
          "height": 351
        },
        "outputId": "cc51fd6e-0917-40a2-d5b8-80cec4a7f325"
      },
      "source": [
        "plt.figure(figsize=(8,5))\n",
        "sns.countplot(x = df['admission_source_id'], hue=df['readmitted'],palette= 'GnBu')\n",
        "plt.title(\"Admission Source Vs. Readmission\");"
      ],
      "id": "b5e9bb59",
      "execution_count": null,
      "outputs": [
        {
          "output_type": "display_data",
          "data": {
            "image/png": "[encoded data removed]",
            "text/plain": [
              "<Figure size 576x360 with 1 Axes>"
            ]
          },
          "metadata": {
            "needs_background": "light"
          }
        }
      ]
    },
    {
      "cell_type": "code",
      "metadata": {
        "id": "de49127a"
      },
      "source": [
        "#Converting back to an integer for modeling purposes moving forward.\n",
        "df['admission_source_id']= df.admission_source_id.map({'Emergency room':0, 'Physician/Clinic referral':1,'Other source':2})"
      ],
      "id": "de49127a",
      "execution_count": null,
      "outputs": []
    },
    {
      "cell_type": "markdown",
      "metadata": {
        "id": "8dde6f6e"
      },
      "source": [
        "__Diagnoses Attributes__"
      ],
      "id": "8dde6f6e"
    },
    {
      "cell_type": "markdown",
      "metadata": {
        "id": "dc588c84"
      },
      "source": [
        "* 'diag_1'- primary diagnoses\n",
        "* 'diag_2'- secondary diagnosis\n",
        "* 'diag_3'- additional diagnosis\n",
        "\n",
        "Each of these indicated a particular level of diagnosis for a given patient. However each had 848-923 distinct values coded as the first three digits of the International Classification of Diseases (ICD- 9). Based on research papers used for my analysis I decided to do what previous researchers and analysts had done and consolidate these into 9 major categories: \n",
        "1. Circulatory\n",
        "2. Respiratory\n",
        "3. Digestive\n",
        "4. Diabetes\n",
        "5. Injury\n",
        "6. Musculoskeletal\n",
        "7. Genitourinary\n",
        "8. Neoplasms\n",
        "9. Others."
      ],
      "id": "dc588c84"
    },
    {
      "cell_type": "code",
      "metadata": {
        "id": "5b39e2c2",
        "colab": {
          "base_uri": "https://localhost:8080/"
        },
        "outputId": "7bc977d9-9019-41b9-9fcd-b2698dbe30b6"
      },
      "source": [
        "df.diag_1.value_counts()"
      ],
      "id": "5b39e2c2",
      "execution_count": null,
      "outputs": [
        {
          "output_type": "execute_result",
          "data": {
            "text/plain": [
              "428.0    6730\n",
              "414.0    6373\n",
              "786.0    3900\n",
              "410.0    3514\n",
              "486.0    3412\n",
              "         ... \n",
              "911.0       1\n",
              "839.0       1\n",
              "915.0       1\n",
              "543.0       1\n",
              "375.0       1\n",
              "Name: diag_1, Length: 713, dtype: int64"
            ]
          },
          "metadata": {},
          "execution_count": 98
        }
      ]
    },
    {
      "cell_type": "code",
      "metadata": {
        "id": "8e03a4a2"
      },
      "source": [
        "df['diag_1'] = pd.Series(['Circulatory' if (val >=390 and val < 460) or (val == 785)\n",
        "                          else 'Respiratory' if(val  >= 460 and val < 520) or (val == 786)\n",
        "                          else 'Digestive' if (val >= 520 and val < 580) or (val == 787)\n",
        "                          else 'Diabetes' if (val == 250)\n",
        "                          else 'Injury' if (val >= 800 and val < 1000)\n",
        "                          else 'Musculoskeletal' if (val >= 710 and val < 740)\n",
        "                          else 'Genitourinary' if(val >=580  and val < 670) or (val == 788)\n",
        "                          else 'Neoplasms' if(val  >= 140 and val < 240) or (val >=240 and val < 250) or (val >250 and val < 280) or (val == 780) or (val == 781) or (val == 782) or (val == 784) or (val >= 790 and val < 800) or (val >= 600 and val < 710)\n",
        "                          else 'Other'for val in df['diag_1']], index=df.index)"
      ],
      "id": "8e03a4a2",
      "execution_count": null,
      "outputs": []
    },
    {
      "cell_type": "code",
      "metadata": {
        "id": "368520af",
        "colab": {
          "base_uri": "https://localhost:8080/"
        },
        "outputId": "5293071f-f600-4aa6-d37b-ab04e201ca49"
      },
      "source": [
        "df.diag_1.value_counts(normalize = True)"
      ],
      "id": "368520af",
      "execution_count": null,
      "outputs": [
        {
          "output_type": "execute_result",
          "data": {
            "text/plain": [
              "Circulatory        0.302176\n",
              "Neoplasms          0.190491\n",
              "Respiratory        0.142710\n",
              "Other              0.094929\n",
              "Digestive          0.093695\n",
              "Injury             0.068362\n",
              "Genitourinary      0.057357\n",
              "Musculoskeletal    0.048331\n",
              "Diabetes           0.001948\n",
              "Name: diag_1, dtype: float64"
            ]
          },
          "metadata": {},
          "execution_count": 100
        }
      ]
    },
    {
      "cell_type": "code",
      "metadata": {
        "id": "0c7af852",
        "colab": {
          "base_uri": "https://localhost:8080/"
        },
        "outputId": "4b6d6ae4-ff19-4bfc-970a-eb8372b6a297"
      },
      "source": [
        "df.diag_1.unique()"
      ],
      "id": "0c7af852",
      "execution_count": null,
      "outputs": [
        {
          "output_type": "execute_result",
          "data": {
            "text/plain": [
              "array(['Neoplasms', 'Genitourinary', 'Other', 'Circulatory',\n",
              "       'Respiratory', 'Injury', 'Musculoskeletal', 'Digestive',\n",
              "       'Diabetes'], dtype=object)"
            ]
          },
          "metadata": {},
          "execution_count": 101
        }
      ]
    },
    {
      "cell_type": "code",
      "metadata": {
        "id": "dd7e44c7",
        "colab": {
          "base_uri": "https://localhost:8080/",
          "height": 351
        },
        "outputId": "66cc2093-e523-4f3d-db9b-bc96c8636cea"
      },
      "source": [
        "plt.figure(figsize=(12,5))\n",
        "sns.countplot(x = df['diag_1'], hue=df['readmitted'],palette= 'GnBu')\n",
        "plt.title(\"diag 1 Vs Readmission\");"
      ],
      "id": "dd7e44c7",
      "execution_count": null,
      "outputs": [
        {
          "output_type": "display_data",
          "data": {
            "image/png": "[encoded data removed]",
            "text/plain": [
              "<Figure size 864x360 with 1 Axes>"
            ]
          },
          "metadata": {
            "needs_background": "light"
          }
        }
      ]
    },
    {
      "cell_type": "markdown",
      "metadata": {
        "id": "faca40be"
      },
      "source": [
        "It's surprising to note that diabetes does not lead the way in terms of primary diagnosis. In fact it is the least diagnosed. Instead patients are primarily diagnosed with a circulatory disease, some common ones being heart attacks, high-blood pressure,chest pains, high cholesterol.\n",
        "\n",
        "__Source:__ https://www.medicalnewstoday.com/articles/321695"
      ],
      "id": "faca40be"
    },
    {
      "cell_type": "code",
      "metadata": {
        "id": "6dcf9f95"
      },
      "source": [
        "#Converting back to an integer for modeling purposes moving forward.\n",
        "df['diag_1']= df.diag_1.map({'Circulatory':0, 'Respiratory':1,'Digestive':2, 'Diabetes':3, 'Injury':4,'Musculoskeletal':5,'Genitourinary':6, 'Neoplasms':7, 'Other':8})"
      ],
      "id": "6dcf9f95",
      "execution_count": null,
      "outputs": []
    },
    {
      "cell_type": "markdown",
      "metadata": {
        "id": "5fbd6042"
      },
      "source": [
        "__Consolidation of diag_2 categories.__"
      ],
      "id": "5fbd6042"
    },
    {
      "cell_type": "code",
      "metadata": {
        "id": "8ccd5595"
      },
      "source": [
        "df['diag_2'] = pd.Series(['Circulatory' if (val >=390 and val < 460) or (val == 785)\n",
        "                          else 'Respiratory' if(val  >= 460 and val < 520) or (val == 786)\n",
        "                          else 'Digestive' if (val >= 520 and val < 580) or (val == 787)\n",
        "                          else 'Diabetes' if (val == 250)\n",
        "                          else 'Injury' if (val >= 800 and val < 1000)\n",
        "                          else 'Musculoskeletal' if (val >= 710 and val < 740)\n",
        "                          else 'Genitourinary' if(val >=580  and val < 670) or (val == 788)\n",
        "                          else 'Neoplasms' if(val  >= 140 and val < 240) or (val >=240 and val < 250) or (val >250 and val < 280) or (val == 780) or (val == 781) or (val == 782) or (val == 784) or (val >= 790 and val < 800) or (val >= 600 and val < 710)\n",
        "                          else 'Other'for val in df['diag_2']], index=df.index)"
      ],
      "id": "8ccd5595",
      "execution_count": null,
      "outputs": []
    },
    {
      "cell_type": "code",
      "metadata": {
        "id": "908a7d88",
        "colab": {
          "base_uri": "https://localhost:8080/",
          "height": 351
        },
        "outputId": "994b5e7a-cf9b-4c93-dc7d-7dc2a1b54461"
      },
      "source": [
        "plt.figure(figsize=(13,5))\n",
        "sns.countplot(x = df['diag_2'], hue=df['readmitted'],palette= 'GnBu')\n",
        "plt.title(\"diag 2 Vs Readmission\");"
      ],
      "id": "908a7d88",
      "execution_count": null,
      "outputs": [
        {
          "output_type": "display_data",
          "data": {
            "image/png": "[encoded data removed]",
            "text/plain": [
              "<Figure size 936x360 with 1 Axes>"
            ]
          },
          "metadata": {
            "needs_background": "light"
          }
        }
      ]
    },
    {
      "cell_type": "code",
      "metadata": {
        "id": "de896ece"
      },
      "source": [
        "#Converting back to an integer for modeling purposes moving forward.\n",
        "df['diag_2']= df.diag_2.map({'Circulatory':0, 'Respiratory':1,'Digestive':2, 'Diabetes':3, 'Injury':4,'Musculoskeletal':5,'Genitourinary':6, 'Neoplasms':7, 'Other':8})"
      ],
      "id": "de896ece",
      "execution_count": null,
      "outputs": []
    },
    {
      "cell_type": "markdown",
      "metadata": {
        "id": "0531c768"
      },
      "source": [
        "__Consolidation of diag- 3 categories.__"
      ],
      "id": "0531c768"
    },
    {
      "cell_type": "code",
      "metadata": {
        "id": "b918fe00"
      },
      "source": [
        "df['diag_3'] = pd.Series(['Circulatory' if (val >=390 and val < 460) or (val == 785)\n",
        "                          else 'Respiratory' if(val  >= 460 and val < 520) or (val == 786)\n",
        "                          else 'Digestive' if (val >= 520 and val < 580) or (val == 787)\n",
        "                          else 'Diabetes' if (val == 250)\n",
        "                          else 'Injury' if (val >= 800 and val < 1000)\n",
        "                          else 'Musculoskeletal' if (val >= 710 and val < 740)\n",
        "                           else 'Genitourinary' if(val >=580  and val < 670) or (val == 788)\n",
        "                          else 'Neoplasms' if(val  >= 140 and val < 240) or (val >=240 and val < 250) or (val >250 and val < 280) or (val == 780) or (val == 781) or (val == 782) or (val == 784) or (val >= 790 and val < 800) or (val >= 600 and val < 710)\n",
        "                          else 'Other'for val in df['diag_3']], index=df.index)"
      ],
      "id": "b918fe00",
      "execution_count": null,
      "outputs": []
    },
    {
      "cell_type": "code",
      "metadata": {
        "id": "cf93af62",
        "colab": {
          "base_uri": "https://localhost:8080/",
          "height": 351
        },
        "outputId": "66af5e3e-4e67-4cdb-b58f-cccf346500b7"
      },
      "source": [
        "plt.figure(figsize=(12,5))\n",
        "sns.countplot(x = df['diag_3'], hue=df['readmitted'],palette= 'GnBu')\n",
        "plt.title(\"diag 3 Vs Readmission\");"
      ],
      "id": "cf93af62",
      "execution_count": null,
      "outputs": [
        {
          "output_type": "display_data",
          "data": {
            "image/png": "[encoded data removed]",
            "text/plain": [
              "<Figure size 864x360 with 1 Axes>"
            ]
          },
          "metadata": {
            "needs_background": "light"
          }
        }
      ]
    },
    {
      "cell_type": "code",
      "metadata": {
        "id": "559e7e9c"
      },
      "source": [
        "#Converting back to an integer for modeling purposes moving forward.\n",
        "df['diag_3']= df.diag_3.map({'Circulatory':0, 'Respiratory':1,'Digestive':2, 'Diabetes':3, 'Injury':4,'Musculoskeletal':5,'Genitourinary':6, 'Neoplasms':7, 'Other':8})"
      ],
      "id": "559e7e9c",
      "execution_count": null,
      "outputs": []
    },
    {
      "cell_type": "markdown",
      "metadata": {
        "id": "a9531b25"
      },
      "source": [
        "For each level of diagnoses data, it's noted that diabetes is always one of the least diagnosed diseases. "
      ],
      "id": "a9531b25"
    },
    {
      "cell_type": "markdown",
      "metadata": {
        "id": "9469ad13"
      },
      "source": [
        "__Glucose serum test Result__"
      ],
      "id": "9469ad13"
    },
    {
      "cell_type": "markdown",
      "metadata": {
        "id": "15c55297"
      },
      "source": [
        "The glucose serum test measures a person's blood sugar before and after they drink a liquid that contains glucose. \n",
        "When measured a blood sugar level of 200mg/dL or higher indicates a person has diabetes. With this in mind, I grouped our instances of of \">200\" and \">300\" together as abnormal and dummified all the observations.  \n",
        "\n",
        "[Source](https://www.cdc.gov/diabetes/basics/getting-tested.html#:~:text=Glucose%20Tolerance%20Test&text=At%202%20hours%2C%20a%20blood,higher%20indicates%20you%20have%20diabetes.)"
      ],
      "id": "15c55297"
    },
    {
      "cell_type": "code",
      "metadata": {
        "id": "18d63e88"
      },
      "source": [
        "df['max_glu_serum'] = pd.Series(['None' if val == 0 \n",
        "                                 else 'Norm' if val == 1\n",
        "                                 else \"Abnormal\" if (val == 2) or (val == 3)\n",
        "                                 else \"Other\" for val in df['max_glu_serum']], index=df.index)"
      ],
      "id": "18d63e88",
      "execution_count": null,
      "outputs": []
    },
    {
      "cell_type": "code",
      "metadata": {
        "id": "6465059a",
        "colab": {
          "base_uri": "https://localhost:8080/",
          "height": 459
        },
        "outputId": "d9e95c41-6e9b-4661-840c-580f3af4a4f5"
      },
      "source": [
        "plt.figure(figsize=(8,7))\n",
        "sns.countplot(x = df['max_glu_serum'], hue=df['readmitted'],palette= 'GnBu')\n",
        "plt.title(\"glucose serum testing\");"
      ],
      "id": "6465059a",
      "execution_count": null,
      "outputs": [
        {
          "output_type": "display_data",
          "data": {
            "image/png": "[encoded data removed]",
            "text/plain": [
              "<Figure size 576x504 with 1 Axes>"
            ]
          },
          "metadata": {
            "needs_background": "light"
          }
        }
      ]
    },
    {
      "cell_type": "code",
      "metadata": {
        "id": "a7a57c12"
      },
      "source": [
        "#Converting back to an integer for modeling purposes moving forward.\n",
        "df['max_glu_serum']= df.max_glu_serum.map({'None':0, 'Norm':1,'Abnormal':2 })"
      ],
      "id": "a7a57c12",
      "execution_count": null,
      "outputs": []
    },
    {
      "cell_type": "code",
      "metadata": {
        "id": "8b025a40",
        "colab": {
          "base_uri": "https://localhost:8080/"
        },
        "outputId": "f5823657-0a35-4d22-f400-0d96ab0eb29a"
      },
      "source": [
        "df.max_glu_serum.value_counts()"
      ],
      "id": "8b025a40",
      "execution_count": null,
      "outputs": [
        {
          "output_type": "execute_result",
          "data": {
            "text/plain": [
              "0    92844\n",
              "2     2676\n",
              "1     2532\n",
              "Name: max_glu_serum, dtype: int64"
            ]
          },
          "metadata": {},
          "execution_count": 113
        }
      ]
    },
    {
      "cell_type": "markdown",
      "metadata": {
        "id": "165518da"
      },
      "source": [
        "__A1c test result__"
      ],
      "id": "165518da"
    },
    {
      "cell_type": "markdown",
      "metadata": {
        "id": "e46eafbb"
      },
      "source": [
        "The A1C test measures your average blood sugar level over the past 2 or 3 months. An A1C below 5.7% is normal, between 5.7 and 6.4% indicates you have prediabetes, and 6.5% or higher indicates you have diabetes. With this in mind, I grouped our instances of of \">7\" and \">8\" together as abnormal and dummified all the observations. \n",
        "\n",
        "\n",
        "[Source](https://www.cdc.gov/diabetes/basics/getting-tested.html#:~:text=Glucose%20Tolerance%20Test&text=At%202%20hours%2C%20a%20blood,higher%20indicates%20you%20have%20diabetes.)"
      ],
      "id": "e46eafbb"
    },
    {
      "cell_type": "code",
      "metadata": {
        "colab": {
          "base_uri": "https://localhost:8080/"
        },
        "id": "fppSXBFc1H2l",
        "outputId": "e628ce20-e139-4626-bd3f-d5d4bcc3fe78"
      },
      "source": [
        "df.A1Cresult"
      ],
      "id": "fppSXBFc1H2l",
      "execution_count": null,
      "outputs": [
        {
          "output_type": "execute_result",
          "data": {
            "text/plain": [
              "0        0\n",
              "1        0\n",
              "2        0\n",
              "3        0\n",
              "4        0\n",
              "        ..\n",
              "98047    3\n",
              "98048    0\n",
              "98049    0\n",
              "98050    0\n",
              "98051    0\n",
              "Name: A1Cresult, Length: 98052, dtype: int64"
            ]
          },
          "metadata": {},
          "execution_count": 114
        }
      ]
    },
    {
      "cell_type": "code",
      "metadata": {
        "colab": {
          "base_uri": "https://localhost:8080/"
        },
        "id": "ia8wfmcy1iGo",
        "outputId": "80c8736b-ec4e-4642-d7e2-9847b2af826a"
      },
      "source": [
        "data = df.replace(\"?\",np.nan)\n",
        "data.isnull().sum()[data.isnull().sum()>1]/len(data)*100"
      ],
      "id": "ia8wfmcy1iGo",
      "execution_count": null,
      "outputs": [
        {
          "output_type": "execute_result",
          "data": {
            "text/plain": [
              "Series([], dtype: float64)"
            ]
          },
          "metadata": {},
          "execution_count": 115
        }
      ]
    },
    {
      "cell_type": "code",
      "metadata": {
        "id": "69c941de"
      },
      "source": [
        "df['A1Cresult'] = pd.Series([\"None\" if val == 0 \n",
        "                                 else \"Norm\" if val == 1\n",
        "                                 else \"Abnormal\" if (val == 2) or (val == 3)\n",
        "                                 else \"Other\" for val in df['A1Cresult']], index=df.index)"
      ],
      "id": "69c941de",
      "execution_count": null,
      "outputs": []
    },
    {
      "cell_type": "code",
      "metadata": {
        "id": "5c2ba5f8"
      },
      "source": [
        "df['A1Cresult']= df.A1Cresult.map({'None':0, 'Norm':1, 'Abnormal':2, '>7':2, '>8':3}) "
      ],
      "id": "5c2ba5f8",
      "execution_count": null,
      "outputs": []
    },
    {
      "cell_type": "code",
      "metadata": {
        "id": "c0d50cc5",
        "colab": {
          "base_uri": "https://localhost:8080/",
          "height": 458
        },
        "outputId": "1c09acb2-8174-4f49-ba9c-186eaca9119e"
      },
      "source": [
        "plt.figure(figsize=(8,7))\n",
        "sns.countplot(x = df['A1Cresult'], hue=df['readmitted'],palette= 'GnBu')\n",
        "plt.title(\"A1C result\");"
      ],
      "id": "c0d50cc5",
      "execution_count": null,
      "outputs": [
        {
          "output_type": "display_data",
          "data": {
            "image/png": "[encoded data removed]",
            "text/plain": [
              "<Figure size 576x504 with 1 Axes>"
            ]
          },
          "metadata": {
            "needs_background": "light"
          }
        }
      ]
    },
    {
      "cell_type": "code",
      "metadata": {
        "id": "de76aeaa"
      },
      "source": [
        "#Converting back to an integer for modeling purposes moving forward.\n",
        "#df['A1Cresult']= df.A1Cresult.map({'None':0, 'Norm':1,'Abnormal':2 })"
      ],
      "id": "de76aeaa",
      "execution_count": null,
      "outputs": []
    },
    {
      "cell_type": "code",
      "metadata": {
        "colab": {
          "base_uri": "https://localhost:8080/"
        },
        "id": "M52_HIERy6Yc",
        "outputId": "b3fc0bdf-4d66-4db7-818c-32abf40dfa82"
      },
      "source": [
        "df.A1Cresult"
      ],
      "id": "M52_HIERy6Yc",
      "execution_count": null,
      "outputs": [
        {
          "output_type": "execute_result",
          "data": {
            "text/plain": [
              "0        0\n",
              "1        0\n",
              "2        0\n",
              "3        0\n",
              "4        0\n",
              "        ..\n",
              "98047    2\n",
              "98048    0\n",
              "98049    0\n",
              "98050    0\n",
              "98051    0\n",
              "Name: A1Cresult, Length: 98052, dtype: int64"
            ]
          },
          "metadata": {},
          "execution_count": 120
        }
      ]
    },
    {
      "cell_type": "markdown",
      "metadata": {
        "id": "70f46456"
      },
      "source": [
        "__Administered Medication__"
      ],
      "id": "70f46456"
    },
    {
      "cell_type": "code",
      "metadata": {
        "id": "0e25b23b"
      },
      "source": [
        "generic_medication = ['metformin', 'repaglinide', 'nateglinide', 'chlorpropamide',\n",
        "       'glimepiride', 'acetohexamide', 'glipizide', 'glyburide', 'tolbutamide',\n",
        "       'pioglitazone', 'rosiglitazone', 'acarbose', 'miglitol', 'troglitazone',\n",
        "       'tolazamide', 'examide', 'citoglipton', 'insulin',\n",
        "       'glyburide-metformin', 'glipizide-metformin',\n",
        "       'glimepiride-pioglitazone', 'metformin-rosiglitazone',\n",
        "       'metformin-pioglitazone'] "
      ],
      "id": "0e25b23b",
      "execution_count": null,
      "outputs": []
    },
    {
      "cell_type": "markdown",
      "metadata": {
        "id": "969c3f4c"
      },
      "source": [
        "Variable indicates whether the drug was prescribed or there was a change in the dosage. \n",
        "* 0: \"No\" if the drug was not prescribed\n",
        "* 1: “steady” if the dosage did not change\n",
        "* 2: “up” if the dosage was increased during the encounter\n",
        "* 3: “down” if the dosage was decreased"
      ],
      "id": "969c3f4c"
    },
    {
      "cell_type": "code",
      "metadata": {
        "id": "c916c6a9",
        "colab": {
          "base_uri": "https://localhost:8080/",
          "height": 1000
        },
        "outputId": "25a8bc94-7dd6-403a-d2ac-4f2a31084219"
      },
      "source": [
        "my_colors = 'LightBlue'\n",
        "for col in generic_medication:\n",
        "    plt.figure(figsize=(10,6))\n",
        "    df.groupby(col)[['readmitted']].sum().plot(kind= 'bar', color = my_colors)"
      ],
      "id": "c916c6a9",
      "execution_count": null,
      "outputs": [
        {
          "output_type": "stream",
          "name": "stderr",
          "text": [
            "/usr/local/lib/python3.7/dist-packages/ipykernel_launcher.py:3: RuntimeWarning: More than 20 figures have been opened. Figures created through the pyplot interface (`matplotlib.pyplot.figure`) are retained until explicitly closed and may consume too much memory. (To control this warning, see the rcParam `figure.max_open_warning`).\n",
            "  This is separate from the ipykernel package so we can avoid doing imports until\n",
            "/usr/local/lib/python3.7/dist-packages/pandas/plotting/_matplotlib/core.py:328: RuntimeWarning: More than 20 figures have been opened. Figures created through the pyplot interface (`matplotlib.pyplot.figure`) are retained until explicitly closed and may consume too much memory. (To control this warning, see the rcParam `figure.max_open_warning`).\n",
            "  fig = self.plt.figure(figsize=self.figsize)\n"
          ]
        },
        {
          "output_type": "display_data",
          "data": {
            "text/plain": [
              "<Figure size 720x432 with 0 Axes>"
            ]
          },
          "metadata": {}
        },
        {
          "output_type": "display_data",
          "data": {
            "image/png": "[encoded data removed]",
            "text/plain": [
              "<Figure size 432x288 with 1 Axes>"
            ]
          },
          "metadata": {
            "needs_background": "light"
          }
        },
        {
          "output_type": "display_data",
          "data": {
            "text/plain": [
              "<Figure size 720x432 with 0 Axes>"
            ]
          },
          "metadata": {}
        },
        {
          "output_type": "display_data",
          "data": {
            "image/png": "[encoded data removed]",
            "text/plain": [
              "<Figure size 432x288 with 1 Axes>"
            ]
          },
          "metadata": {
            "needs_background": "light"
          }
        },
        {
          "output_type": "display_data",
          "data": {
            "text/plain": [
              "<Figure size 720x432 with 0 Axes>"
            ]
          },
          "metadata": {}
        },
        {
          "output_type": "display_data",
          "data": {
            "image/png": "[encoded data removed]",
            "text/plain": [
              "<Figure size 432x288 with 1 Axes>"
            ]
          },
          "metadata": {
            "needs_background": "light"
          }
        },
        {
          "output_type": "display_data",
          "data": {
            "text/plain": [
              "<Figure size 720x432 with 0 Axes>"
            ]
          },
          "metadata": {}
        },
        {
          "output_type": "display_data",
          "data": {
            "image/png": "[encoded data removed]",
            "text/plain": [
              "<Figure size 432x288 with 1 Axes>"
            ]
          },
          "metadata": {
            "needs_background": "light"
          }
        },
        {
          "output_type": "display_data",
          "data": {
            "text/plain": [
              "<Figure size 720x432 with 0 Axes>"
            ]
          },
          "metadata": {}
        },
        {
          "output_type": "display_data",
          "data": {
            "image/png": "[encoded data removed]",
            "text/plain": [
              "<Figure size 432x288 with 1 Axes>"
            ]
          },
          "metadata": {
            "needs_background": "light"
          }
        },
        {
          "output_type": "display_data",
          "data": {
            "text/plain": [
              "<Figure size 720x432 with 0 Axes>"
            ]
          },
          "metadata": {}
        },
        {
          "output_type": "display_data",
          "data": {
            "image/png": "[encoded data removed]",
            "text/plain": [
              "<Figure size 432x288 with 1 Axes>"
            ]
          },
          "metadata": {
            "needs_background": "light"
          }
        },
        {
          "output_type": "display_data",
          "data": {
            "text/plain": [
              "<Figure size 720x432 with 0 Axes>"
            ]
          },
          "metadata": {}
        },
        {
          "output_type": "display_data",
          "data": {
            "image/png": "[encoded data removed]",
            "text/plain": [
              "<Figure size 432x288 with 1 Axes>"
            ]
          },
          "metadata": {
            "needs_background": "light"
          }
        },
        {
          "output_type": "display_data",
          "data": {
            "text/plain": [
              "<Figure size 720x432 with 0 Axes>"
            ]
          },
          "metadata": {}
        },
        {
          "output_type": "display_data",
          "data": {
            "image/png": "[encoded data removed]",
            "text/plain": [
              "<Figure size 432x288 with 1 Axes>"
            ]
          },
          "metadata": {
            "needs_background": "light"
          }
        },
        {
          "output_type": "display_data",
          "data": {
            "text/plain": [
              "<Figure size 720x432 with 0 Axes>"
            ]
          },
          "metadata": {}
        },
        {
          "output_type": "display_data",
          "data": {
            "image/png": "[encoded data removed]",
            "text/plain": [
              "<Figure size 432x288 with 1 Axes>"
            ]
          },
          "metadata": {
            "needs_background": "light"
          }
        },
        {
          "output_type": "display_data",
          "data": {
            "text/plain": [
              "<Figure size 720x432 with 0 Axes>"
            ]
          },
          "metadata": {}
        },
        {
          "output_type": "display_data",
          "data": {
            "image/png": "[encoded data removed]",
            "text/plain": [
              "<Figure size 432x288 with 1 Axes>"
            ]
          },
          "metadata": {
            "needs_background": "light"
          }
        },
        {
          "output_type": "display_data",
          "data": {
            "text/plain": [
              "<Figure size 720x432 with 0 Axes>"
            ]
          },
          "metadata": {}
        },
        {
          "output_type": "display_data",
          "data": {
            "image/png": "[encoded data removed]",
            "text/plain": [
              "<Figure size 432x288 with 1 Axes>"
            ]
          },
          "metadata": {
            "needs_background": "light"
          }
        },
        {
          "output_type": "display_data",
          "data": {
            "text/plain": [
              "<Figure size 720x432 with 0 Axes>"
            ]
          },
          "metadata": {}
        },
        {
          "output_type": "display_data",
          "data": {
            "image/png": "[encoded data removed]",
            "text/plain": [
              "<Figure size 432x288 with 1 Axes>"
            ]
          },
          "metadata": {
            "needs_background": "light"
          }
        },
        {
          "output_type": "display_data",
          "data": {
            "text/plain": [
              "<Figure size 720x432 with 0 Axes>"
            ]
          },
          "metadata": {}
        },
        {
          "output_type": "display_data",
          "data": {
            "image/png": "[encoded data removed]",
            "text/plain": [
              "<Figure size 432x288 with 1 Axes>"
            ]
          },
          "metadata": {
            "needs_background": "light"
          }
        },
        {
          "output_type": "display_data",
          "data": {
            "text/plain": [
              "<Figure size 720x432 with 0 Axes>"
            ]
          },
          "metadata": {}
        },
        {
          "output_type": "display_data",
          "data": {
            "image/png": "[encoded data removed]",
            "text/plain": [
              "<Figure size 432x288 with 1 Axes>"
            ]
          },
          "metadata": {
            "needs_background": "light"
          }
        },
        {
          "output_type": "display_data",
          "data": {
            "text/plain": [
              "<Figure size 720x432 with 0 Axes>"
            ]
          },
          "metadata": {}
        },
        {
          "output_type": "display_data",
          "data": {
            "image/png": "[encoded data removed]",
            "text/plain": [
              "<Figure size 432x288 with 1 Axes>"
            ]
          },
          "metadata": {
            "needs_background": "light"
          }
        },
        {
          "output_type": "display_data",
          "data": {
            "text/plain": [
              "<Figure size 720x432 with 0 Axes>"
            ]
          },
          "metadata": {}
        },
        {
          "output_type": "display_data",
          "data": {
            "image/png": "[encoded data removed]",
            "text/plain": [
              "<Figure size 432x288 with 1 Axes>"
            ]
          },
          "metadata": {
            "needs_background": "light"
          }
        },
        {
          "output_type": "display_data",
          "data": {
            "text/plain": [
              "<Figure size 720x432 with 0 Axes>"
            ]
          },
          "metadata": {}
        },
        {
          "output_type": "display_data",
          "data": {
            "image/png": "[encoded data removed]",
            "text/plain": [
              "<Figure size 432x288 with 1 Axes>"
            ]
          },
          "metadata": {
            "needs_background": "light"
          }
        },
        {
          "output_type": "display_data",
          "data": {
            "text/plain": [
              "<Figure size 720x432 with 0 Axes>"
            ]
          },
          "metadata": {}
        },
        {
          "output_type": "display_data",
          "data": {
            "image/png": "[encoded data removed]",
            "text/plain": [
              "<Figure size 432x288 with 1 Axes>"
            ]
          },
          "metadata": {
            "needs_background": "light"
          }
        },
        {
          "output_type": "display_data",
          "data": {
            "text/plain": [
              "<Figure size 720x432 with 0 Axes>"
            ]
          },
          "metadata": {}
        },
        {
          "output_type": "display_data",
          "data": {
            "image/png": "[encoded data removed]",
            "text/plain": [
              "<Figure size 432x288 with 1 Axes>"
            ]
          },
          "metadata": {
            "needs_background": "light"
          }
        },
        {
          "output_type": "display_data",
          "data": {
            "text/plain": [
              "<Figure size 720x432 with 0 Axes>"
            ]
          },
          "metadata": {}
        },
        {
          "output_type": "display_data",
          "data": {
            "image/png": "[encoded data removed]",
            "text/plain": [
              "<Figure size 432x288 with 1 Axes>"
            ]
          },
          "metadata": {
            "needs_background": "light"
          }
        },
        {
          "output_type": "display_data",
          "data": {
            "text/plain": [
              "<Figure size 720x432 with 0 Axes>"
            ]
          },
          "metadata": {}
        },
        {
          "output_type": "display_data",
          "data": {
            "image/png": "[encoded data removed]",
            "text/plain": [
              "<Figure size 432x288 with 1 Axes>"
            ]
          },
          "metadata": {
            "needs_background": "light"
          }
        },
        {
          "output_type": "display_data",
          "data": {
            "text/plain": [
              "<Figure size 720x432 with 0 Axes>"
            ]
          },
          "metadata": {}
        },
        {
          "output_type": "display_data",
          "data": {
            "image/png": "[encoded data removed]",
            "text/plain": [
              "<Figure size 432x288 with 1 Axes>"
            ]
          },
          "metadata": {
            "needs_background": "light"
          }
        },
        {
          "output_type": "display_data",
          "data": {
            "text/plain": [
              "<Figure size 720x432 with 0 Axes>"
            ]
          },
          "metadata": {}
        },
        {
          "output_type": "display_data",
          "data": {
            "image/png": "[encoded data removed]",
            "text/plain": [
              "<Figure size 432x288 with 1 Axes>"
            ]
          },
          "metadata": {
            "needs_background": "light"
          }
        }
      ]
    },
    {
      "cell_type": "markdown",
      "metadata": {
        "id": "5ad71e7c"
      },
      "source": [
        "Based on the graphs above, I determined that the following medications were not administered at all, value of \"0\", I decided to drop these since they had no impact on our overall outcomes.\n",
        " \n",
        "* chlorpropamide\n",
        "* acetohexamide\n",
        "* troglitazone \n",
        "* tolbutamide\n",
        "* acarbose\n",
        "* miglitol\n",
        "* troglitazone\n",
        "* tolazamide\n",
        "* examide\n",
        "* citoglipton\n",
        "* glipizide-metformin\n",
        "* glimepiride-pioglitazone\n",
        "* metformin-rosiglitazone\n",
        "* metformin-pioglitazone "
      ],
      "id": "5ad71e7c"
    },
    {
      "cell_type": "code",
      "metadata": {
        "id": "5e45d692"
      },
      "source": [
        "df.drop(['chlorpropamide','acetohexamide','troglitazone','acarbose','tolbutamide','miglitol','troglitazone','tolazamide','examide','citoglipton',\n",
        "         'glipizide-metformin','glimepiride-pioglitazone','metformin-rosiglitazone','metformin-pioglitazone'], axis=1, inplace=True)"
      ],
      "id": "5e45d692",
      "execution_count": null,
      "outputs": []
    },
    {
      "cell_type": "markdown",
      "metadata": {
        "id": "5fd819ac"
      },
      "source": [
        "__Change of Medication__"
      ],
      "id": "5fd819ac"
    },
    {
      "cell_type": "code",
      "metadata": {
        "id": "2a155817",
        "colab": {
          "base_uri": "https://localhost:8080/",
          "height": 404
        },
        "outputId": "1d39a7fd-dcf4-48c5-8284-ce8536a3c57d"
      },
      "source": [
        "plt.figure(figsize=(7,6))\n",
        "sns.countplot(x = df['change'], hue=df['readmitted'],palette= 'GnBu')\n",
        "plt.title(\"Change of Medication\");"
      ],
      "id": "2a155817",
      "execution_count": null,
      "outputs": [
        {
          "output_type": "display_data",
          "data": {
            "image/png": "[encoded data removed]",
            "text/plain": [
              "<Figure size 504x432 with 1 Axes>"
            ]
          },
          "metadata": {
            "needs_background": "light"
          }
        }
      ]
    },
    {
      "cell_type": "markdown",
      "metadata": {
        "id": "26e8ca32"
      },
      "source": [
        "__Diabetes Medication Prescribed__"
      ],
      "id": "26e8ca32"
    },
    {
      "cell_type": "code",
      "metadata": {
        "id": "c5f0dc71",
        "colab": {
          "base_uri": "https://localhost:8080/",
          "height": 350
        },
        "outputId": "6bb02791-11c4-4dc1-f2fb-d0331639536e"
      },
      "source": [
        "plt.figure(figsize=(6,5))\n",
        "sns.countplot(x = df['diabetesMed'], hue=df['readmitted'],palette= 'GnBu')\n",
        "plt.title(\"Diabete sMed presecibed\");"
      ],
      "id": "c5f0dc71",
      "execution_count": null,
      "outputs": [
        {
          "output_type": "display_data",
          "data": {
            "image/png": "[encoded data removed]",
            "text/plain": [
              "<Figure size 432x360 with 1 Axes>"
            ]
          },
          "metadata": {
            "needs_background": "light"
          }
        }
      ]
    },
    {
      "cell_type": "markdown",
      "metadata": {
        "id": "14816d7a"
      },
      "source": [
        "__NON CATEGORICAL FEATURES__"
      ],
      "id": "14816d7a"
    },
    {
      "cell_type": "code",
      "metadata": {
        "id": "5245b183"
      },
      "source": [
        "non_cat_columns = ['time_in_hospital','num_lab_procedures','num_procedures','num_medications','number_outpatient','number_emergency','number_inpatient','number_diagnoses',]"
      ],
      "id": "5245b183",
      "execution_count": null,
      "outputs": []
    },
    {
      "cell_type": "code",
      "metadata": {
        "id": "94c31b68",
        "colab": {
          "base_uri": "https://localhost:8080/",
          "height": 302
        },
        "outputId": "c6aa9c15-cea2-4a46-87a3-1b0079f23e90"
      },
      "source": [
        "plt.tight_layout()\n",
        "fig, axes = plt.subplots(nrows=1, ncols=8, figsize=(30,5))\n",
        "\n",
        "for ix, col in enumerate(non_cat_columns):\n",
        "    sns.histplot(df[col], kde=False, label=col, ax=axes[ix])\n",
        "    axes[ix].set_xlabel(f'Distributions {col}')\n",
        "\n",
        "plt.suptitle('Distributions', fontsize=15)\n",
        "plt.show();"
      ],
      "id": "94c31b68",
      "execution_count": null,
      "outputs": [
        {
          "output_type": "display_data",
          "data": {
            "text/plain": [
              "<Figure size 432x288 with 0 Axes>"
            ]
          },
          "metadata": {}
        },
        {
          "output_type": "display_data",
          "data": {
            "image/png": "[encoded data removed]",
            "text/plain": [
              "<Figure size 2160x360 with 8 Axes>"
            ]
          },
          "metadata": {
            "needs_background": "light"
          }
        }
      ]
    },
    {
      "cell_type": "markdown",
      "metadata": {
        "id": "a874d810"
      },
      "source": [
        "__Time In Hospital__"
      ],
      "id": "a874d810"
    },
    {
      "cell_type": "code",
      "metadata": {
        "id": "1bdb52f0",
        "colab": {
          "base_uri": "https://localhost:8080/"
        },
        "outputId": "1a7f6dbd-6293-4510-b77b-762a17df6bca"
      },
      "source": [
        "df.time_in_hospital.describe()"
      ],
      "id": "1bdb52f0",
      "execution_count": null,
      "outputs": [
        {
          "output_type": "execute_result",
          "data": {
            "text/plain": [
              "count    98052.000000\n",
              "mean         4.422011\n",
              "std          2.993070\n",
              "min          1.000000\n",
              "25%          2.000000\n",
              "50%          4.000000\n",
              "75%          6.000000\n",
              "max         14.000000\n",
              "Name: time_in_hospital, dtype: float64"
            ]
          },
          "metadata": {},
          "execution_count": 836
        }
      ]
    },
    {
      "cell_type": "markdown",
      "metadata": {
        "id": "4ebe00fa"
      },
      "source": [
        "On average patients spent 4.4 days in the hospital. Shortest being 1 day and the longest being a total of 14 days. "
      ],
      "id": "4ebe00fa"
    },
    {
      "cell_type": "code",
      "metadata": {
        "id": "6308fb4d",
        "colab": {
          "base_uri": "https://localhost:8080/",
          "height": 421
        },
        "outputId": "32a26bf2-0697-4f13-d2a5-d8fbf458a1e5"
      },
      "source": [
        "fig = plt.figure(figsize=(12,6),)\n",
        "ax=sns.kdeplot(df.loc[(df['readmitted'] == 0),'time_in_hospital'] , color='g',shade=True,label='Not Readmitted')\n",
        "ax=sns.kdeplot(df.loc[(df['readmitted'] == 1),'time_in_hospital'] , color='b',shade=True, label='Readmitted')\n",
        "ax.set(xlabel='Time in Hospital', ylabel='Frequency')\n",
        "plt.title('Time in Hospital VS. Readmission')"
      ],
      "id": "6308fb4d",
      "execution_count": null,
      "outputs": [
        {
          "output_type": "execute_result",
          "data": {
            "text/plain": [
              "Text(0.5, 1.0, 'Time in Hospital VS. Readmission')"
            ]
          },
          "metadata": {},
          "execution_count": 837
        },
        {
          "output_type": "display_data",
          "data": {
            "image/png": "[encoded data removed]",
            "text/plain": [
              "<Figure size 864x432 with 1 Axes>"
            ]
          },
          "metadata": {
            "needs_background": "light"
          }
        }
      ]
    },
    {
      "cell_type": "markdown",
      "metadata": {
        "id": "8670ab28"
      },
      "source": [
        "__Number of lab procedures__"
      ],
      "id": "8670ab28"
    },
    {
      "cell_type": "code",
      "metadata": {
        "id": "56209e4a",
        "colab": {
          "base_uri": "https://localhost:8080/"
        },
        "outputId": "e5852679-de76-4706-a6cd-2edb492f2367"
      },
      "source": [
        "df.num_lab_procedures.describe()"
      ],
      "id": "56209e4a",
      "execution_count": null,
      "outputs": [
        {
          "output_type": "execute_result",
          "data": {
            "text/plain": [
              "count    98052.000000\n",
              "mean        43.148462\n",
              "std         19.711757\n",
              "min          1.000000\n",
              "25%         31.000000\n",
              "50%         44.000000\n",
              "75%         57.000000\n",
              "max        132.000000\n",
              "Name: num_lab_procedures, dtype: float64"
            ]
          },
          "metadata": {},
          "execution_count": 838
        }
      ]
    },
    {
      "cell_type": "markdown",
      "metadata": {
        "id": "65f67153"
      },
      "source": [
        "* The graph displayed above looks normally distributed with some exception, there seems to be a greater percentage of 0 lab tests performed during initial admission. On average 43 lab tests were performed during the patients' initial admission with a max of 132 performed, for a lay person that seems like a lot of procedures to perform on one patient. A look at the outliers indicates just that with the boxplot displayed below. It looks like anything past 96 procedures isn't the norm. "
      ],
      "id": "65f67153"
    },
    {
      "cell_type": "code",
      "metadata": {
        "id": "a411fe0d",
        "colab": {
          "base_uri": "https://localhost:8080/",
          "height": 297
        },
        "outputId": "3629611a-da70-4314-e1e9-5e13b40000f1"
      },
      "source": [
        "sns.boxplot(x=df['num_lab_procedures'], palette=\"GnBu\")"
      ],
      "id": "a411fe0d",
      "execution_count": null,
      "outputs": [
        {
          "output_type": "execute_result",
          "data": {
            "text/plain": [
              "<matplotlib.axes._subplots.AxesSubplot at 0x7f25679b5f10>"
            ]
          },
          "metadata": {},
          "execution_count": 839
        },
        {
          "output_type": "display_data",
          "data": {
            "image/png": "[encoded data removed]",
            "text/plain": [
              "<Figure size 432x288 with 1 Axes>"
            ]
          },
          "metadata": {
            "needs_background": "light"
          }
        }
      ]
    },
    {
      "cell_type": "code",
      "metadata": {
        "id": "6d1849dd",
        "colab": {
          "base_uri": "https://localhost:8080/"
        },
        "outputId": "e3cbf03e-6548-448d-ff68-61c07523fc42"
      },
      "source": [
        "Q1 = df.num_lab_procedures.quantile(0.25)\n",
        "Q3 = df.num_lab_procedures.quantile(0.75)\n",
        "IQR = Q3 - Q1\n",
        "print(IQR)"
      ],
      "id": "6d1849dd",
      "execution_count": null,
      "outputs": [
        {
          "output_type": "stream",
          "name": "stdout",
          "text": [
            "26.0\n"
          ]
        }
      ]
    },
    {
      "cell_type": "code",
      "metadata": {
        "id": "4f4a9776",
        "colab": {
          "base_uri": "https://localhost:8080/"
        },
        "outputId": "76508cbf-8d4e-4882-992f-d2f9bd46ad1f"
      },
      "source": [
        "lower_limit = Q1-1.5*IQR\n",
        "upper_limit = Q3+1.5*IQR\n",
        "lower_limit, upper_limit"
      ],
      "id": "4f4a9776",
      "execution_count": null,
      "outputs": [
        {
          "output_type": "execute_result",
          "data": {
            "text/plain": [
              "(-8.0, 96.0)"
            ]
          },
          "metadata": {},
          "execution_count": 841
        }
      ]
    },
    {
      "cell_type": "code",
      "metadata": {
        "id": "973cfdee",
        "colab": {
          "base_uri": "https://localhost:8080/",
          "height": 626
        },
        "outputId": "18af0291-aa58-4fc3-8a34-94850c01c700"
      },
      "source": [
        "outliers = df[(df.num_lab_procedures<lower_limit)|(df.num_lab_procedures>upper_limit)]\n",
        "outliers"
      ],
      "id": "973cfdee",
      "execution_count": null,
      "outputs": [
        {
          "output_type": "execute_result",
          "data": {
            "text/html": [
              "<div>\n",
              "<style scoped>\n",
              "    .dataframe tbody tr th:only-of-type {\n",
              "        vertical-align: middle;\n",
              "    }\n",
              "\n",
              "    .dataframe tbody tr th {\n",
              "        vertical-align: top;\n",
              "    }\n",
              "\n",
              "    .dataframe thead th {\n",
              "        text-align: right;\n",
              "    }\n",
              "</style>\n",
              "<table border=\"1\" class=\"dataframe\">\n",
              "  <thead>\n",
              "    <tr style=\"text-align: right;\">\n",
              "      <th></th>\n",
              "      <th>race</th>\n",
              "      <th>gender</th>\n",
              "      <th>age</th>\n",
              "      <th>admission_type_id</th>\n",
              "      <th>discharge_disposition_id</th>\n",
              "      <th>admission_source_id</th>\n",
              "      <th>time_in_hospital</th>\n",
              "      <th>num_lab_procedures</th>\n",
              "      <th>num_procedures</th>\n",
              "      <th>num_medications</th>\n",
              "      <th>number_outpatient</th>\n",
              "      <th>number_emergency</th>\n",
              "      <th>number_inpatient</th>\n",
              "      <th>diag_1</th>\n",
              "      <th>diag_2</th>\n",
              "      <th>diag_3</th>\n",
              "      <th>number_diagnoses</th>\n",
              "      <th>max_glu_serum</th>\n",
              "      <th>A1Cresult</th>\n",
              "      <th>metformin</th>\n",
              "      <th>repaglinide</th>\n",
              "      <th>nateglinide</th>\n",
              "      <th>glimepiride</th>\n",
              "      <th>glipizide</th>\n",
              "      <th>glyburide</th>\n",
              "      <th>pioglitazone</th>\n",
              "      <th>rosiglitazone</th>\n",
              "      <th>insulin</th>\n",
              "      <th>glyburide-metformin</th>\n",
              "      <th>change</th>\n",
              "      <th>diabetesMed</th>\n",
              "      <th>readmitted</th>\n",
              "      <th>age_range</th>\n",
              "    </tr>\n",
              "  </thead>\n",
              "  <tbody>\n",
              "    <tr>\n",
              "      <th>313</th>\n",
              "      <td>0</td>\n",
              "      <td>1</td>\n",
              "      <td>[30-40)</td>\n",
              "      <td>3</td>\n",
              "      <td>1</td>\n",
              "      <td>2</td>\n",
              "      <td>12</td>\n",
              "      <td>103</td>\n",
              "      <td>4</td>\n",
              "      <td>61</td>\n",
              "      <td>0</td>\n",
              "      <td>0</td>\n",
              "      <td>0</td>\n",
              "      <td>1</td>\n",
              "      <td>0</td>\n",
              "      <td>7</td>\n",
              "      <td>9</td>\n",
              "      <td>0</td>\n",
              "      <td>2</td>\n",
              "      <td>0</td>\n",
              "      <td>0</td>\n",
              "      <td>0</td>\n",
              "      <td>0</td>\n",
              "      <td>0</td>\n",
              "      <td>0</td>\n",
              "      <td>0</td>\n",
              "      <td>0</td>\n",
              "      <td>2</td>\n",
              "      <td>0</td>\n",
              "      <td>0</td>\n",
              "      <td>1</td>\n",
              "      <td>0</td>\n",
              "      <td>4</td>\n",
              "    </tr>\n",
              "    <tr>\n",
              "      <th>579</th>\n",
              "      <td>1</td>\n",
              "      <td>0</td>\n",
              "      <td>[60-70)</td>\n",
              "      <td>3</td>\n",
              "      <td>1</td>\n",
              "      <td>0</td>\n",
              "      <td>8</td>\n",
              "      <td>97</td>\n",
              "      <td>1</td>\n",
              "      <td>23</td>\n",
              "      <td>0</td>\n",
              "      <td>0</td>\n",
              "      <td>0</td>\n",
              "      <td>7</td>\n",
              "      <td>7</td>\n",
              "      <td>2</td>\n",
              "      <td>9</td>\n",
              "      <td>0</td>\n",
              "      <td>2</td>\n",
              "      <td>0</td>\n",
              "      <td>0</td>\n",
              "      <td>0</td>\n",
              "      <td>0</td>\n",
              "      <td>0</td>\n",
              "      <td>0</td>\n",
              "      <td>0</td>\n",
              "      <td>0</td>\n",
              "      <td>1</td>\n",
              "      <td>0</td>\n",
              "      <td>1</td>\n",
              "      <td>1</td>\n",
              "      <td>0</td>\n",
              "      <td>8</td>\n",
              "    </tr>\n",
              "    <tr>\n",
              "      <th>769</th>\n",
              "      <td>0</td>\n",
              "      <td>1</td>\n",
              "      <td>[80-90)</td>\n",
              "      <td>3</td>\n",
              "      <td>0</td>\n",
              "      <td>0</td>\n",
              "      <td>7</td>\n",
              "      <td>105</td>\n",
              "      <td>3</td>\n",
              "      <td>16</td>\n",
              "      <td>0</td>\n",
              "      <td>0</td>\n",
              "      <td>0</td>\n",
              "      <td>0</td>\n",
              "      <td>7</td>\n",
              "      <td>7</td>\n",
              "      <td>5</td>\n",
              "      <td>2</td>\n",
              "      <td>2</td>\n",
              "      <td>0</td>\n",
              "      <td>0</td>\n",
              "      <td>0</td>\n",
              "      <td>0</td>\n",
              "      <td>1</td>\n",
              "      <td>0</td>\n",
              "      <td>0</td>\n",
              "      <td>0</td>\n",
              "      <td>0</td>\n",
              "      <td>0</td>\n",
              "      <td>1</td>\n",
              "      <td>1</td>\n",
              "      <td>1</td>\n",
              "      <td>7</td>\n",
              "    </tr>\n",
              "    <tr>\n",
              "      <th>776</th>\n",
              "      <td>1</td>\n",
              "      <td>1</td>\n",
              "      <td>[50-60)</td>\n",
              "      <td>3</td>\n",
              "      <td>0</td>\n",
              "      <td>0</td>\n",
              "      <td>9</td>\n",
              "      <td>103</td>\n",
              "      <td>1</td>\n",
              "      <td>18</td>\n",
              "      <td>0</td>\n",
              "      <td>0</td>\n",
              "      <td>0</td>\n",
              "      <td>0</td>\n",
              "      <td>6</td>\n",
              "      <td>7</td>\n",
              "      <td>5</td>\n",
              "      <td>2</td>\n",
              "      <td>0</td>\n",
              "      <td>0</td>\n",
              "      <td>0</td>\n",
              "      <td>0</td>\n",
              "      <td>0</td>\n",
              "      <td>0</td>\n",
              "      <td>0</td>\n",
              "      <td>0</td>\n",
              "      <td>0</td>\n",
              "      <td>1</td>\n",
              "      <td>0</td>\n",
              "      <td>1</td>\n",
              "      <td>1</td>\n",
              "      <td>1</td>\n",
              "      <td>6</td>\n",
              "    </tr>\n",
              "    <tr>\n",
              "      <th>1006</th>\n",
              "      <td>1</td>\n",
              "      <td>0</td>\n",
              "      <td>[50-60)</td>\n",
              "      <td>3</td>\n",
              "      <td>1</td>\n",
              "      <td>2</td>\n",
              "      <td>10</td>\n",
              "      <td>98</td>\n",
              "      <td>5</td>\n",
              "      <td>42</td>\n",
              "      <td>0</td>\n",
              "      <td>0</td>\n",
              "      <td>0</td>\n",
              "      <td>2</td>\n",
              "      <td>7</td>\n",
              "      <td>7</td>\n",
              "      <td>9</td>\n",
              "      <td>0</td>\n",
              "      <td>0</td>\n",
              "      <td>0</td>\n",
              "      <td>0</td>\n",
              "      <td>0</td>\n",
              "      <td>0</td>\n",
              "      <td>0</td>\n",
              "      <td>0</td>\n",
              "      <td>0</td>\n",
              "      <td>0</td>\n",
              "      <td>1</td>\n",
              "      <td>0</td>\n",
              "      <td>1</td>\n",
              "      <td>1</td>\n",
              "      <td>1</td>\n",
              "      <td>6</td>\n",
              "    </tr>\n",
              "    <tr>\n",
              "      <th>...</th>\n",
              "      <td>...</td>\n",
              "      <td>...</td>\n",
              "      <td>...</td>\n",
              "      <td>...</td>\n",
              "      <td>...</td>\n",
              "      <td>...</td>\n",
              "      <td>...</td>\n",
              "      <td>...</td>\n",
              "      <td>...</td>\n",
              "      <td>...</td>\n",
              "      <td>...</td>\n",
              "      <td>...</td>\n",
              "      <td>...</td>\n",
              "      <td>...</td>\n",
              "      <td>...</td>\n",
              "      <td>...</td>\n",
              "      <td>...</td>\n",
              "      <td>...</td>\n",
              "      <td>...</td>\n",
              "      <td>...</td>\n",
              "      <td>...</td>\n",
              "      <td>...</td>\n",
              "      <td>...</td>\n",
              "      <td>...</td>\n",
              "      <td>...</td>\n",
              "      <td>...</td>\n",
              "      <td>...</td>\n",
              "      <td>...</td>\n",
              "      <td>...</td>\n",
              "      <td>...</td>\n",
              "      <td>...</td>\n",
              "      <td>...</td>\n",
              "      <td>...</td>\n",
              "    </tr>\n",
              "    <tr>\n",
              "      <th>95956</th>\n",
              "      <td>0</td>\n",
              "      <td>0</td>\n",
              "      <td>[30-40)</td>\n",
              "      <td>0</td>\n",
              "      <td>0</td>\n",
              "      <td>0</td>\n",
              "      <td>13</td>\n",
              "      <td>99</td>\n",
              "      <td>1</td>\n",
              "      <td>34</td>\n",
              "      <td>0</td>\n",
              "      <td>0</td>\n",
              "      <td>0</td>\n",
              "      <td>7</td>\n",
              "      <td>6</td>\n",
              "      <td>6</td>\n",
              "      <td>9</td>\n",
              "      <td>0</td>\n",
              "      <td>0</td>\n",
              "      <td>0</td>\n",
              "      <td>0</td>\n",
              "      <td>0</td>\n",
              "      <td>0</td>\n",
              "      <td>0</td>\n",
              "      <td>0</td>\n",
              "      <td>0</td>\n",
              "      <td>0</td>\n",
              "      <td>3</td>\n",
              "      <td>0</td>\n",
              "      <td>0</td>\n",
              "      <td>1</td>\n",
              "      <td>0</td>\n",
              "      <td>4</td>\n",
              "    </tr>\n",
              "    <tr>\n",
              "      <th>96790</th>\n",
              "      <td>0</td>\n",
              "      <td>1</td>\n",
              "      <td>[90-100)</td>\n",
              "      <td>0</td>\n",
              "      <td>1</td>\n",
              "      <td>0</td>\n",
              "      <td>8</td>\n",
              "      <td>100</td>\n",
              "      <td>0</td>\n",
              "      <td>14</td>\n",
              "      <td>0</td>\n",
              "      <td>0</td>\n",
              "      <td>0</td>\n",
              "      <td>6</td>\n",
              "      <td>1</td>\n",
              "      <td>0</td>\n",
              "      <td>9</td>\n",
              "      <td>0</td>\n",
              "      <td>0</td>\n",
              "      <td>0</td>\n",
              "      <td>0</td>\n",
              "      <td>0</td>\n",
              "      <td>0</td>\n",
              "      <td>0</td>\n",
              "      <td>0</td>\n",
              "      <td>0</td>\n",
              "      <td>0</td>\n",
              "      <td>0</td>\n",
              "      <td>0</td>\n",
              "      <td>1</td>\n",
              "      <td>0</td>\n",
              "      <td>0</td>\n",
              "      <td>3</td>\n",
              "    </tr>\n",
              "    <tr>\n",
              "      <th>97002</th>\n",
              "      <td>0</td>\n",
              "      <td>1</td>\n",
              "      <td>[30-40)</td>\n",
              "      <td>0</td>\n",
              "      <td>0</td>\n",
              "      <td>0</td>\n",
              "      <td>7</td>\n",
              "      <td>97</td>\n",
              "      <td>1</td>\n",
              "      <td>24</td>\n",
              "      <td>4</td>\n",
              "      <td>1</td>\n",
              "      <td>1</td>\n",
              "      <td>7</td>\n",
              "      <td>7</td>\n",
              "      <td>7</td>\n",
              "      <td>9</td>\n",
              "      <td>0</td>\n",
              "      <td>0</td>\n",
              "      <td>0</td>\n",
              "      <td>0</td>\n",
              "      <td>0</td>\n",
              "      <td>0</td>\n",
              "      <td>0</td>\n",
              "      <td>0</td>\n",
              "      <td>0</td>\n",
              "      <td>0</td>\n",
              "      <td>0</td>\n",
              "      <td>0</td>\n",
              "      <td>1</td>\n",
              "      <td>0</td>\n",
              "      <td>1</td>\n",
              "      <td>4</td>\n",
              "    </tr>\n",
              "    <tr>\n",
              "      <th>97835</th>\n",
              "      <td>0</td>\n",
              "      <td>1</td>\n",
              "      <td>[40-50)</td>\n",
              "      <td>0</td>\n",
              "      <td>1</td>\n",
              "      <td>0</td>\n",
              "      <td>9</td>\n",
              "      <td>98</td>\n",
              "      <td>6</td>\n",
              "      <td>42</td>\n",
              "      <td>0</td>\n",
              "      <td>0</td>\n",
              "      <td>0</td>\n",
              "      <td>0</td>\n",
              "      <td>7</td>\n",
              "      <td>8</td>\n",
              "      <td>9</td>\n",
              "      <td>0</td>\n",
              "      <td>2</td>\n",
              "      <td>0</td>\n",
              "      <td>0</td>\n",
              "      <td>0</td>\n",
              "      <td>0</td>\n",
              "      <td>0</td>\n",
              "      <td>0</td>\n",
              "      <td>0</td>\n",
              "      <td>0</td>\n",
              "      <td>2</td>\n",
              "      <td>0</td>\n",
              "      <td>0</td>\n",
              "      <td>1</td>\n",
              "      <td>0</td>\n",
              "      <td>5</td>\n",
              "    </tr>\n",
              "    <tr>\n",
              "      <th>97879</th>\n",
              "      <td>1</td>\n",
              "      <td>1</td>\n",
              "      <td>[20-30)</td>\n",
              "      <td>0</td>\n",
              "      <td>0</td>\n",
              "      <td>0</td>\n",
              "      <td>12</td>\n",
              "      <td>101</td>\n",
              "      <td>6</td>\n",
              "      <td>38</td>\n",
              "      <td>0</td>\n",
              "      <td>0</td>\n",
              "      <td>0</td>\n",
              "      <td>7</td>\n",
              "      <td>0</td>\n",
              "      <td>5</td>\n",
              "      <td>9</td>\n",
              "      <td>0</td>\n",
              "      <td>1</td>\n",
              "      <td>0</td>\n",
              "      <td>0</td>\n",
              "      <td>0</td>\n",
              "      <td>0</td>\n",
              "      <td>0</td>\n",
              "      <td>0</td>\n",
              "      <td>0</td>\n",
              "      <td>0</td>\n",
              "      <td>2</td>\n",
              "      <td>0</td>\n",
              "      <td>0</td>\n",
              "      <td>1</td>\n",
              "      <td>0</td>\n",
              "      <td>2</td>\n",
              "    </tr>\n",
              "  </tbody>\n",
              "</table>\n",
              "<p>142 rows × 33 columns</p>\n",
              "</div>"
            ],
            "text/plain": [
              "       race  gender       age  ...  diabetesMed  readmitted  age_range\n",
              "313       0       1   [30-40)  ...            1           0          4\n",
              "579       1       0   [60-70)  ...            1           0          8\n",
              "769       0       1   [80-90)  ...            1           1          7\n",
              "776       1       1   [50-60)  ...            1           1          6\n",
              "1006      1       0   [50-60)  ...            1           1          6\n",
              "...     ...     ...       ...  ...          ...         ...        ...\n",
              "95956     0       0   [30-40)  ...            1           0          4\n",
              "96790     0       1  [90-100)  ...            0           0          3\n",
              "97002     0       1   [30-40)  ...            0           1          4\n",
              "97835     0       1   [40-50)  ...            1           0          5\n",
              "97879     1       1   [20-30)  ...            1           0          2\n",
              "\n",
              "[142 rows x 33 columns]"
            ]
          },
          "metadata": {},
          "execution_count": 842
        }
      ]
    },
    {
      "cell_type": "markdown",
      "metadata": {
        "id": "0d9441de"
      },
      "source": [
        "142 observations lie outside the threshold. I've decided to drop these outliers to reduce as much bias as I possibly can. "
      ],
      "id": "0d9441de"
    },
    {
      "cell_type": "code",
      "metadata": {
        "id": "b3376231"
      },
      "source": [
        "df = df[(df['num_lab_procedures']>lower_limit)&(df['num_lab_procedures']<upper_limit)]"
      ],
      "id": "b3376231",
      "execution_count": null,
      "outputs": []
    },
    {
      "cell_type": "code",
      "metadata": {
        "id": "42b8b9dd",
        "colab": {
          "base_uri": "https://localhost:8080/"
        },
        "outputId": "7f940abc-76cd-4983-b14f-44db20ba55ac"
      },
      "source": [
        "df.shape"
      ],
      "id": "42b8b9dd",
      "execution_count": null,
      "outputs": [
        {
          "output_type": "execute_result",
          "data": {
            "text/plain": [
              "(97882, 33)"
            ]
          },
          "metadata": {},
          "execution_count": 844
        }
      ]
    },
    {
      "cell_type": "code",
      "metadata": {
        "id": "8ce32ff9",
        "colab": {
          "base_uri": "https://localhost:8080/",
          "height": 421
        },
        "outputId": "282b9d58-97bd-4704-d27c-766c98cc2054"
      },
      "source": [
        "fig = plt.figure(figsize=(12,6),)\n",
        "ax=sns.kdeplot(df.loc[(df['readmitted'] == 0),'num_lab_procedures'] , color='g',shade=True,label='Not Readmitted')\n",
        "ax=sns.kdeplot(df.loc[(df['readmitted'] == 1),'num_lab_procedures'] , color='b',shade=True, label='Readmitted')\n",
        "ax.set(xlabel='Time in Hospital', ylabel='Frequency')\n",
        "plt.title('Number of Lab Procedures VS. Readmission')"
      ],
      "id": "8ce32ff9",
      "execution_count": null,
      "outputs": [
        {
          "output_type": "execute_result",
          "data": {
            "text/plain": [
              "Text(0.5, 1.0, 'Number of Lab Procedures VS. Readmission')"
            ]
          },
          "metadata": {},
          "execution_count": 845
        },
        {
          "output_type": "display_data",
          "data": {
            "image/png": "[encoded data removed]",
            "text/plain": [
              "<Figure size 864x432 with 1 Axes>"
            ]
          },
          "metadata": {
            "needs_background": "light"
          }
        }
      ]
    },
    {
      "cell_type": "markdown",
      "metadata": {
        "id": "db0edefd"
      },
      "source": [
        "__Number of Procedures__"
      ],
      "id": "db0edefd"
    },
    {
      "cell_type": "code",
      "metadata": {
        "id": "c2bcd164",
        "colab": {
          "base_uri": "https://localhost:8080/"
        },
        "outputId": "9249a547-f80b-40fb-a3eb-baff64f0012e"
      },
      "source": [
        "df.num_procedures.describe()"
      ],
      "id": "c2bcd164",
      "execution_count": null,
      "outputs": [
        {
          "output_type": "execute_result",
          "data": {
            "text/plain": [
              "count    97882.000000\n",
              "mean         1.348052\n",
              "std          1.706557\n",
              "min          0.000000\n",
              "25%          0.000000\n",
              "50%          1.000000\n",
              "75%          2.000000\n",
              "max          6.000000\n",
              "Name: num_procedures, dtype: float64"
            ]
          },
          "metadata": {},
          "execution_count": 846
        }
      ]
    },
    {
      "cell_type": "markdown",
      "metadata": {
        "id": "f2f35a8f"
      },
      "source": [
        "On average 1.3 non-lab test procedures were performed during the patients initial admission."
      ],
      "id": "f2f35a8f"
    },
    {
      "cell_type": "markdown",
      "metadata": {
        "id": "f712441f"
      },
      "source": [
        "__Number of medications__"
      ],
      "id": "f712441f"
    },
    {
      "cell_type": "code",
      "metadata": {
        "id": "9c35f0e4",
        "colab": {
          "base_uri": "https://localhost:8080/"
        },
        "outputId": "b103a9a9-3f11-4a06-eb5d-e58623fd008c"
      },
      "source": [
        "df.num_medications.describe()"
      ],
      "id": "9c35f0e4",
      "execution_count": null,
      "outputs": [
        {
          "output_type": "execute_result",
          "data": {
            "text/plain": [
              "count    97882.000000\n",
              "mean        16.100213\n",
              "std          8.090172\n",
              "min          1.000000\n",
              "25%         11.000000\n",
              "50%         15.000000\n",
              "75%         20.000000\n",
              "max         81.000000\n",
              "Name: num_medications, dtype: float64"
            ]
          },
          "metadata": {},
          "execution_count": 847
        }
      ]
    },
    {
      "cell_type": "markdown",
      "metadata": {
        "id": "bad00b3c"
      },
      "source": [
        "* On average 16 distinct generic generic types of medication were administered to the patient during their initial admission. A maximum of 81 distinct types of medication were administered which I deem to be a large amount for one patient and possibly not the norm, since that a big jump from the average. A look at the outliers indicates just that with the boxplot displayed below. It looks like anything past 33 distinct types of medications isn't the falls out of the upper limit. "
      ],
      "id": "bad00b3c"
    },
    {
      "cell_type": "code",
      "metadata": {
        "id": "708f57a4",
        "colab": {
          "base_uri": "https://localhost:8080/",
          "height": 297
        },
        "outputId": "a76c8bd0-ef65-49f2-a5e7-ea4f9d8c0d17"
      },
      "source": [
        "sns.boxplot(x=df['num_medications'], palette=\"GnBu\")"
      ],
      "id": "708f57a4",
      "execution_count": null,
      "outputs": [
        {
          "output_type": "execute_result",
          "data": {
            "text/plain": [
              "<matplotlib.axes._subplots.AxesSubplot at 0x7f255805de90>"
            ]
          },
          "metadata": {},
          "execution_count": 848
        },
        {
          "output_type": "display_data",
          "data": {
            "image/png": "[encoded data removed]",
            "text/plain": [
              "<Figure size 432x288 with 1 Axes>"
            ]
          },
          "metadata": {
            "needs_background": "light"
          }
        }
      ]
    },
    {
      "cell_type": "code",
      "metadata": {
        "id": "c5eee655",
        "colab": {
          "base_uri": "https://localhost:8080/"
        },
        "outputId": "44c87e8e-34e8-4548-cd3c-71482a116e9a"
      },
      "source": [
        "Q1 = df.num_medications.quantile(0.25)\n",
        "Q3 = df.num_medications.quantile(0.75)\n",
        "IQR = Q3 - Q1\n",
        "print(IQR)"
      ],
      "id": "c5eee655",
      "execution_count": null,
      "outputs": [
        {
          "output_type": "stream",
          "name": "stdout",
          "text": [
            "9.0\n"
          ]
        }
      ]
    },
    {
      "cell_type": "code",
      "metadata": {
        "id": "8402dd00",
        "colab": {
          "base_uri": "https://localhost:8080/"
        },
        "outputId": "20c73f2d-c708-44db-cadc-3d089a8b3953"
      },
      "source": [
        "lower_limit = Q1-1.5*IQR\n",
        "upper_limit = Q3+1.5*IQR\n",
        "lower_limit, upper_limit"
      ],
      "id": "8402dd00",
      "execution_count": null,
      "outputs": [
        {
          "output_type": "execute_result",
          "data": {
            "text/plain": [
              "(-2.5, 33.5)"
            ]
          },
          "metadata": {},
          "execution_count": 850
        }
      ]
    },
    {
      "cell_type": "code",
      "metadata": {
        "id": "f4c826dd",
        "colab": {
          "base_uri": "https://localhost:8080/",
          "height": 626
        },
        "outputId": "7d04aaa7-adc3-419a-8ef4-405ed80ae296"
      },
      "source": [
        "outliers = df[(df.num_medications<lower_limit)|(df.num_medications>upper_limit)]\n",
        "outliers"
      ],
      "id": "f4c826dd",
      "execution_count": null,
      "outputs": [
        {
          "output_type": "execute_result",
          "data": {
            "text/html": [
              "<div>\n",
              "<style scoped>\n",
              "    .dataframe tbody tr th:only-of-type {\n",
              "        vertical-align: middle;\n",
              "    }\n",
              "\n",
              "    .dataframe tbody tr th {\n",
              "        vertical-align: top;\n",
              "    }\n",
              "\n",
              "    .dataframe thead th {\n",
              "        text-align: right;\n",
              "    }\n",
              "</style>\n",
              "<table border=\"1\" class=\"dataframe\">\n",
              "  <thead>\n",
              "    <tr style=\"text-align: right;\">\n",
              "      <th></th>\n",
              "      <th>race</th>\n",
              "      <th>gender</th>\n",
              "      <th>age</th>\n",
              "      <th>admission_type_id</th>\n",
              "      <th>discharge_disposition_id</th>\n",
              "      <th>admission_source_id</th>\n",
              "      <th>time_in_hospital</th>\n",
              "      <th>num_lab_procedures</th>\n",
              "      <th>num_procedures</th>\n",
              "      <th>num_medications</th>\n",
              "      <th>number_outpatient</th>\n",
              "      <th>number_emergency</th>\n",
              "      <th>number_inpatient</th>\n",
              "      <th>diag_1</th>\n",
              "      <th>diag_2</th>\n",
              "      <th>diag_3</th>\n",
              "      <th>number_diagnoses</th>\n",
              "      <th>max_glu_serum</th>\n",
              "      <th>A1Cresult</th>\n",
              "      <th>metformin</th>\n",
              "      <th>repaglinide</th>\n",
              "      <th>nateglinide</th>\n",
              "      <th>glimepiride</th>\n",
              "      <th>glipizide</th>\n",
              "      <th>glyburide</th>\n",
              "      <th>pioglitazone</th>\n",
              "      <th>rosiglitazone</th>\n",
              "      <th>insulin</th>\n",
              "      <th>glyburide-metformin</th>\n",
              "      <th>change</th>\n",
              "      <th>diabetesMed</th>\n",
              "      <th>readmitted</th>\n",
              "      <th>age_range</th>\n",
              "    </tr>\n",
              "  </thead>\n",
              "  <tbody>\n",
              "    <tr>\n",
              "      <th>138</th>\n",
              "      <td>0</td>\n",
              "      <td>1</td>\n",
              "      <td>[70-80)</td>\n",
              "      <td>3</td>\n",
              "      <td>1</td>\n",
              "      <td>0</td>\n",
              "      <td>8</td>\n",
              "      <td>61</td>\n",
              "      <td>2</td>\n",
              "      <td>39</td>\n",
              "      <td>0</td>\n",
              "      <td>0</td>\n",
              "      <td>0</td>\n",
              "      <td>2</td>\n",
              "      <td>2</td>\n",
              "      <td>0</td>\n",
              "      <td>9</td>\n",
              "      <td>0</td>\n",
              "      <td>0</td>\n",
              "      <td>0</td>\n",
              "      <td>0</td>\n",
              "      <td>0</td>\n",
              "      <td>0</td>\n",
              "      <td>0</td>\n",
              "      <td>0</td>\n",
              "      <td>0</td>\n",
              "      <td>0</td>\n",
              "      <td>2</td>\n",
              "      <td>0</td>\n",
              "      <td>0</td>\n",
              "      <td>1</td>\n",
              "      <td>1</td>\n",
              "      <td>9</td>\n",
              "    </tr>\n",
              "    <tr>\n",
              "      <th>336</th>\n",
              "      <td>0</td>\n",
              "      <td>0</td>\n",
              "      <td>[60-70)</td>\n",
              "      <td>0</td>\n",
              "      <td>0</td>\n",
              "      <td>0</td>\n",
              "      <td>8</td>\n",
              "      <td>77</td>\n",
              "      <td>4</td>\n",
              "      <td>40</td>\n",
              "      <td>0</td>\n",
              "      <td>0</td>\n",
              "      <td>0</td>\n",
              "      <td>0</td>\n",
              "      <td>1</td>\n",
              "      <td>7</td>\n",
              "      <td>9</td>\n",
              "      <td>0</td>\n",
              "      <td>0</td>\n",
              "      <td>1</td>\n",
              "      <td>0</td>\n",
              "      <td>0</td>\n",
              "      <td>0</td>\n",
              "      <td>0</td>\n",
              "      <td>0</td>\n",
              "      <td>0</td>\n",
              "      <td>0</td>\n",
              "      <td>0</td>\n",
              "      <td>0</td>\n",
              "      <td>1</td>\n",
              "      <td>1</td>\n",
              "      <td>1</td>\n",
              "      <td>8</td>\n",
              "    </tr>\n",
              "    <tr>\n",
              "      <th>384</th>\n",
              "      <td>0</td>\n",
              "      <td>1</td>\n",
              "      <td>[50-60)</td>\n",
              "      <td>2</td>\n",
              "      <td>0</td>\n",
              "      <td>2</td>\n",
              "      <td>8</td>\n",
              "      <td>76</td>\n",
              "      <td>6</td>\n",
              "      <td>46</td>\n",
              "      <td>0</td>\n",
              "      <td>0</td>\n",
              "      <td>0</td>\n",
              "      <td>0</td>\n",
              "      <td>0</td>\n",
              "      <td>1</td>\n",
              "      <td>9</td>\n",
              "      <td>0</td>\n",
              "      <td>0</td>\n",
              "      <td>0</td>\n",
              "      <td>0</td>\n",
              "      <td>0</td>\n",
              "      <td>0</td>\n",
              "      <td>1</td>\n",
              "      <td>0</td>\n",
              "      <td>0</td>\n",
              "      <td>0</td>\n",
              "      <td>2</td>\n",
              "      <td>0</td>\n",
              "      <td>0</td>\n",
              "      <td>1</td>\n",
              "      <td>0</td>\n",
              "      <td>6</td>\n",
              "    </tr>\n",
              "    <tr>\n",
              "      <th>435</th>\n",
              "      <td>0</td>\n",
              "      <td>0</td>\n",
              "      <td>[50-60)</td>\n",
              "      <td>2</td>\n",
              "      <td>0</td>\n",
              "      <td>2</td>\n",
              "      <td>10</td>\n",
              "      <td>71</td>\n",
              "      <td>6</td>\n",
              "      <td>41</td>\n",
              "      <td>0</td>\n",
              "      <td>0</td>\n",
              "      <td>0</td>\n",
              "      <td>0</td>\n",
              "      <td>0</td>\n",
              "      <td>4</td>\n",
              "      <td>9</td>\n",
              "      <td>0</td>\n",
              "      <td>0</td>\n",
              "      <td>0</td>\n",
              "      <td>0</td>\n",
              "      <td>0</td>\n",
              "      <td>2</td>\n",
              "      <td>0</td>\n",
              "      <td>0</td>\n",
              "      <td>0</td>\n",
              "      <td>0</td>\n",
              "      <td>2</td>\n",
              "      <td>0</td>\n",
              "      <td>0</td>\n",
              "      <td>1</td>\n",
              "      <td>0</td>\n",
              "      <td>6</td>\n",
              "    </tr>\n",
              "    <tr>\n",
              "      <th>476</th>\n",
              "      <td>0</td>\n",
              "      <td>1</td>\n",
              "      <td>[70-80)</td>\n",
              "      <td>0</td>\n",
              "      <td>0</td>\n",
              "      <td>2</td>\n",
              "      <td>7</td>\n",
              "      <td>78</td>\n",
              "      <td>3</td>\n",
              "      <td>36</td>\n",
              "      <td>0</td>\n",
              "      <td>0</td>\n",
              "      <td>0</td>\n",
              "      <td>0</td>\n",
              "      <td>0</td>\n",
              "      <td>0</td>\n",
              "      <td>6</td>\n",
              "      <td>0</td>\n",
              "      <td>0</td>\n",
              "      <td>0</td>\n",
              "      <td>0</td>\n",
              "      <td>0</td>\n",
              "      <td>0</td>\n",
              "      <td>0</td>\n",
              "      <td>1</td>\n",
              "      <td>0</td>\n",
              "      <td>0</td>\n",
              "      <td>1</td>\n",
              "      <td>0</td>\n",
              "      <td>0</td>\n",
              "      <td>1</td>\n",
              "      <td>0</td>\n",
              "      <td>9</td>\n",
              "    </tr>\n",
              "    <tr>\n",
              "      <th>...</th>\n",
              "      <td>...</td>\n",
              "      <td>...</td>\n",
              "      <td>...</td>\n",
              "      <td>...</td>\n",
              "      <td>...</td>\n",
              "      <td>...</td>\n",
              "      <td>...</td>\n",
              "      <td>...</td>\n",
              "      <td>...</td>\n",
              "      <td>...</td>\n",
              "      <td>...</td>\n",
              "      <td>...</td>\n",
              "      <td>...</td>\n",
              "      <td>...</td>\n",
              "      <td>...</td>\n",
              "      <td>...</td>\n",
              "      <td>...</td>\n",
              "      <td>...</td>\n",
              "      <td>...</td>\n",
              "      <td>...</td>\n",
              "      <td>...</td>\n",
              "      <td>...</td>\n",
              "      <td>...</td>\n",
              "      <td>...</td>\n",
              "      <td>...</td>\n",
              "      <td>...</td>\n",
              "      <td>...</td>\n",
              "      <td>...</td>\n",
              "      <td>...</td>\n",
              "      <td>...</td>\n",
              "      <td>...</td>\n",
              "      <td>...</td>\n",
              "      <td>...</td>\n",
              "    </tr>\n",
              "    <tr>\n",
              "      <th>97834</th>\n",
              "      <td>0</td>\n",
              "      <td>1</td>\n",
              "      <td>[60-70)</td>\n",
              "      <td>0</td>\n",
              "      <td>0</td>\n",
              "      <td>0</td>\n",
              "      <td>11</td>\n",
              "      <td>81</td>\n",
              "      <td>1</td>\n",
              "      <td>36</td>\n",
              "      <td>0</td>\n",
              "      <td>0</td>\n",
              "      <td>0</td>\n",
              "      <td>2</td>\n",
              "      <td>6</td>\n",
              "      <td>8</td>\n",
              "      <td>9</td>\n",
              "      <td>0</td>\n",
              "      <td>0</td>\n",
              "      <td>0</td>\n",
              "      <td>0</td>\n",
              "      <td>0</td>\n",
              "      <td>0</td>\n",
              "      <td>1</td>\n",
              "      <td>0</td>\n",
              "      <td>0</td>\n",
              "      <td>0</td>\n",
              "      <td>2</td>\n",
              "      <td>0</td>\n",
              "      <td>0</td>\n",
              "      <td>1</td>\n",
              "      <td>0</td>\n",
              "      <td>8</td>\n",
              "    </tr>\n",
              "    <tr>\n",
              "      <th>97865</th>\n",
              "      <td>0</td>\n",
              "      <td>1</td>\n",
              "      <td>[50-60)</td>\n",
              "      <td>0</td>\n",
              "      <td>0</td>\n",
              "      <td>0</td>\n",
              "      <td>4</td>\n",
              "      <td>41</td>\n",
              "      <td>3</td>\n",
              "      <td>40</td>\n",
              "      <td>0</td>\n",
              "      <td>0</td>\n",
              "      <td>2</td>\n",
              "      <td>0</td>\n",
              "      <td>0</td>\n",
              "      <td>0</td>\n",
              "      <td>9</td>\n",
              "      <td>0</td>\n",
              "      <td>0</td>\n",
              "      <td>3</td>\n",
              "      <td>0</td>\n",
              "      <td>0</td>\n",
              "      <td>0</td>\n",
              "      <td>0</td>\n",
              "      <td>0</td>\n",
              "      <td>0</td>\n",
              "      <td>0</td>\n",
              "      <td>2</td>\n",
              "      <td>0</td>\n",
              "      <td>0</td>\n",
              "      <td>1</td>\n",
              "      <td>1</td>\n",
              "      <td>6</td>\n",
              "    </tr>\n",
              "    <tr>\n",
              "      <th>97911</th>\n",
              "      <td>0</td>\n",
              "      <td>0</td>\n",
              "      <td>[70-80)</td>\n",
              "      <td>1</td>\n",
              "      <td>1</td>\n",
              "      <td>1</td>\n",
              "      <td>4</td>\n",
              "      <td>7</td>\n",
              "      <td>1</td>\n",
              "      <td>36</td>\n",
              "      <td>0</td>\n",
              "      <td>0</td>\n",
              "      <td>0</td>\n",
              "      <td>5</td>\n",
              "      <td>8</td>\n",
              "      <td>5</td>\n",
              "      <td>8</td>\n",
              "      <td>0</td>\n",
              "      <td>0</td>\n",
              "      <td>1</td>\n",
              "      <td>0</td>\n",
              "      <td>0</td>\n",
              "      <td>0</td>\n",
              "      <td>0</td>\n",
              "      <td>0</td>\n",
              "      <td>0</td>\n",
              "      <td>0</td>\n",
              "      <td>0</td>\n",
              "      <td>0</td>\n",
              "      <td>1</td>\n",
              "      <td>1</td>\n",
              "      <td>0</td>\n",
              "      <td>9</td>\n",
              "    </tr>\n",
              "    <tr>\n",
              "      <th>98004</th>\n",
              "      <td>4</td>\n",
              "      <td>1</td>\n",
              "      <td>[70-80)</td>\n",
              "      <td>2</td>\n",
              "      <td>1</td>\n",
              "      <td>0</td>\n",
              "      <td>8</td>\n",
              "      <td>67</td>\n",
              "      <td>3</td>\n",
              "      <td>35</td>\n",
              "      <td>0</td>\n",
              "      <td>1</td>\n",
              "      <td>0</td>\n",
              "      <td>2</td>\n",
              "      <td>7</td>\n",
              "      <td>7</td>\n",
              "      <td>9</td>\n",
              "      <td>0</td>\n",
              "      <td>0</td>\n",
              "      <td>0</td>\n",
              "      <td>0</td>\n",
              "      <td>0</td>\n",
              "      <td>0</td>\n",
              "      <td>0</td>\n",
              "      <td>0</td>\n",
              "      <td>0</td>\n",
              "      <td>0</td>\n",
              "      <td>3</td>\n",
              "      <td>0</td>\n",
              "      <td>0</td>\n",
              "      <td>1</td>\n",
              "      <td>0</td>\n",
              "      <td>9</td>\n",
              "    </tr>\n",
              "    <tr>\n",
              "      <th>98037</th>\n",
              "      <td>0</td>\n",
              "      <td>1</td>\n",
              "      <td>[70-80)</td>\n",
              "      <td>1</td>\n",
              "      <td>1</td>\n",
              "      <td>1</td>\n",
              "      <td>13</td>\n",
              "      <td>77</td>\n",
              "      <td>6</td>\n",
              "      <td>65</td>\n",
              "      <td>0</td>\n",
              "      <td>0</td>\n",
              "      <td>0</td>\n",
              "      <td>0</td>\n",
              "      <td>0</td>\n",
              "      <td>1</td>\n",
              "      <td>16</td>\n",
              "      <td>0</td>\n",
              "      <td>1</td>\n",
              "      <td>0</td>\n",
              "      <td>0</td>\n",
              "      <td>0</td>\n",
              "      <td>0</td>\n",
              "      <td>0</td>\n",
              "      <td>0</td>\n",
              "      <td>0</td>\n",
              "      <td>0</td>\n",
              "      <td>2</td>\n",
              "      <td>0</td>\n",
              "      <td>0</td>\n",
              "      <td>1</td>\n",
              "      <td>0</td>\n",
              "      <td>9</td>\n",
              "    </tr>\n",
              "  </tbody>\n",
              "</table>\n",
              "<p>3262 rows × 33 columns</p>\n",
              "</div>"
            ],
            "text/plain": [
              "       race  gender      age  ...  diabetesMed  readmitted  age_range\n",
              "138       0       1  [70-80)  ...            1           1          9\n",
              "336       0       0  [60-70)  ...            1           1          8\n",
              "384       0       1  [50-60)  ...            1           0          6\n",
              "435       0       0  [50-60)  ...            1           0          6\n",
              "476       0       1  [70-80)  ...            1           0          9\n",
              "...     ...     ...      ...  ...          ...         ...        ...\n",
              "97834     0       1  [60-70)  ...            1           0          8\n",
              "97865     0       1  [50-60)  ...            1           1          6\n",
              "97911     0       0  [70-80)  ...            1           0          9\n",
              "98004     4       1  [70-80)  ...            1           0          9\n",
              "98037     0       1  [70-80)  ...            1           0          9\n",
              "\n",
              "[3262 rows x 33 columns]"
            ]
          },
          "metadata": {},
          "execution_count": 851
        }
      ]
    },
    {
      "cell_type": "markdown",
      "metadata": {
        "id": "02c280d7"
      },
      "source": [
        "3262 observations lie outside the threshold. I've decided to drop these outliers to reduce as much bias a I possibly can."
      ],
      "id": "02c280d7"
    },
    {
      "cell_type": "code",
      "metadata": {
        "id": "66178157"
      },
      "source": [
        "df = df[(df['num_medications']>lower_limit)&(df['num_medications']<upper_limit)]"
      ],
      "id": "66178157",
      "execution_count": null,
      "outputs": []
    },
    {
      "cell_type": "code",
      "metadata": {
        "id": "b12048ce",
        "colab": {
          "base_uri": "https://localhost:8080/",
          "height": 421
        },
        "outputId": "5c3db153-c61b-4825-bb67-d46c9f116b76"
      },
      "source": [
        "fig = plt.figure(figsize=(12,6),)\n",
        "ax=sns.kdeplot(df.loc[(df['readmitted'] == 0),'num_medications'] , color='g',shade=True,label='Not Readmitted')\n",
        "ax=sns.kdeplot(df.loc[(df['readmitted'] == 1),'num_medications'] , color='b',shade=True, label='Readmitted')\n",
        "ax.set(xlabel='Time in Hospital', ylabel='Frequency')\n",
        "plt.title('Number of Medications VS. Readmission')"
      ],
      "id": "b12048ce",
      "execution_count": null,
      "outputs": [
        {
          "output_type": "execute_result",
          "data": {
            "text/plain": [
              "Text(0.5, 1.0, 'Number of Medications VS. Readmission')"
            ]
          },
          "metadata": {},
          "execution_count": 853
        },
        {
          "output_type": "display_data",
          "data": {
            "image/png": "[encoded data removed]",
            "text/plain": [
              "<Figure size 864x432 with 1 Axes>"
            ]
          },
          "metadata": {
            "needs_background": "light"
          }
        }
      ]
    },
    {
      "cell_type": "code",
      "metadata": {
        "id": "3cfb8e39",
        "colab": {
          "base_uri": "https://localhost:8080/"
        },
        "outputId": "18fc9fc9-9c49-4acb-91de-d64232e6b002"
      },
      "source": [
        "df.shape"
      ],
      "id": "3cfb8e39",
      "execution_count": null,
      "outputs": [
        {
          "output_type": "execute_result",
          "data": {
            "text/plain": [
              "(94620, 33)"
            ]
          },
          "metadata": {},
          "execution_count": 854
        }
      ]
    },
    {
      "cell_type": "markdown",
      "metadata": {
        "id": "31459857"
      },
      "source": [
        "__Number of Outpatient visits__ "
      ],
      "id": "31459857"
    },
    {
      "cell_type": "code",
      "metadata": {
        "id": "83609402",
        "colab": {
          "base_uri": "https://localhost:8080/"
        },
        "outputId": "43744398-f543-4907-b8a8-3a3b80511999"
      },
      "source": [
        "df.number_outpatient.describe()"
      ],
      "id": "83609402",
      "execution_count": null,
      "outputs": [
        {
          "output_type": "execute_result",
          "data": {
            "text/plain": [
              "count    94620.000000\n",
              "mean         0.378292\n",
              "std          1.291424\n",
              "min          0.000000\n",
              "25%          0.000000\n",
              "50%          0.000000\n",
              "75%          0.000000\n",
              "max         42.000000\n",
              "Name: number_outpatient, dtype: float64"
            ]
          },
          "metadata": {},
          "execution_count": 855
        }
      ]
    },
    {
      "cell_type": "code",
      "metadata": {
        "id": "81c83a86",
        "colab": {
          "base_uri": "https://localhost:8080/"
        },
        "outputId": "f7ea45f6-8480-4a5b-a17f-f7d9c4e29209"
      },
      "source": [
        "df.number_outpatient.value_counts()"
      ],
      "id": "81c83a86",
      "execution_count": null,
      "outputs": [
        {
          "output_type": "execute_result",
          "data": {
            "text/plain": [
              "0     78808\n",
              "1      8001\n",
              "2      3415\n",
              "3      1951\n",
              "4      1055\n",
              "5       507\n",
              "6       283\n",
              "7       149\n",
              "8        95\n",
              "9        78\n",
              "10       55\n",
              "11       40\n",
              "12       29\n",
              "13       29\n",
              "14       28\n",
              "15       20\n",
              "16       15\n",
              "17        8\n",
              "21        7\n",
              "20        7\n",
              "22        5\n",
              "18        5\n",
              "19        3\n",
              "24        3\n",
              "27        3\n",
              "23        2\n",
              "25        2\n",
              "26        2\n",
              "29        2\n",
              "33        2\n",
              "35        2\n",
              "36        2\n",
              "40        1\n",
              "28        1\n",
              "34        1\n",
              "37        1\n",
              "38        1\n",
              "39        1\n",
              "42        1\n",
              "Name: number_outpatient, dtype: int64"
            ]
          },
          "metadata": {},
          "execution_count": 856
        }
      ]
    },
    {
      "cell_type": "markdown",
      "metadata": {
        "id": "73bd3742"
      },
      "source": [
        "The number of outpatient visits of the patient in the year preceding the encounter ranged from zero visits all the way up to 42 visits. "
      ],
      "id": "73bd3742"
    },
    {
      "cell_type": "markdown",
      "metadata": {
        "id": "9692a862"
      },
      "source": [
        "__Number of Emergency visits__"
      ],
      "id": "9692a862"
    },
    {
      "cell_type": "code",
      "metadata": {
        "id": "eead896d",
        "colab": {
          "base_uri": "https://localhost:8080/"
        },
        "outputId": "13666a3c-d47d-4fc8-b35d-3731e502de85"
      },
      "source": [
        "df.number_emergency.describe()"
      ],
      "id": "eead896d",
      "execution_count": null,
      "outputs": [
        {
          "output_type": "execute_result",
          "data": {
            "text/plain": [
              "count    94620.000000\n",
              "mean         0.204692\n",
              "std          0.952688\n",
              "min          0.000000\n",
              "25%          0.000000\n",
              "50%          0.000000\n",
              "75%          0.000000\n",
              "max         76.000000\n",
              "Name: number_emergency, dtype: float64"
            ]
          },
          "metadata": {},
          "execution_count": 857
        }
      ]
    },
    {
      "cell_type": "code",
      "metadata": {
        "id": "b92874db",
        "colab": {
          "base_uri": "https://localhost:8080/"
        },
        "outputId": "0e3d7e70-f62d-4791-fbbe-9b7c533dc565"
      },
      "source": [
        "df.number_emergency.value_counts()"
      ],
      "id": "b92874db",
      "execution_count": null,
      "outputs": [
        {
          "output_type": "execute_result",
          "data": {
            "text/plain": [
              "0     83717\n",
              "1      7333\n",
              "2      1960\n",
              "3       703\n",
              "4       360\n",
              "5       185\n",
              "6        91\n",
              "7        72\n",
              "8        50\n",
              "10       33\n",
              "9        31\n",
              "11       20\n",
              "13       12\n",
              "12       10\n",
              "22        6\n",
              "18        5\n",
              "16        5\n",
              "20        4\n",
              "19        4\n",
              "15        3\n",
              "14        2\n",
              "21        2\n",
              "25        2\n",
              "76        1\n",
              "54        1\n",
              "24        1\n",
              "28        1\n",
              "29        1\n",
              "37        1\n",
              "42        1\n",
              "46        1\n",
              "64        1\n",
              "63        1\n",
              "Name: number_emergency, dtype: int64"
            ]
          },
          "metadata": {},
          "execution_count": 858
        }
      ]
    },
    {
      "cell_type": "markdown",
      "metadata": {
        "id": "538da6b9"
      },
      "source": [
        "__Number of Inpatient Visits__"
      ],
      "id": "538da6b9"
    },
    {
      "cell_type": "code",
      "metadata": {
        "id": "c6714b9a",
        "colab": {
          "base_uri": "https://localhost:8080/"
        },
        "outputId": "7f63ad3a-89d4-4639-f5b1-b5614e8bb915"
      },
      "source": [
        "df.number_inpatient.value_counts()"
      ],
      "id": "c6714b9a",
      "execution_count": null,
      "outputs": [
        {
          "output_type": "execute_result",
          "data": {
            "text/plain": [
              "0     62271\n",
              "1     18444\n",
              "2      7171\n",
              "3      3257\n",
              "4      1549\n",
              "5       782\n",
              "6       457\n",
              "7       257\n",
              "8       139\n",
              "9       110\n",
              "10       58\n",
              "11       47\n",
              "12       33\n",
              "13       19\n",
              "14       10\n",
              "15        8\n",
              "16        5\n",
              "19        2\n",
              "21        1\n",
              "Name: number_inpatient, dtype: int64"
            ]
          },
          "metadata": {},
          "execution_count": 859
        }
      ]
    },
    {
      "cell_type": "code",
      "metadata": {
        "id": "3993853f",
        "colab": {
          "base_uri": "https://localhost:8080/"
        },
        "outputId": "b7927d2f-1fa7-4f55-c9d7-f1b8051f5602"
      },
      "source": [
        "df.number_inpatient.describe()"
      ],
      "id": "3993853f",
      "execution_count": null,
      "outputs": [
        {
          "output_type": "execute_result",
          "data": {
            "text/plain": [
              "count    94620.000000\n",
              "mean         0.649387\n",
              "std          1.273185\n",
              "min          0.000000\n",
              "25%          0.000000\n",
              "50%          0.000000\n",
              "75%          1.000000\n",
              "max         21.000000\n",
              "Name: number_inpatient, dtype: float64"
            ]
          },
          "metadata": {},
          "execution_count": 860
        }
      ]
    },
    {
      "cell_type": "markdown",
      "metadata": {
        "id": "cabd37f9"
      },
      "source": [
        "The number of inpatient visits of the patient in the year preceding the encounter ranged from zero visits all the way up to 21 visits. "
      ],
      "id": "cabd37f9"
    },
    {
      "cell_type": "code",
      "metadata": {
        "id": "9d625e26",
        "colab": {
          "base_uri": "https://localhost:8080/"
        },
        "outputId": "90c10388-4968-4c93-d2dc-a98e95d74c40"
      },
      "source": [
        "df.shape"
      ],
      "id": "9d625e26",
      "execution_count": null,
      "outputs": [
        {
          "output_type": "execute_result",
          "data": {
            "text/plain": [
              "(94620, 33)"
            ]
          },
          "metadata": {},
          "execution_count": 861
        }
      ]
    },
    {
      "cell_type": "code",
      "metadata": {
        "id": "604a762e",
        "colab": {
          "base_uri": "https://localhost:8080/",
          "height": 404
        },
        "outputId": "6e0e8608-45cf-408b-f2ba-199cfbdf94a9"
      },
      "source": [
        "fig = plt.figure(figsize=(15,6),)\n",
        "ax=sns.kdeplot(df['time_in_hospital'], color='g',shade=True)\n",
        "#ax=sns.kdeplot(df.loc[(df['readmitted']),'num_lab_procedures'] , color='b',shade=True, label='readmitted')\n",
        "ax.set(xlabel='Time in hospital', ylabel='Frequency')\n",
        "plt.title('Time in Hospital Vs. Number of lab procedure');"
      ],
      "id": "604a762e",
      "execution_count": null,
      "outputs": [
        {
          "output_type": "display_data",
          "data": {
            "image/png": "[encoded data removed]",
            "text/plain": [
              "<Figure size 1080x432 with 1 Axes>"
            ]
          },
          "metadata": {
            "needs_background": "light"
          }
        }
      ]
    },
    {
      "cell_type": "code",
      "metadata": {
        "id": "5a6844d1",
        "colab": {
          "base_uri": "https://localhost:8080/",
          "height": 404
        },
        "outputId": "6c5e8f63-bc56-40a7-9454-b9a8f6caecc3"
      },
      "source": [
        "fig = plt.figure(figsize=(15,6),)\n",
        "ax=sns.kdeplot(df['num_medications'], color='g',shade=True)\n",
        "# ax=sns.kdeplot(df.loc[(df['time_in_hospital']),'num_lab_procedures'] , color='b',shade=True, label='readmitted')\n",
        "ax.set(xlabel='Medication', ylabel='Frequency')\n",
        "plt.title('Medication');"
      ],
      "id": "5a6844d1",
      "execution_count": null,
      "outputs": [
        {
          "output_type": "display_data",
          "data": {
            "image/png": "[encoded data removed]",
            "text/plain": [
              "<Figure size 1080x432 with 1 Axes>"
            ]
          },
          "metadata": {
            "needs_background": "light"
          }
        }
      ]
    },
    {
      "cell_type": "code",
      "metadata": {
        "id": "81d7f102",
        "colab": {
          "base_uri": "https://localhost:8080/"
        },
        "outputId": "ac3b0790-e987-467b-f1d8-1c30f18074eb"
      },
      "source": [
        "df.time_in_hospital.value_counts()"
      ],
      "id": "81d7f102",
      "execution_count": null,
      "outputs": [
        {
          "output_type": "execute_result",
          "data": {
            "text/plain": [
              "3     16942\n",
              "2     16395\n",
              "1     13470\n",
              "4     13207\n",
              "5      9382\n",
              "6      6977\n",
              "7      5293\n",
              "8      3874\n",
              "9      2614\n",
              "10     1974\n",
              "11     1519\n",
              "12     1209\n",
              "13      960\n",
              "14      804\n",
              "Name: time_in_hospital, dtype: int64"
            ]
          },
          "metadata": {},
          "execution_count": 864
        }
      ]
    },
    {
      "cell_type": "code",
      "metadata": {
        "id": "8f9ba8d6",
        "colab": {
          "base_uri": "https://localhost:8080/",
          "height": 419
        },
        "outputId": "eae3364c-ce66-489b-fd24-ac9513578f9a"
      },
      "source": [
        "pd.DataFrame(list(zip(df['num_lab_procedures'],df['time_in_hospital'])))"
      ],
      "id": "8f9ba8d6",
      "execution_count": null,
      "outputs": [
        {
          "output_type": "execute_result",
          "data": {
            "text/html": [
              "<div>\n",
              "<style scoped>\n",
              "    .dataframe tbody tr th:only-of-type {\n",
              "        vertical-align: middle;\n",
              "    }\n",
              "\n",
              "    .dataframe tbody tr th {\n",
              "        vertical-align: top;\n",
              "    }\n",
              "\n",
              "    .dataframe thead th {\n",
              "        text-align: right;\n",
              "    }\n",
              "</style>\n",
              "<table border=\"1\" class=\"dataframe\">\n",
              "  <thead>\n",
              "    <tr style=\"text-align: right;\">\n",
              "      <th></th>\n",
              "      <th>0</th>\n",
              "      <th>1</th>\n",
              "    </tr>\n",
              "  </thead>\n",
              "  <tbody>\n",
              "    <tr>\n",
              "      <th>0</th>\n",
              "      <td>59</td>\n",
              "      <td>3</td>\n",
              "    </tr>\n",
              "    <tr>\n",
              "      <th>1</th>\n",
              "      <td>11</td>\n",
              "      <td>2</td>\n",
              "    </tr>\n",
              "    <tr>\n",
              "      <th>2</th>\n",
              "      <td>44</td>\n",
              "      <td>2</td>\n",
              "    </tr>\n",
              "    <tr>\n",
              "      <th>3</th>\n",
              "      <td>51</td>\n",
              "      <td>1</td>\n",
              "    </tr>\n",
              "    <tr>\n",
              "      <th>4</th>\n",
              "      <td>31</td>\n",
              "      <td>3</td>\n",
              "    </tr>\n",
              "    <tr>\n",
              "      <th>...</th>\n",
              "      <td>...</td>\n",
              "      <td>...</td>\n",
              "    </tr>\n",
              "    <tr>\n",
              "      <th>94615</th>\n",
              "      <td>51</td>\n",
              "      <td>3</td>\n",
              "    </tr>\n",
              "    <tr>\n",
              "      <th>94616</th>\n",
              "      <td>33</td>\n",
              "      <td>5</td>\n",
              "    </tr>\n",
              "    <tr>\n",
              "      <th>94617</th>\n",
              "      <td>53</td>\n",
              "      <td>1</td>\n",
              "    </tr>\n",
              "    <tr>\n",
              "      <th>94618</th>\n",
              "      <td>45</td>\n",
              "      <td>10</td>\n",
              "    </tr>\n",
              "    <tr>\n",
              "      <th>94619</th>\n",
              "      <td>13</td>\n",
              "      <td>6</td>\n",
              "    </tr>\n",
              "  </tbody>\n",
              "</table>\n",
              "<p>94620 rows × 2 columns</p>\n",
              "</div>"
            ],
            "text/plain": [
              "        0   1\n",
              "0      59   3\n",
              "1      11   2\n",
              "2      44   2\n",
              "3      51   1\n",
              "4      31   3\n",
              "...    ..  ..\n",
              "94615  51   3\n",
              "94616  33   5\n",
              "94617  53   1\n",
              "94618  45  10\n",
              "94619  13   6\n",
              "\n",
              "[94620 rows x 2 columns]"
            ]
          },
          "metadata": {},
          "execution_count": 865
        }
      ]
    },
    {
      "cell_type": "code",
      "metadata": {
        "id": "d0b7824b",
        "colab": {
          "base_uri": "https://localhost:8080/"
        },
        "outputId": "c91a5241-543b-4bb0-cd3d-e8a5bbf0d8b2"
      },
      "source": [
        "df.shape"
      ],
      "id": "d0b7824b",
      "execution_count": null,
      "outputs": [
        {
          "output_type": "execute_result",
          "data": {
            "text/plain": [
              "(94620, 33)"
            ]
          },
          "metadata": {},
          "execution_count": 866
        }
      ]
    },
    {
      "cell_type": "markdown",
      "metadata": {
        "id": "3dbc8276"
      },
      "source": [
        "After all our cleaning, we are left with 32 features, 1 target feature,  and 94,620 observations. "
      ],
      "id": "3dbc8276"
    },
    {
      "cell_type": "markdown",
      "metadata": {
        "id": "553a89d3"
      },
      "source": [
        "### CORRELATIONS"
      ],
      "id": "553a89d3"
    },
    {
      "cell_type": "code",
      "metadata": {
        "id": "2d6d766b",
        "colab": {
          "base_uri": "https://localhost:8080/"
        },
        "outputId": "ee71b233-774d-402e-a067-b3b431ff02af"
      },
      "source": [
        "diab_matrix = df.corr().sort_values('readmitted')\n",
        "diab_matrix['readmitted']"
      ],
      "id": "2d6d766b",
      "execution_count": null,
      "outputs": [
        {
          "output_type": "execute_result",
          "data": {
            "text/plain": [
              "admission_source_id        -0.070816\n",
              "change                     -0.048486\n",
              "num_procedures             -0.039398\n",
              "race                       -0.026967\n",
              "metformin                  -0.025616\n",
              "diag_1                     -0.017276\n",
              "gender                     -0.015488\n",
              "A1Cresult                  -0.010915\n",
              "diag_2                     -0.008815\n",
              "diag_3                     -0.001576\n",
              "glyburide                  -0.001306\n",
              "admission_type_id           0.002322\n",
              "glyburide-metformin         0.002923\n",
              "nateglinide                 0.003417\n",
              "glimepiride                 0.004827\n",
              "rosiglitazone               0.008192\n",
              "pioglitazone                0.013175\n",
              "max_glu_serum               0.014632\n",
              "repaglinide                 0.018869\n",
              "glipizide                   0.021314\n",
              "discharge_disposition_id    0.023163\n",
              "age_range                   0.036338\n",
              "num_lab_procedures          0.041231\n",
              "time_in_hospital            0.053398\n",
              "diabetesMed                 0.064901\n",
              "insulin                     0.068595\n",
              "num_medications             0.071908\n",
              "number_outpatient           0.078044\n",
              "number_emergency            0.101110\n",
              "number_diagnoses            0.105480\n",
              "number_inpatient            0.214968\n",
              "readmitted                  1.000000\n",
              "Name: readmitted, dtype: float64"
            ]
          },
          "metadata": {},
          "execution_count": 867
        }
      ]
    },
    {
      "cell_type": "code",
      "metadata": {
        "id": "b0da2c70",
        "colab": {
          "base_uri": "https://localhost:8080/",
          "height": 1000
        },
        "outputId": "c3fa5aea-63b3-4bfc-b7eb-229fd05fa80c"
      },
      "source": [
        "plt.figure(figsize=(6,20))\n",
        "sns.heatmap(diab_matrix[['readmitted']],\n",
        "           annot=True,\n",
        "           cmap='YlGnBu',\n",
        "           vmin=-1,\n",
        "           vmax=1)"
      ],
      "id": "b0da2c70",
      "execution_count": null,
      "outputs": [
        {
          "output_type": "execute_result",
          "data": {
            "text/plain": [
              "<matplotlib.axes._subplots.AxesSubplot at 0x7f2567803150>"
            ]
          },
          "metadata": {},
          "execution_count": 868
        },
        {
          "output_type": "display_data",
          "data": {
            "image/png": "[encoded data removed]",
            "text/plain": [
              "<Figure size 432x1440 with 2 Axes>"
            ]
          },
          "metadata": {
            "needs_background": "light"
          }
        }
      ]
    },
    {
      "cell_type": "code",
      "metadata": {
        "id": "CNBLc8epq0xL"
      },
      "source": [
        "df1 = df[non_cat_columns]"
      ],
      "id": "CNBLc8epq0xL",
      "execution_count": null,
      "outputs": []
    },
    {
      "cell_type": "code",
      "metadata": {
        "colab": {
          "base_uri": "https://localhost:8080/",
          "height": 471
        },
        "id": "1skb0LVopzUU",
        "outputId": "31f76dce-476d-461f-8178-5d5026b1e00a"
      },
      "source": [
        "plt.figure(figsize=(10,6))\n",
        "corr=df1.corr()\n",
        "sns.heatmap(corr,annot=True,cmap='GnBu')\n",
        "b,t=plt.ylim()\n",
        "plt.ylim(b+0.5,t-0.5)\n",
        "plt.show()"
      ],
      "id": "1skb0LVopzUU",
      "execution_count": null,
      "outputs": [
        {
          "output_type": "display_data",
          "data": {
            "image/png": "[encoded data removed]",
            "text/plain": [
              "<Figure size 720x432 with 2 Axes>"
            ]
          },
          "metadata": {
            "needs_background": "light"
          }
        }
      ]
    },
    {
      "cell_type": "markdown",
      "metadata": {
        "id": "92bc3413"
      },
      "source": [
        "These correlations aren't very strong (>0.5), the variables with the strongest correlations to our target variable of readmission, are the number of impatient visits, number of diagnosis, and number of emergency visit in the preceding year."
      ],
      "id": "92bc3413"
    },
    {
      "cell_type": "code",
      "metadata": {
        "id": "6b022fb7",
        "colab": {
          "base_uri": "https://localhost:8080/"
        },
        "outputId": "b3c56e7a-5053-48af-d44c-13a59fad6706"
      },
      "source": [
        "df.shape"
      ],
      "id": "6b022fb7",
      "execution_count": null,
      "outputs": [
        {
          "output_type": "execute_result",
          "data": {
            "text/plain": [
              "(94620, 33)"
            ]
          },
          "metadata": {},
          "execution_count": 871
        }
      ]
    },
    {
      "cell_type": "code",
      "metadata": {
        "id": "90575e77"
      },
      "source": [
        "df.to_csv('/content/gdrive/My Drive/Colab Notebooks/diabetic_data_modeling.csv')"
      ],
      "id": "90575e77",
      "execution_count": null,
      "outputs": []
    }
  ]
}