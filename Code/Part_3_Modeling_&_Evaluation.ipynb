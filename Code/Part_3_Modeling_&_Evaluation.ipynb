{
  "nbformat": 4,
  "nbformat_minor": 5,
  "metadata": {
    "kernelspec": {
      "display_name": "Python 3",
      "language": "python",
      "name": "python3"
    },
    "language_info": {
      "codemirror_mode": {
        "name": "ipython",
        "version": 3
      },
      "file_extension": ".py",
      "mimetype": "text/x-python",
      "name": "python",
      "nbconvert_exporter": "python",
      "pygments_lexer": "ipython3",
      "version": "3.8.8"
    },
    "colab": {
      "name": "Part 3- Modeling & Evaluation.ipynb",
      "provenance": [],
      "collapsed_sections": [],
      "include_colab_link": true
    }
  },
  "cells": [
    {
      "cell_type": "markdown",
      "metadata": {
        "id": "view-in-github",
        "colab_type": "text"
      },
      "source": [
        "<a href=\"https://colab.research.google.com/github/rmoolchandani/rmoolcha_Capstone/blob/main/Code/Part_3_Modeling_%26_Evaluation.ipynb\" target=\"_parent\"><img src=\"https://colab.research.google.com/assets/colab-badge.svg\" alt=\"Open In Colab\"/></a>"
      ]
    },
    {
      "cell_type": "markdown",
      "metadata": {
        "id": "56299550"
      },
      "source": [
        "__Imports__"
      ],
      "id": "56299550"
    },
    {
      "cell_type": "code",
      "metadata": {
        "id": "814b0017"
      },
      "source": [
        "import numpy as np\n",
        "import pandas as pd\n",
        "import seaborn as sns\n",
        "import matplotlib.pyplot as plt\n",
        "\n",
        "from sklearn.linear_model import LogisticRegression\n",
        "from sklearn.tree import DecisionTreeClassifier\n",
        "from sklearn.ensemble import RandomForestClassifier, ExtraTreesClassifier\n",
        "from sklearn.neighbors import KNeighborsClassifier\n",
        "from sklearn.model_selection import cross_val_score, train_test_split, GridSearchCV\n",
        "from sklearn.preprocessing import StandardScaler\n",
        "from sklearn.metrics import confusion_matrix\n",
        "from sklearn.metrics import plot_confusion_matrix\n",
        "import sklearn.metrics as metrics\n",
        "from sklearn.utils import resample"
      ],
      "id": "814b0017",
      "execution_count": null,
      "outputs": []
    },
    {
      "cell_type": "markdown",
      "metadata": {
        "id": "7153fc11"
      },
      "source": [
        "__Read the modeling file and create a pandas dataframe__"
      ],
      "id": "7153fc11"
    },
    {
      "cell_type": "code",
      "metadata": {
        "id": "8250750f",
        "colab": {
          "base_uri": "https://localhost:8080/",
          "height": 343
        },
        "outputId": "0f0103c6-969e-4199-f713-7af8049099d6"
      },
      "source": [
        "# Connect to Google Drive\n",
        "# Upload the dataset to your Google drive so it can be loaded here\n",
        "from google.colab import drive\n",
        "drive.mount('/content/gdrive')\n",
        "\n",
        "# load the csv file\n",
        "model = pd.read_csv('/content/gdrive/My Drive/Colab Notebooks/diabetic_data_modeling.csv')\n",
        "model.head()"
      ],
      "id": "8250750f",
      "execution_count": null,
      "outputs": [
        {
          "output_type": "stream",
          "name": "stdout",
          "text": [
            "Mounted at /content/gdrive\n"
          ]
        },
        {
          "output_type": "execute_result",
          "data": {
            "text/html": [
              "<div>\n",
              "<style scoped>\n",
              "    .dataframe tbody tr th:only-of-type {\n",
              "        vertical-align: middle;\n",
              "    }\n",
              "\n",
              "    .dataframe tbody tr th {\n",
              "        vertical-align: top;\n",
              "    }\n",
              "\n",
              "    .dataframe thead th {\n",
              "        text-align: right;\n",
              "    }\n",
              "</style>\n",
              "<table border=\"1\" class=\"dataframe\">\n",
              "  <thead>\n",
              "    <tr style=\"text-align: right;\">\n",
              "      <th></th>\n",
              "      <th>Unnamed: 0</th>\n",
              "      <th>race</th>\n",
              "      <th>gender</th>\n",
              "      <th>age</th>\n",
              "      <th>admission_type_id</th>\n",
              "      <th>discharge_disposition_id</th>\n",
              "      <th>admission_source_id</th>\n",
              "      <th>time_in_hospital</th>\n",
              "      <th>num_lab_procedures</th>\n",
              "      <th>num_procedures</th>\n",
              "      <th>num_medications</th>\n",
              "      <th>number_outpatient</th>\n",
              "      <th>number_emergency</th>\n",
              "      <th>number_inpatient</th>\n",
              "      <th>diag_1</th>\n",
              "      <th>diag_2</th>\n",
              "      <th>diag_3</th>\n",
              "      <th>number_diagnoses</th>\n",
              "      <th>max_glu_serum</th>\n",
              "      <th>A1Cresult</th>\n",
              "      <th>metformin</th>\n",
              "      <th>repaglinide</th>\n",
              "      <th>nateglinide</th>\n",
              "      <th>glimepiride</th>\n",
              "      <th>glipizide</th>\n",
              "      <th>glyburide</th>\n",
              "      <th>pioglitazone</th>\n",
              "      <th>rosiglitazone</th>\n",
              "      <th>insulin</th>\n",
              "      <th>glyburide-metformin</th>\n",
              "      <th>change</th>\n",
              "      <th>diabetesMed</th>\n",
              "      <th>readmitted</th>\n",
              "      <th>age_range</th>\n",
              "    </tr>\n",
              "  </thead>\n",
              "  <tbody>\n",
              "    <tr>\n",
              "      <th>0</th>\n",
              "      <td>0</td>\n",
              "      <td>0</td>\n",
              "      <td>0</td>\n",
              "      <td>[10-20)</td>\n",
              "      <td>0</td>\n",
              "      <td>0</td>\n",
              "      <td>0</td>\n",
              "      <td>3</td>\n",
              "      <td>59</td>\n",
              "      <td>0</td>\n",
              "      <td>18</td>\n",
              "      <td>0</td>\n",
              "      <td>0</td>\n",
              "      <td>0</td>\n",
              "      <td>7</td>\n",
              "      <td>7</td>\n",
              "      <td>7</td>\n",
              "      <td>9</td>\n",
              "      <td>0</td>\n",
              "      <td>0</td>\n",
              "      <td>0</td>\n",
              "      <td>0</td>\n",
              "      <td>0</td>\n",
              "      <td>0</td>\n",
              "      <td>0</td>\n",
              "      <td>0</td>\n",
              "      <td>0</td>\n",
              "      <td>0</td>\n",
              "      <td>2</td>\n",
              "      <td>0</td>\n",
              "      <td>0</td>\n",
              "      <td>1</td>\n",
              "      <td>1</td>\n",
              "      <td>1</td>\n",
              "    </tr>\n",
              "    <tr>\n",
              "      <th>1</th>\n",
              "      <td>1</td>\n",
              "      <td>1</td>\n",
              "      <td>0</td>\n",
              "      <td>[20-30)</td>\n",
              "      <td>0</td>\n",
              "      <td>0</td>\n",
              "      <td>0</td>\n",
              "      <td>2</td>\n",
              "      <td>11</td>\n",
              "      <td>5</td>\n",
              "      <td>13</td>\n",
              "      <td>2</td>\n",
              "      <td>0</td>\n",
              "      <td>1</td>\n",
              "      <td>6</td>\n",
              "      <td>3</td>\n",
              "      <td>8</td>\n",
              "      <td>6</td>\n",
              "      <td>0</td>\n",
              "      <td>0</td>\n",
              "      <td>0</td>\n",
              "      <td>0</td>\n",
              "      <td>0</td>\n",
              "      <td>0</td>\n",
              "      <td>1</td>\n",
              "      <td>0</td>\n",
              "      <td>0</td>\n",
              "      <td>0</td>\n",
              "      <td>0</td>\n",
              "      <td>0</td>\n",
              "      <td>1</td>\n",
              "      <td>1</td>\n",
              "      <td>0</td>\n",
              "      <td>2</td>\n",
              "    </tr>\n",
              "    <tr>\n",
              "      <th>2</th>\n",
              "      <td>2</td>\n",
              "      <td>0</td>\n",
              "      <td>1</td>\n",
              "      <td>[30-40)</td>\n",
              "      <td>0</td>\n",
              "      <td>0</td>\n",
              "      <td>0</td>\n",
              "      <td>2</td>\n",
              "      <td>44</td>\n",
              "      <td>1</td>\n",
              "      <td>16</td>\n",
              "      <td>0</td>\n",
              "      <td>0</td>\n",
              "      <td>0</td>\n",
              "      <td>8</td>\n",
              "      <td>7</td>\n",
              "      <td>0</td>\n",
              "      <td>7</td>\n",
              "      <td>0</td>\n",
              "      <td>0</td>\n",
              "      <td>0</td>\n",
              "      <td>0</td>\n",
              "      <td>0</td>\n",
              "      <td>0</td>\n",
              "      <td>0</td>\n",
              "      <td>0</td>\n",
              "      <td>0</td>\n",
              "      <td>0</td>\n",
              "      <td>2</td>\n",
              "      <td>0</td>\n",
              "      <td>0</td>\n",
              "      <td>1</td>\n",
              "      <td>0</td>\n",
              "      <td>4</td>\n",
              "    </tr>\n",
              "    <tr>\n",
              "      <th>3</th>\n",
              "      <td>3</td>\n",
              "      <td>0</td>\n",
              "      <td>1</td>\n",
              "      <td>[40-50)</td>\n",
              "      <td>0</td>\n",
              "      <td>0</td>\n",
              "      <td>0</td>\n",
              "      <td>1</td>\n",
              "      <td>51</td>\n",
              "      <td>0</td>\n",
              "      <td>8</td>\n",
              "      <td>0</td>\n",
              "      <td>0</td>\n",
              "      <td>0</td>\n",
              "      <td>7</td>\n",
              "      <td>7</td>\n",
              "      <td>3</td>\n",
              "      <td>5</td>\n",
              "      <td>0</td>\n",
              "      <td>0</td>\n",
              "      <td>0</td>\n",
              "      <td>0</td>\n",
              "      <td>0</td>\n",
              "      <td>0</td>\n",
              "      <td>1</td>\n",
              "      <td>0</td>\n",
              "      <td>0</td>\n",
              "      <td>0</td>\n",
              "      <td>1</td>\n",
              "      <td>0</td>\n",
              "      <td>0</td>\n",
              "      <td>1</td>\n",
              "      <td>0</td>\n",
              "      <td>5</td>\n",
              "    </tr>\n",
              "    <tr>\n",
              "      <th>4</th>\n",
              "      <td>4</td>\n",
              "      <td>0</td>\n",
              "      <td>1</td>\n",
              "      <td>[50-60)</td>\n",
              "      <td>2</td>\n",
              "      <td>0</td>\n",
              "      <td>2</td>\n",
              "      <td>3</td>\n",
              "      <td>31</td>\n",
              "      <td>6</td>\n",
              "      <td>16</td>\n",
              "      <td>0</td>\n",
              "      <td>0</td>\n",
              "      <td>0</td>\n",
              "      <td>0</td>\n",
              "      <td>0</td>\n",
              "      <td>3</td>\n",
              "      <td>9</td>\n",
              "      <td>0</td>\n",
              "      <td>0</td>\n",
              "      <td>0</td>\n",
              "      <td>0</td>\n",
              "      <td>0</td>\n",
              "      <td>0</td>\n",
              "      <td>0</td>\n",
              "      <td>0</td>\n",
              "      <td>0</td>\n",
              "      <td>0</td>\n",
              "      <td>1</td>\n",
              "      <td>0</td>\n",
              "      <td>1</td>\n",
              "      <td>1</td>\n",
              "      <td>1</td>\n",
              "      <td>6</td>\n",
              "    </tr>\n",
              "  </tbody>\n",
              "</table>\n",
              "</div>"
            ],
            "text/plain": [
              "   Unnamed: 0  race  gender  ... diabetesMed  readmitted  age_range\n",
              "0           0     0       0  ...           1           1          1\n",
              "1           1     1       0  ...           1           0          2\n",
              "2           2     0       1  ...           1           0          4\n",
              "3           3     0       1  ...           1           0          5\n",
              "4           4     0       1  ...           1           1          6\n",
              "\n",
              "[5 rows x 34 columns]"
            ]
          },
          "metadata": {},
          "execution_count": 2
        }
      ]
    },
    {
      "cell_type": "code",
      "metadata": {
        "colab": {
          "base_uri": "https://localhost:8080/"
        },
        "id": "cOz9LH7qv-xg",
        "outputId": "98e1fda1-8cad-4367-a730-4ff0e7ac195d"
      },
      "source": [
        "model.info"
      ],
      "id": "cOz9LH7qv-xg",
      "execution_count": null,
      "outputs": [
        {
          "output_type": "execute_result",
          "data": {
            "text/plain": [
              "<bound method DataFrame.info of        Unnamed: 0  race  gender  ... diabetesMed  readmitted  age_range\n",
              "0               0     0       0  ...           1           1          1\n",
              "1               1     1       0  ...           1           0          2\n",
              "2               2     0       1  ...           1           0          4\n",
              "3               3     0       1  ...           1           0          5\n",
              "4               4     0       1  ...           1           1          6\n",
              "...           ...   ...     ...  ...         ...         ...        ...\n",
              "94615       98047     1       1  ...           1           1          9\n",
              "94616       98048     1       0  ...           1           0          7\n",
              "94617       98049     0       1  ...           1           0          9\n",
              "94618       98050     0       0  ...           1           0          7\n",
              "94619       98051     0       1  ...           0           0          9\n",
              "\n",
              "[94620 rows x 34 columns]>"
            ]
          },
          "metadata": {},
          "execution_count": 3
        }
      ]
    },
    {
      "cell_type": "code",
      "metadata": {
        "id": "b950f949"
      },
      "source": [
        "model.drop('Unnamed: 0', axis =1, inplace = True)"
      ],
      "id": "b950f949",
      "execution_count": null,
      "outputs": []
    },
    {
      "cell_type": "code",
      "metadata": {
        "id": "a518f451",
        "colab": {
          "base_uri": "https://localhost:8080/"
        },
        "outputId": "67158c71-9a5c-49d7-e36c-eb44f20181a6"
      },
      "source": [
        "model.columns"
      ],
      "id": "a518f451",
      "execution_count": null,
      "outputs": [
        {
          "output_type": "execute_result",
          "data": {
            "text/plain": [
              "Index(['race', 'gender', 'age', 'admission_type_id',\n",
              "       'discharge_disposition_id', 'admission_source_id', 'time_in_hospital',\n",
              "       'num_lab_procedures', 'num_procedures', 'num_medications',\n",
              "       'number_outpatient', 'number_emergency', 'number_inpatient', 'diag_1',\n",
              "       'diag_2', 'diag_3', 'number_diagnoses', 'max_glu_serum', 'A1Cresult',\n",
              "       'metformin', 'repaglinide', 'nateglinide', 'glimepiride', 'glipizide',\n",
              "       'glyburide', 'pioglitazone', 'rosiglitazone', 'insulin',\n",
              "       'glyburide-metformin', 'change', 'diabetesMed', 'readmitted',\n",
              "       'age_range'],\n",
              "      dtype='object')"
            ]
          },
          "metadata": {},
          "execution_count": 5
        }
      ]
    },
    {
      "cell_type": "code",
      "metadata": {
        "id": "9663b4a5",
        "colab": {
          "base_uri": "https://localhost:8080/"
        },
        "outputId": "5d18bc3c-beb3-45b0-a1f5-13b6752776fa"
      },
      "source": [
        "model.dtypes"
      ],
      "id": "9663b4a5",
      "execution_count": null,
      "outputs": [
        {
          "output_type": "execute_result",
          "data": {
            "text/plain": [
              "race                         int64\n",
              "gender                       int64\n",
              "age                         object\n",
              "admission_type_id            int64\n",
              "discharge_disposition_id     int64\n",
              "admission_source_id          int64\n",
              "time_in_hospital             int64\n",
              "num_lab_procedures           int64\n",
              "num_procedures               int64\n",
              "num_medications              int64\n",
              "number_outpatient            int64\n",
              "number_emergency             int64\n",
              "number_inpatient             int64\n",
              "diag_1                       int64\n",
              "diag_2                       int64\n",
              "diag_3                       int64\n",
              "number_diagnoses             int64\n",
              "max_glu_serum                int64\n",
              "A1Cresult                    int64\n",
              "metformin                    int64\n",
              "repaglinide                  int64\n",
              "nateglinide                  int64\n",
              "glimepiride                  int64\n",
              "glipizide                    int64\n",
              "glyburide                    int64\n",
              "pioglitazone                 int64\n",
              "rosiglitazone                int64\n",
              "insulin                      int64\n",
              "glyburide-metformin          int64\n",
              "change                       int64\n",
              "diabetesMed                  int64\n",
              "readmitted                   int64\n",
              "age_range                    int64\n",
              "dtype: object"
            ]
          },
          "metadata": {},
          "execution_count": 6
        }
      ]
    },
    {
      "cell_type": "markdown",
      "metadata": {
        "id": "174b01da"
      },
      "source": [
        "__Baseline__"
      ],
      "id": "174b01da"
    },
    {
      "cell_type": "code",
      "metadata": {
        "id": "c948d563",
        "colab": {
          "base_uri": "https://localhost:8080/"
        },
        "outputId": "01ba34c5-e5c9-42ef-dcd0-5b18c76786fe"
      },
      "source": [
        "model.readmitted.value_counts(normalize = True)"
      ],
      "id": "c948d563",
      "execution_count": null,
      "outputs": [
        {
          "output_type": "execute_result",
          "data": {
            "text/plain": [
              "0    0.532002\n",
              "1    0.467998\n",
              "Name: readmitted, dtype: float64"
            ]
          },
          "metadata": {},
          "execution_count": 7
        }
      ]
    },
    {
      "cell_type": "code",
      "metadata": {
        "id": "4c0ddd7c"
      },
      "source": [
        "# create X (features) and y (target)\n",
        "X = model.drop(['readmitted', 'age'], axis=1)\n",
        "y = model['readmitted']"
      ],
      "id": "4c0ddd7c",
      "execution_count": null,
      "outputs": []
    },
    {
      "cell_type": "markdown",
      "metadata": {
        "id": "596701c4"
      },
      "source": [
        "__Train/Test Split__"
      ],
      "id": "596701c4"
    },
    {
      "cell_type": "code",
      "metadata": {
        "id": "091a0ccf"
      },
      "source": [
        "# split X and y into cross-validation (80%) and testing (20%) data sets\n",
        "X_train, X_test, y_train, y_test = train_test_split(X, y, test_size =0.20, random_state=123, stratify = y)"
      ],
      "id": "091a0ccf",
      "execution_count": null,
      "outputs": []
    },
    {
      "cell_type": "markdown",
      "metadata": {
        "id": "d07ceed6"
      },
      "source": [
        "__Scaling of data__"
      ],
      "id": "d07ceed6"
    },
    {
      "cell_type": "code",
      "metadata": {
        "id": "e4c1313f"
      },
      "source": [
        "# Instantiate.\n",
        "ss = StandardScaler()\n",
        "\n",
        "# Fit and transform.\n",
        "X_train_sc = ss.fit_transform(X_train)\n",
        "X_test_sc = ss.transform(X_test)"
      ],
      "id": "e4c1313f",
      "execution_count": null,
      "outputs": []
    },
    {
      "cell_type": "markdown",
      "metadata": {
        "id": "d19VajIhAtoa"
      },
      "source": [
        "__Resampling techniques — Undersample majority class__\n",
        "\n",
        "Since we have an unbalanced dataset, We will use sampling technique."
      ],
      "id": "d19VajIhAtoa"
    },
    {
      "cell_type": "code",
      "metadata": {
        "id": "CFu70sOLAaHj",
        "colab": {
          "base_uri": "https://localhost:8080/"
        },
        "outputId": "3ddb1b70-7920-4760-c12a-bfb65673358c"
      },
      "source": [
        "X = pd.concat([X_train, y_train], axis=1)\n",
        "\n",
        "not_readmitted = X[X.readmitted==0]\n",
        "readmitted = X[X.readmitted==1]\n",
        "\n",
        "not_readmitted_sampled = resample(not_readmitted,\n",
        "                                replace = False, \n",
        "                                n_samples = len(readmitted),\n",
        "                                random_state = 42)\n",
        "\n",
        "downsampled = pd.concat([not_readmitted_sampled, readmitted])\n",
        "\n",
        "downsampled.readmitted.value_counts()"
      ],
      "id": "CFu70sOLAaHj",
      "execution_count": null,
      "outputs": [
        {
          "output_type": "execute_result",
          "data": {
            "text/plain": [
              "1    35426\n",
              "0    35426\n",
              "Name: readmitted, dtype: int64"
            ]
          },
          "metadata": {},
          "execution_count": 11
        }
      ]
    },
    {
      "cell_type": "code",
      "metadata": {
        "id": "Crr03rnyA2W5"
      },
      "source": [
        "y_train = downsampled.readmitted\n",
        "X_train = downsampled.drop('readmitted', axis=1)"
      ],
      "id": "Crr03rnyA2W5",
      "execution_count": null,
      "outputs": []
    },
    {
      "cell_type": "markdown",
      "metadata": {
        "id": "DM8TlSM_BAMV"
      },
      "source": [
        "__Train-Validation Splitting__"
      ],
      "id": "DM8TlSM_BAMV"
    },
    {
      "cell_type": "code",
      "metadata": {
        "id": "f7dQ0nvTA7di"
      },
      "source": [
        "X_train, X_val, y_train, y_val = train_test_split(X_train, y_train, test_size = 0.25, random_state = 42)"
      ],
      "id": "f7dQ0nvTA7di",
      "execution_count": null,
      "outputs": []
    },
    {
      "cell_type": "markdown",
      "metadata": {
        "id": "hwHhZD3qCiF4"
      },
      "source": [
        "__Modelling__"
      ],
      "id": "hwHhZD3qCiF4"
    },
    {
      "cell_type": "markdown",
      "metadata": {
        "id": "eO7wZN-9CjSi"
      },
      "source": [
        "__Model Selection__"
      ],
      "id": "eO7wZN-9CjSi"
    },
    {
      "cell_type": "code",
      "metadata": {
        "id": "pqw2hr4xCmul"
      },
      "source": [
        "from sklearn.metrics import roc_auc_score, accuracy_score, precision_score, recall_score,f1_score\n",
        "from sklearn.metrics import confusion_matrix as cm"
      ],
      "id": "pqw2hr4xCmul",
      "execution_count": null,
      "outputs": []
    },
    {
      "cell_type": "code",
      "metadata": {
        "id": "hpMCm2JRCvhm"
      },
      "source": [
        "def calc_specificity(y_actual, y_pred, thresh):\n",
        "    # calculates specificity\n",
        "    return sum((y_pred < thresh) & (y_actual == 0)) /sum(y_actual ==0)\n",
        "\n",
        "def print_report(y_actual, y_pred, thresh):\n",
        "    \n",
        "    auc = roc_auc_score(y_actual, y_pred)\n",
        "    accuracy = accuracy_score(y_actual, (y_pred > thresh))\n",
        "    recall = recall_score(y_actual, (y_pred > thresh))\n",
        "    precision = precision_score(y_actual, (y_pred > thresh))\n",
        "    fscore = f1_score(y_actual,(y_pred > thresh) )\n",
        "    specificity = calc_specificity(y_actual, y_pred, thresh)\n",
        "    print('AUC:%.3f'%auc)\n",
        "    print('accuracy:%.3f'%accuracy)\n",
        "    print('recall:%.3f'%recall)\n",
        "    print('precision:%.3f'%precision)\n",
        "    print('fscore:%.3f'%fscore)\n",
        "    print('specificity:%.3f'%specificity)\n",
        "    print(' ')\n",
        "    return auc, accuracy, recall, precision,fscore, specificity"
      ],
      "id": "hpMCm2JRCvhm",
      "execution_count": null,
      "outputs": []
    },
    {
      "cell_type": "code",
      "metadata": {
        "id": "F19cph3CCzuJ"
      },
      "source": [
        "thresh = 0.5"
      ],
      "id": "F19cph3CCzuJ",
      "execution_count": null,
      "outputs": []
    },
    {
      "cell_type": "markdown",
      "metadata": {
        "id": "OvOO6HQkC3hP"
      },
      "source": [
        "__Model Selection: Baseline Models__"
      ],
      "id": "OvOO6HQkC3hP"
    },
    {
      "cell_type": "markdown",
      "metadata": {
        "id": "RLg4EqVRC6al"
      },
      "source": [
        "__Naive Bayes Classifier__"
      ],
      "id": "RLg4EqVRC6al"
    },
    {
      "cell_type": "code",
      "metadata": {
        "id": "jnTPooviC9b2"
      },
      "source": [
        "from sklearn.naive_bayes import GaussianNB\n",
        "nb_model = GaussianNB().fit(X_train, y_train)"
      ],
      "id": "jnTPooviC9b2",
      "execution_count": null,
      "outputs": []
    },
    {
      "cell_type": "code",
      "metadata": {
        "colab": {
          "base_uri": "https://localhost:8080/"
        },
        "id": "JUtZKcxTDP2a",
        "outputId": "67ee8ab7-2b56-4933-ec39-86072b83038e"
      },
      "source": [
        "y_train_preds = nb_model.predict_proba(X_train)[:,1]\n",
        "y_val_preds = nb_model.predict_proba(X_val)[:,1]\n",
        "\n",
        "print(\"Naive Bayes Classifier\")\n",
        "print('Training:')\n",
        "nb_train_auc, nb_train_accuracy, nb_train_recall, \\\n",
        "    nb_train_precision, nb_train_fscore, nb_train_specificity = print_report(y_train,y_train_preds, thresh)\n",
        "print('Validation:')\n",
        "nb_val_auc, nb_val_accuracy, nb_val_recall, \\\n",
        "    nb_val_precision,nb_val_fscore, nb_val_specificity = print_report(y_val,y_val_preds, thresh)"
      ],
      "id": "JUtZKcxTDP2a",
      "execution_count": null,
      "outputs": [
        {
          "output_type": "stream",
          "name": "stdout",
          "text": [
            "Naive Bayes Classifier\n",
            "Training:\n",
            "AUC:0.637\n",
            "accuracy:0.573\n",
            "recall:0.294\n",
            "precision:0.665\n",
            "fscore:0.408\n",
            "specificity:0.853\n",
            " \n",
            "Validation:\n",
            "AUC:0.637\n",
            "accuracy:0.574\n",
            "recall:0.294\n",
            "precision:0.672\n",
            "fscore:0.409\n",
            "specificity:0.856\n",
            " \n"
          ]
        }
      ]
    },
    {
      "cell_type": "code",
      "metadata": {
        "colab": {
          "base_uri": "https://localhost:8080/",
          "height": 352
        },
        "id": "JzoY9lkgDXQo",
        "outputId": "22aef93e-2c07-4458-d32c-15fd5f14bb48"
      },
      "source": [
        "# Confusion Matrix\n",
        "\n",
        "predictions = nb_model.predict(X_train)\n",
        "train_score = round(accuracy_score(y_train, predictions), 3)\n",
        "cm_train = cm(y_train, predictions)\n",
        "\n",
        "predictions = nb_model.predict(X_val)\n",
        "val_score = round(accuracy_score(y_val, predictions), 3)\n",
        "cm_val = cm(y_val, predictions)\n",
        "\n",
        "fig, (ax1,ax2) = plt.subplots(nrows=1,ncols=2,figsize=(15,5)) \n",
        "sns.heatmap(cm_train, annot=True, fmt=\".0f\",ax=ax1, cmap='Blues')\n",
        "ax1.set_xlabel('Predicted Values')\n",
        "ax1.set_ylabel('Actual Values')\n",
        "ax1.set_title('Train Accuracy Score: {0}'.format(train_score), size = 15)\n",
        "sns.heatmap(cm_val, annot=True, fmt=\".0f\",ax=ax2, cmap='Greens')\n",
        "ax2.set_xlabel('Predicted Values')\n",
        "ax2.set_ylabel('Actual Values')\n",
        "ax2.set_title('Validation Accuracy Score: {0}'.format(val_score), size = 15)\n",
        "plt.show()"
      ],
      "id": "JzoY9lkgDXQo",
      "execution_count": null,
      "outputs": [
        {
          "output_type": "display_data",
          "data": {
            "image/png": "[encoded data removed]",
            "text/plain": [
              "<Figure size 1080x360 with 4 Axes>"
            ]
          },
          "metadata": {
            "needs_background": "light"
          }
        }
      ]
    },
    {
      "cell_type": "markdown",
      "metadata": {
        "id": "KOgSljpYDx6j"
      },
      "source": [
        "__K Nearest Neighbours__"
      ],
      "id": "KOgSljpYDx6j"
    },
    {
      "cell_type": "code",
      "metadata": {
        "id": "HLKGafPMDvV3"
      },
      "source": [
        "from sklearn.neighbors import KNeighborsClassifier\n",
        "knn_model = KNeighborsClassifier(n_neighbors = 100).fit(X_train, y_train)"
      ],
      "id": "HLKGafPMDvV3",
      "execution_count": null,
      "outputs": []
    },
    {
      "cell_type": "code",
      "metadata": {
        "colab": {
          "base_uri": "https://localhost:8080/"
        },
        "id": "v_odD2ekEIEr",
        "outputId": "b3c6b350-97bf-4ce1-c49f-438c6b08b028"
      },
      "source": [
        "y_train_preds = knn_model.predict_proba(X_train)[:,1]\n",
        "y_val_preds = knn_model.predict_proba(X_val)[:,1]\n",
        "\n",
        "print(\"k Nearest Neighbours\")\n",
        "print('Training:')\n",
        "knn_train_auc, knn_train_accuracy, knn_train_recall, \\\n",
        "    knn_train_precision, knn_train_fscore, knn_train_specificity = print_report(y_train,y_train_preds, thresh)\n",
        "print('Validation:')\n",
        "knn_val_auc, knn_val_accuracy, knn_val_recall, \\\n",
        "    knn_val_precision,knn_val_fscore, knn_val_specificity = print_report(y_val,y_val_preds, thresh)"
      ],
      "id": "v_odD2ekEIEr",
      "execution_count": null,
      "outputs": [
        {
          "output_type": "stream",
          "name": "stdout",
          "text": [
            "k Nearest Neighbours\n",
            "Training:\n",
            "AUC:0.637\n",
            "accuracy:0.598\n",
            "recall:0.523\n",
            "precision:0.615\n",
            "fscore:0.565\n",
            "specificity:0.625\n",
            " \n",
            "Validation:\n",
            "AUC:0.606\n",
            "accuracy:0.573\n",
            "recall:0.492\n",
            "precision:0.588\n",
            "fscore:0.536\n",
            "specificity:0.604\n",
            " \n"
          ]
        }
      ]
    },
    {
      "cell_type": "code",
      "metadata": {
        "colab": {
          "base_uri": "https://localhost:8080/",
          "height": 352
        },
        "id": "NEUb6YQyEPWY",
        "outputId": "6f79f58d-f278-4b1d-c199-6870a01e78a9"
      },
      "source": [
        "# Confusion Matrix\n",
        "\n",
        "predictions = knn_model.predict(X_train)\n",
        "train_score = round(accuracy_score(y_train, predictions), 3)\n",
        "cm_train = cm(y_train, predictions)\n",
        "\n",
        "predictions = knn_model.predict(X_val)\n",
        "val_score = round(accuracy_score(y_val, predictions), 3)\n",
        "cm_val = cm(y_val, predictions)\n",
        "\n",
        "fig, (ax1,ax2) = plt.subplots(nrows=1,ncols=2,figsize=(15,5)) \n",
        "sns.heatmap(cm_train, annot=True, fmt=\".0f\",ax=ax1, cmap='Blues')\n",
        "ax1.set_xlabel('Predicted Values')\n",
        "ax1.set_ylabel('Actual Values')\n",
        "ax1.set_title('Train Accuracy Score: {0}'.format(train_score), size = 15)\n",
        "sns.heatmap(cm_val, annot=True, fmt=\".0f\",ax=ax2, cmap='Greens')\n",
        "ax2.set_xlabel('Predicted Values')\n",
        "ax2.set_ylabel('Actual Values')\n",
        "ax2.set_title('Validation Accuracy Score: {0}'.format(val_score), size = 15)\n",
        "plt.show()"
      ],
      "id": "NEUb6YQyEPWY",
      "execution_count": null,
      "outputs": [
        {
          "output_type": "display_data",
          "data": {
            "image/png": "[encoded data removed]",
            "text/plain": [
              "<Figure size 1080x360 with 4 Axes>"
            ]
          },
          "metadata": {
            "needs_background": "light"
          }
        }
      ]
    },
    {
      "cell_type": "markdown",
      "metadata": {
        "id": "N9pXi4mkEp-O"
      },
      "source": [
        "__Logistic Regression__"
      ],
      "id": "N9pXi4mkEp-O"
    },
    {
      "cell_type": "code",
      "metadata": {
        "id": "NXssR4RhEq7X"
      },
      "source": [
        "log_model = LogisticRegression(solver = \"liblinear\",class_weight=\"balanced\",random_state = 42).fit(X_train, y_train)"
      ],
      "id": "NXssR4RhEq7X",
      "execution_count": null,
      "outputs": []
    },
    {
      "cell_type": "code",
      "metadata": {
        "colab": {
          "base_uri": "https://localhost:8080/"
        },
        "id": "q4Xxtr33E5ct",
        "outputId": "21481e66-2438-4c3e-c869-059bc3588d50"
      },
      "source": [
        "y_train_preds = log_model.predict_proba(X_train)[:,1]\n",
        "y_val_preds = log_model.predict_proba(X_val)[:,1]\n",
        "\n",
        "print(\"Logistic Regression\")\n",
        "print('Training:')\n",
        "lr_train_auc, lr_train_accuracy, lr_train_recall, \\\n",
        "    lr_train_precision, lr_train_fscore, lr_train_specificity = print_report(y_train,y_train_preds, thresh)\n",
        "print('Validation:')\n",
        "lr_val_auc, lr_val_accuracy, lr_val_recall, \\\n",
        "    lr_val_precision,lr_val_fscore, lr_val_specificity = print_report(y_val,y_val_preds, thresh)"
      ],
      "id": "q4Xxtr33E5ct",
      "execution_count": null,
      "outputs": [
        {
          "output_type": "stream",
          "name": "stdout",
          "text": [
            "Logistic Regression\n",
            "Training:\n",
            "AUC:0.658\n",
            "accuracy:0.613\n",
            "recall:0.529\n",
            "precision:0.635\n",
            "fscore:0.577\n",
            "specificity:0.697\n",
            " \n",
            "Validation:\n",
            "AUC:0.658\n",
            "accuracy:0.608\n",
            "recall:0.523\n",
            "precision:0.631\n",
            "fscore:0.572\n",
            "specificity:0.692\n",
            " \n"
          ]
        }
      ]
    },
    {
      "cell_type": "code",
      "metadata": {
        "colab": {
          "base_uri": "https://localhost:8080/",
          "height": 352
        },
        "id": "1-cefwduEnqS",
        "outputId": "88a50cd6-f423-4eb2-9d2a-8ea39af22e4c"
      },
      "source": [
        "# Confusion Matrix\n",
        "\n",
        "predictions = log_model.predict(X_train)\n",
        "train_score = round(accuracy_score(y_train, predictions), 3)\n",
        "cm_train = cm(y_train, predictions)\n",
        "\n",
        "predictions = log_model.predict(X_val)\n",
        "val_score = round(accuracy_score(y_val, predictions), 3)\n",
        "cm_val = cm(y_val, predictions)\n",
        "\n",
        "fig, (ax1,ax2) = plt.subplots(nrows=1,ncols=2,figsize=(15,5)) \n",
        "sns.heatmap(cm_train, annot=True, fmt=\".0f\",ax=ax1, cmap='Blues')\n",
        "ax1.set_xlabel('Predicted Values')\n",
        "ax1.set_ylabel('Actual Values')\n",
        "ax1.set_title('Train Accuracy Score: {0}'.format(train_score), size = 15)\n",
        "sns.heatmap(cm_val, annot=True, fmt=\".0f\",ax=ax2, cmap='Greens')\n",
        "ax2.set_xlabel('Predicted Values')\n",
        "ax2.set_ylabel('Actual Values')\n",
        "ax2.set_title('Validation Accuracy Score: {0}'.format(val_score), size = 15)\n",
        "plt.show()"
      ],
      "id": "1-cefwduEnqS",
      "execution_count": null,
      "outputs": [
        {
          "output_type": "display_data",
          "data": {
            "image/png": "[encoded data removed]",
            "text/plain": [
              "<Figure size 1080x360 with 4 Axes>"
            ]
          },
          "metadata": {
            "needs_background": "light"
          }
        }
      ]
    },
    {
      "cell_type": "markdown",
      "metadata": {
        "id": "r6hDLNl6E_5k"
      },
      "source": [
        "__Decision Tree__"
      ],
      "id": "r6hDLNl6E_5k"
    },
    {
      "cell_type": "code",
      "metadata": {
        "id": "h7Y8EI1aFDcJ"
      },
      "source": [
        "dt_model = DecisionTreeClassifier(max_depth = 10, random_state = 42).fit(X_train, y_train)"
      ],
      "id": "h7Y8EI1aFDcJ",
      "execution_count": null,
      "outputs": []
    },
    {
      "cell_type": "code",
      "metadata": {
        "colab": {
          "base_uri": "https://localhost:8080/"
        },
        "id": "poM8Ot09FI31",
        "outputId": "10ac11c4-5122-4458-bd51-2b5c7000a2ba"
      },
      "source": [
        "y_train_preds = dt_model.predict_proba(X_train)[:,1]\n",
        "y_val_preds = dt_model.predict_proba(X_val)[:,1]\n",
        "\n",
        "print(\"Decision Tree\")\n",
        "print('Training:')\n",
        "dt_train_auc, dt_train_accuracy, dt_train_recall, \\\n",
        "    dt_train_precision, dt_train_fscore, dt_train_specificity = print_report(y_train,y_train_preds, thresh)\n",
        "print('Validation:')\n",
        "dt_val_auc, dt_val_accuracy, dt_val_recall, \\\n",
        "    dt_val_precision,dt_val_fscore, dt_val_specificity = print_report(y_val,y_val_preds, thresh)"
      ],
      "id": "poM8Ot09FI31",
      "execution_count": null,
      "outputs": [
        {
          "output_type": "stream",
          "name": "stdout",
          "text": [
            "Decision Tree\n",
            "Training:\n",
            "AUC:0.711\n",
            "accuracy:0.647\n",
            "recall:0.642\n",
            "precision:0.648\n",
            "fscore:0.645\n",
            "specificity:0.649\n",
            " \n",
            "Validation:\n",
            "AUC:0.632\n",
            "accuracy:0.599\n",
            "recall:0.588\n",
            "precision:0.602\n",
            "fscore:0.595\n",
            "specificity:0.606\n",
            " \n"
          ]
        }
      ]
    },
    {
      "cell_type": "code",
      "metadata": {
        "colab": {
          "base_uri": "https://localhost:8080/",
          "height": 352
        },
        "id": "dzOu_jWKFKqZ",
        "outputId": "41897251-ec70-423c-c5f2-a6312adc152b"
      },
      "source": [
        "# Confusion Matrix\n",
        "\n",
        "predictions = dt_model.predict(X_train)\n",
        "train_score = round(accuracy_score(y_train, predictions), 3)\n",
        "cm_train = cm(y_train, predictions)\n",
        "\n",
        "predictions = dt_model.predict(X_val)\n",
        "val_score = round(accuracy_score(y_val, predictions), 3)\n",
        "cm_val = cm(y_val, predictions)\n",
        "\n",
        "fig, (ax1,ax2) = plt.subplots(nrows=1,ncols=2,figsize=(15,5)) \n",
        "sns.heatmap(cm_train, annot=True, fmt=\".0f\",ax=ax1, cmap='Blues')\n",
        "ax1.set_xlabel('Predicted Values')\n",
        "ax1.set_ylabel('Actual Values')\n",
        "ax1.set_title('Train Accuracy Score: {0}'.format(train_score), size = 15)\n",
        "sns.heatmap(cm_val, annot=True, fmt=\".0f\",ax=ax2, cmap='Greens')\n",
        "ax2.set_xlabel('Predicted Values')\n",
        "ax2.set_ylabel('Actual Values')\n",
        "ax2.set_title('Validation Accuracy Score: {0}'.format(val_score), size = 15)\n",
        "plt.show()"
      ],
      "id": "dzOu_jWKFKqZ",
      "execution_count": null,
      "outputs": [
        {
          "output_type": "display_data",
          "data": {
            "image/png": "[encoded data removed]",
            "text/plain": [
              "<Figure size 1080x360 with 4 Axes>"
            ]
          },
          "metadata": {
            "needs_background": "light"
          }
        }
      ]
    },
    {
      "cell_type": "markdown",
      "metadata": {
        "id": "zvFUySjpFmv3"
      },
      "source": [
        "__Random Forest Classifier__"
      ],
      "id": "zvFUySjpFmv3"
    },
    {
      "cell_type": "code",
      "metadata": {
        "colab": {
          "base_uri": "https://localhost:8080/"
        },
        "id": "kFn-yWLsFoOS",
        "outputId": "c06bb71e-af23-47b9-dc8e-09589e53ba42"
      },
      "source": [
        "random_forest_model = RandomForestClassifier(random_state=42, max_depth=6)\n",
        "random_forest_model.fit(X_train, y_train) "
      ],
      "id": "kFn-yWLsFoOS",
      "execution_count": null,
      "outputs": [
        {
          "output_type": "execute_result",
          "data": {
            "text/plain": [
              "RandomForestClassifier(max_depth=6, random_state=42)"
            ]
          },
          "metadata": {},
          "execution_count": 30
        }
      ]
    },
    {
      "cell_type": "code",
      "metadata": {
        "colab": {
          "base_uri": "https://localhost:8080/"
        },
        "id": "qQxloHTuFrY_",
        "outputId": "b7da2411-bf81-48c7-8726-2a81c002e3d5"
      },
      "source": [
        "y_train_preds = random_forest_model.predict_proba(X_train)[:,1]\n",
        "y_val_preds = random_forest_model.predict_proba(X_val)[:,1]\n",
        "\n",
        "print(\"Random Forest\")\n",
        "print('Training:')\n",
        "rf_train_auc, rf_train_accuracy, rf_train_recall, rf_train_precision,rf_train_fscore, rf_train_specificity =print_report(y_train,y_train_preds, thresh)\n",
        "print('Validation:')\n",
        "rf_val_auc, rf_val_accuracy, rf_val_recall, rf_val_precision,rf_val_fscore, rf_val_specificity = print_report(y_val,y_val_preds, thresh)"
      ],
      "id": "qQxloHTuFrY_",
      "execution_count": null,
      "outputs": [
        {
          "output_type": "stream",
          "name": "stdout",
          "text": [
            "Random Forest\n",
            "Training:\n",
            "AUC:0.672\n",
            "accuracy:0.620\n",
            "recall:0.547\n",
            "precision:0.640\n",
            "fscore:0.590\n",
            "specificity:0.694\n",
            " \n",
            "Validation:\n",
            "AUC:0.663\n",
            "accuracy:0.616\n",
            "recall:0.541\n",
            "precision:0.638\n",
            "fscore:0.585\n",
            "specificity:0.691\n",
            " \n"
          ]
        }
      ]
    },
    {
      "cell_type": "code",
      "metadata": {
        "colab": {
          "base_uri": "https://localhost:8080/",
          "height": 352
        },
        "id": "pOWDqd-rFvex",
        "outputId": "e25cefa7-5803-40a4-c0b3-dd33eb4fbcf6"
      },
      "source": [
        "# Confusion Matrix\n",
        "\n",
        "predictions = random_forest_model.predict(X_train)\n",
        "train_score = round(accuracy_score(y_train, predictions), 3)\n",
        "cm_train = cm(y_train, predictions)\n",
        "\n",
        "predictions = random_forest_model.predict(X_val)\n",
        "val_score = round(accuracy_score(y_val, predictions), 3)\n",
        "cm_val = cm(y_val, predictions)\n",
        "\n",
        "fig, (ax1,ax2) = plt.subplots(nrows=1,ncols=2,figsize=(15,5)) \n",
        "sns.heatmap(cm_train, annot=True, fmt=\".0f\",ax=ax1, cmap='Blues')\n",
        "ax1.set_xlabel('Predicted Values')\n",
        "ax1.set_ylabel('Actual Values')\n",
        "ax1.set_title('Train Accuracy Score: {0}'.format(train_score), size = 15)\n",
        "sns.heatmap(cm_val, annot=True, fmt=\".0f\",ax=ax2, cmap='Greens')\n",
        "ax2.set_xlabel('Predicted Values')\n",
        "ax2.set_ylabel('Actual Values')\n",
        "ax2.set_title('Validation Accuracy Score: {0}'.format(val_score), size = 15)\n",
        "plt.show()"
      ],
      "id": "pOWDqd-rFvex",
      "execution_count": null,
      "outputs": [
        {
          "output_type": "display_data",
          "data": {
            "image/png": "[encoded data removed]",
            "text/plain": [
              "<Figure size 1080x360 with 4 Axes>"
            ]
          },
          "metadata": {
            "needs_background": "light"
          }
        }
      ]
    },
    {
      "cell_type": "markdown",
      "metadata": {
        "id": "oeToSA70F4ia"
      },
      "source": [
        "__XGBOOST Classifier__"
      ],
      "id": "oeToSA70F4ia"
    },
    {
      "cell_type": "code",
      "metadata": {
        "colab": {
          "base_uri": "https://localhost:8080/"
        },
        "id": "O28212-tF7wR",
        "outputId": "666421fa-85b7-455c-e26f-2cf2b916d4ae"
      },
      "source": [
        "from xgboost import XGBClassifier\n",
        "xgb_model = XGBClassifier(random_state=42, n_jobs=-1,max_depth=3)\n",
        "xgb_model.fit(X_train, y_train)"
      ],
      "id": "O28212-tF7wR",
      "execution_count": null,
      "outputs": [
        {
          "output_type": "execute_result",
          "data": {
            "text/plain": [
              "XGBClassifier(n_jobs=-1, random_state=42)"
            ]
          },
          "metadata": {},
          "execution_count": 33
        }
      ]
    },
    {
      "cell_type": "code",
      "metadata": {
        "colab": {
          "base_uri": "https://localhost:8080/"
        },
        "id": "cfWATqjRGQ1g",
        "outputId": "c24c6e33-bd5e-4dc2-a7e9-f51e3f8582f3"
      },
      "source": [
        "y_train_preds = xgb_model.predict_proba(X_train)[:,1]\n",
        "y_val_preds = xgb_model.predict_proba(X_val)[:,1]\n",
        "\n",
        "print(\"XGBOOST\")\n",
        "y_train_preds = xgb_model.predict_proba(X_train)[:,1]\n",
        "y_val_preds = xgb_model.predict_proba(X_val)[:,1]\n",
        "\n",
        "print('Training:')\n",
        "xgb_train_auc, xgb_train_accuracy, xgb_train_recall, xgb_train_precision, xgb_train_fscore, xgb_train_specificity = print_report(y_train,y_train_preds, thresh)\n",
        "print('Validation:')\n",
        "xgb_val_auc, xgb_val_accuracy, xgb_val_recall, xgb_val_precision,xgb_val_fscore, xgb_val_specificity = print_report(y_val,y_val_preds, thresh)"
      ],
      "id": "cfWATqjRGQ1g",
      "execution_count": null,
      "outputs": [
        {
          "output_type": "stream",
          "name": "stdout",
          "text": [
            "XGBOOST\n",
            "Training:\n",
            "AUC:0.681\n",
            "accuracy:0.627\n",
            "recall:0.572\n",
            "precision:0.643\n",
            "fscore:0.605\n",
            "specificity:0.682\n",
            " \n",
            "Validation:\n",
            "AUC:0.671\n",
            "accuracy:0.622\n",
            "recall:0.563\n",
            "precision:0.639\n",
            "fscore:0.599\n",
            "specificity:0.681\n",
            " \n"
          ]
        }
      ]
    },
    {
      "cell_type": "code",
      "metadata": {
        "colab": {
          "base_uri": "https://localhost:8080/",
          "height": 352
        },
        "id": "bOS88FhzGX0O",
        "outputId": "1c451672-b4a2-4107-d237-ab2c29115385"
      },
      "source": [
        "# Confusion Matrix\n",
        "\n",
        "predictions = xgb_model.predict(X_train)\n",
        "train_score = round(accuracy_score(y_train, predictions), 3)\n",
        "cm_train = cm(y_train, predictions)\n",
        "\n",
        "predictions = xgb_model.predict(X_val)\n",
        "val_score = round(accuracy_score(y_val, predictions), 3)\n",
        "cm_val = cm(y_val, predictions)\n",
        "\n",
        "fig, (ax1,ax2) = plt.subplots(nrows=1,ncols=2,figsize=(15,5)) \n",
        "sns.heatmap(cm_train, annot=True, fmt=\".0f\",ax=ax1, cmap='Blues')\n",
        "ax1.set_xlabel('Predicted Values')\n",
        "ax1.set_ylabel('Actual Values')\n",
        "ax1.set_title('Train Accuracy Score: {0}'.format(train_score), size = 15)\n",
        "sns.heatmap(cm_val, annot=True, fmt=\".0f\",ax=ax2, cmap='Greens')\n",
        "ax2.set_xlabel('Predicted Values')\n",
        "ax2.set_ylabel('Actual Values')\n",
        "ax2.set_title('Validation Accuracy Score: {0}'.format(val_score), size = 15)\n",
        "plt.show()"
      ],
      "id": "bOS88FhzGX0O",
      "execution_count": null,
      "outputs": [
        {
          "output_type": "display_data",
          "data": {
            "image/png": "[encoded data removed]",
            "text/plain": [
              "<Figure size 1080x360 with 4 Axes>"
            ]
          },
          "metadata": {
            "needs_background": "light"
          }
        }
      ]
    },
    {
      "cell_type": "markdown",
      "metadata": {
        "id": "YByMXEM_Gdiq"
      },
      "source": [
        "__Analyze results baseline models__"
      ],
      "id": "YByMXEM_Gdiq"
    },
    {
      "cell_type": "code",
      "metadata": {
        "id": "clhl7SVyGeif"
      },
      "source": [
        "base_models_results = pd.DataFrame({'classifier':['NB','NB','KNN','KNN','LOR','LOR','DT','DT','RF','RF','XGB','XGB'],\n",
        "                           'data_set':['train','val']*6,\n",
        "                          'auc':[nb_train_auc, nb_val_auc, knn_train_auc, knn_val_auc, lr_train_auc, lr_val_auc, dt_train_auc, dt_val_auc, rf_train_auc, rf_val_auc, xgb_train_auc, xgb_val_auc],\n",
        "                          'accuracy':[nb_train_accuracy, nb_val_accuracy, knn_train_accuracy, knn_val_accuracy, lr_train_accuracy, lr_val_accuracy, dt_train_accuracy, dt_val_accuracy, rf_train_accuracy, rf_val_accuracy, xgb_train_accuracy,xgb_val_accuracy],\n",
        "                          'recall':[nb_train_recall, nb_val_recall, knn_train_recall, knn_val_recall, lr_train_recall, lr_val_recall, dt_train_recall, dt_val_recall, rf_train_recall, rf_val_recall, xgb_train_recall,xgb_val_recall],\n",
        "                          'precision':[nb_train_precision, nb_val_precision, knn_train_precision, knn_val_precision, lr_train_precision, lr_val_precision, dt_train_precision, dt_val_precision, rf_train_precision, rf_val_precision, xgb_train_precision, xgb_val_precision],\n",
        "                          'fscore':[nb_train_fscore, nb_val_fscore, knn_train_fscore, knn_val_fscore, lr_train_fscore, lr_val_fscore, dt_train_fscore, dt_val_fscore, rf_train_fscore, rf_val_fscore, xgb_train_fscore, xgb_val_fscore],\n",
        "                          'specificity':[nb_train_specificity, nb_val_specificity, knn_train_specificity, knn_val_specificity, lr_train_specificity, lr_val_specificity, dt_train_specificity, dt_val_specificity, rf_train_specificity,rf_val_specificity, xgb_train_specificity, xgb_val_specificity]})"
      ],
      "id": "clhl7SVyGeif",
      "execution_count": null,
      "outputs": []
    },
    {
      "cell_type": "code",
      "metadata": {
        "colab": {
          "base_uri": "https://localhost:8080/",
          "height": 421
        },
        "id": "n2V_ENWEGlsH",
        "outputId": "f874e9d5-7f9a-491d-eb58-12f0c9ea6db9"
      },
      "source": [
        "base_models_results"
      ],
      "id": "n2V_ENWEGlsH",
      "execution_count": null,
      "outputs": [
        {
          "output_type": "execute_result",
          "data": {
            "text/html": [
              "<div>\n",
              "<style scoped>\n",
              "    .dataframe tbody tr th:only-of-type {\n",
              "        vertical-align: middle;\n",
              "    }\n",
              "\n",
              "    .dataframe tbody tr th {\n",
              "        vertical-align: top;\n",
              "    }\n",
              "\n",
              "    .dataframe thead th {\n",
              "        text-align: right;\n",
              "    }\n",
              "</style>\n",
              "<table border=\"1\" class=\"dataframe\">\n",
              "  <thead>\n",
              "    <tr style=\"text-align: right;\">\n",
              "      <th></th>\n",
              "      <th>classifier</th>\n",
              "      <th>data_set</th>\n",
              "      <th>auc</th>\n",
              "      <th>accuracy</th>\n",
              "      <th>recall</th>\n",
              "      <th>precision</th>\n",
              "      <th>fscore</th>\n",
              "      <th>specificity</th>\n",
              "    </tr>\n",
              "  </thead>\n",
              "  <tbody>\n",
              "    <tr>\n",
              "      <th>0</th>\n",
              "      <td>NB</td>\n",
              "      <td>train</td>\n",
              "      <td>0.637392</td>\n",
              "      <td>0.573439</td>\n",
              "      <td>0.293830</td>\n",
              "      <td>0.665472</td>\n",
              "      <td>0.407662</td>\n",
              "      <td>0.852555</td>\n",
              "    </tr>\n",
              "    <tr>\n",
              "      <th>1</th>\n",
              "      <td>NB</td>\n",
              "      <td>val</td>\n",
              "      <td>0.636596</td>\n",
              "      <td>0.574211</td>\n",
              "      <td>0.294144</td>\n",
              "      <td>0.672156</td>\n",
              "      <td>0.409212</td>\n",
              "      <td>0.855768</td>\n",
              "    </tr>\n",
              "    <tr>\n",
              "      <th>2</th>\n",
              "      <td>KNN</td>\n",
              "      <td>train</td>\n",
              "      <td>0.636595</td>\n",
              "      <td>0.597904</td>\n",
              "      <td>0.522715</td>\n",
              "      <td>0.614717</td>\n",
              "      <td>0.564995</td>\n",
              "      <td>0.625089</td>\n",
              "    </tr>\n",
              "    <tr>\n",
              "      <th>3</th>\n",
              "      <td>KNN</td>\n",
              "      <td>val</td>\n",
              "      <td>0.606483</td>\n",
              "      <td>0.572743</td>\n",
              "      <td>0.491554</td>\n",
              "      <td>0.588434</td>\n",
              "      <td>0.535649</td>\n",
              "      <td>0.604098</td>\n",
              "    </tr>\n",
              "    <tr>\n",
              "      <th>4</th>\n",
              "      <td>LOR</td>\n",
              "      <td>train</td>\n",
              "      <td>0.658480</td>\n",
              "      <td>0.613071</td>\n",
              "      <td>0.529006</td>\n",
              "      <td>0.635401</td>\n",
              "      <td>0.577343</td>\n",
              "      <td>0.696988</td>\n",
              "    </tr>\n",
              "    <tr>\n",
              "      <th>5</th>\n",
              "      <td>LOR</td>\n",
              "      <td>val</td>\n",
              "      <td>0.658296</td>\n",
              "      <td>0.607520</td>\n",
              "      <td>0.523423</td>\n",
              "      <td>0.630836</td>\n",
              "      <td>0.572132</td>\n",
              "      <td>0.692064</td>\n",
              "    </tr>\n",
              "    <tr>\n",
              "      <th>6</th>\n",
              "      <td>DT</td>\n",
              "      <td>train</td>\n",
              "      <td>0.711016</td>\n",
              "      <td>0.647152</td>\n",
              "      <td>0.642131</td>\n",
              "      <td>0.648235</td>\n",
              "      <td>0.645169</td>\n",
              "      <td>0.648629</td>\n",
              "    </tr>\n",
              "    <tr>\n",
              "      <th>7</th>\n",
              "      <td>DT</td>\n",
              "      <td>val</td>\n",
              "      <td>0.632333</td>\n",
              "      <td>0.598826</td>\n",
              "      <td>0.587838</td>\n",
              "      <td>0.602354</td>\n",
              "      <td>0.595007</td>\n",
              "      <td>0.605796</td>\n",
              "    </tr>\n",
              "    <tr>\n",
              "      <th>8</th>\n",
              "      <td>RF</td>\n",
              "      <td>train</td>\n",
              "      <td>0.671753</td>\n",
              "      <td>0.620166</td>\n",
              "      <td>0.546523</td>\n",
              "      <td>0.640417</td>\n",
              "      <td>0.589756</td>\n",
              "      <td>0.693679</td>\n",
              "    </tr>\n",
              "    <tr>\n",
              "      <th>9</th>\n",
              "      <td>RF</td>\n",
              "      <td>val</td>\n",
              "      <td>0.663065</td>\n",
              "      <td>0.615819</td>\n",
              "      <td>0.540878</td>\n",
              "      <td>0.637764</td>\n",
              "      <td>0.585339</td>\n",
              "      <td>0.691158</td>\n",
              "    </tr>\n",
              "    <tr>\n",
              "      <th>10</th>\n",
              "      <td>XGB</td>\n",
              "      <td>train</td>\n",
              "      <td>0.680553</td>\n",
              "      <td>0.627411</td>\n",
              "      <td>0.572327</td>\n",
              "      <td>0.642709</td>\n",
              "      <td>0.605480</td>\n",
              "      <td>0.682398</td>\n",
              "    </tr>\n",
              "    <tr>\n",
              "      <th>11</th>\n",
              "      <td>XGB</td>\n",
              "      <td>val</td>\n",
              "      <td>0.670900</td>\n",
              "      <td>0.621634</td>\n",
              "      <td>0.563063</td>\n",
              "      <td>0.639223</td>\n",
              "      <td>0.598731</td>\n",
              "      <td>0.680516</td>\n",
              "    </tr>\n",
              "  </tbody>\n",
              "</table>\n",
              "</div>"
            ],
            "text/plain": [
              "   classifier data_set       auc  ...  precision    fscore  specificity\n",
              "0          NB    train  0.637392  ...   0.665472  0.407662     0.852555\n",
              "1          NB      val  0.636596  ...   0.672156  0.409212     0.855768\n",
              "2         KNN    train  0.636595  ...   0.614717  0.564995     0.625089\n",
              "3         KNN      val  0.606483  ...   0.588434  0.535649     0.604098\n",
              "4         LOR    train  0.658480  ...   0.635401  0.577343     0.696988\n",
              "5         LOR      val  0.658296  ...   0.630836  0.572132     0.692064\n",
              "6          DT    train  0.711016  ...   0.648235  0.645169     0.648629\n",
              "7          DT      val  0.632333  ...   0.602354  0.595007     0.605796\n",
              "8          RF    train  0.671753  ...   0.640417  0.589756     0.693679\n",
              "9          RF      val  0.663065  ...   0.637764  0.585339     0.691158\n",
              "10        XGB    train  0.680553  ...   0.642709  0.605480     0.682398\n",
              "11        XGB      val  0.670900  ...   0.639223  0.598731     0.680516\n",
              "\n",
              "[12 rows x 8 columns]"
            ]
          },
          "metadata": {},
          "execution_count": 37
        }
      ]
    },
    {
      "cell_type": "code",
      "metadata": {
        "colab": {
          "base_uri": "https://localhost:8080/",
          "height": 398
        },
        "id": "RpbispKoGnPe",
        "outputId": "c22d7472-e6fc-4d6e-b66b-e7934fc0f63f"
      },
      "source": [
        "fig, ax = plt.subplots(figsize=(10,6)) \n",
        "ax = sns.barplot(x=\"classifier\", y=\"auc\", hue=\"data_set\", data=base_models_results, color='lightblue')\n",
        "ax.set_xlabel('Classifier',fontsize = 15)\n",
        "ax.set_ylabel('AUC', fontsize = 15)\n",
        "ax.tick_params(labelsize=15)\n",
        "\n",
        "# Put the legend out of the figure\n",
        "plt.legend(bbox_to_anchor=(1.05, 1), loc=2, borderaxespad=0., fontsize = 15)\n",
        "plt.show()"
      ],
      "id": "RpbispKoGnPe",
      "execution_count": null,
      "outputs": [
        {
          "output_type": "display_data",
          "data": {
            "image/png": "[encoded data removed]",
            "text/plain": [
              "<Figure size 720x432 with 1 Axes>"
            ]
          },
          "metadata": {
            "needs_background": "light"
          }
        }
      ]
    },
    {
      "cell_type": "markdown",
      "metadata": {
        "id": "GxdaNVb6ISwU"
      },
      "source": [
        "__Model Selection: Learning Curve__"
      ],
      "id": "GxdaNVb6ISwU"
    },
    {
      "cell_type": "code",
      "metadata": {
        "id": "qC-KjLVQISAI"
      },
      "source": [
        "import numpy as np\n",
        "from sklearn.model_selection import learning_curve\n",
        "from sklearn.model_selection import ShuffleSplit\n",
        "\n",
        "def plot_learning_curve(estimator, title, X, y, ylim=None, cv=None,\n",
        "                        n_jobs=1, train_sizes=np.linspace(.1, 1.0, 5)):\n",
        "    \"\"\"\n",
        "    Generate a simple plot of the test and training learning curve.\n",
        "\n",
        "    Parameters\n",
        "    ----------\n",
        "    estimator : object type that implements the \"fit\" and \"predict\" methods\n",
        "        An object of that type which is cloned for each validation.\n",
        "\n",
        "    title : string\n",
        "        Title for the chart.\n",
        "\n",
        "    X : array-like, shape (n_samples, n_features)\n",
        "        Training vector, where n_samples is the number of samples and\n",
        "        n_features is the number of features.\n",
        "\n",
        "    y : array-like, shape (n_samples) or (n_samples, n_features), optional\n",
        "        Target relative to X for classification or regression;\n",
        "        None for unsupervised learning.\n",
        "\n",
        "    ylim : tuple, shape (ymin, ymax), optional\n",
        "        Defines minimum and maximum yvalues plotted.\n",
        "\n",
        "    cv : int, cross-validation generator or an iterable, optional\n",
        "        Determines the cross-validation splitting strategy.\n",
        "        Possible inputs for cv are:\n",
        "          - None, to use the default 3-fold cross-validation,\n",
        "          - integer, to specify the number of folds.\n",
        "          - An object to be used as a cross-validation generator.\n",
        "          - An iterable yielding train/test splits.\n",
        "\n",
        "        For integer/None inputs, if ``y`` is binary or multiclass,\n",
        "        :class:`StratifiedKFold` used. If the estimator is not a classifier\n",
        "        or if ``y`` is neither binary nor multiclass, :class:`KFold` is used.\n",
        "\n",
        "        Refer :ref:`User Guide <cross_validation>` for the various\n",
        "        cross-validators that can be used here.\n",
        "\n",
        "    n_jobs : integer, optional\n",
        "        Number of jobs to run in parallel (default 1).\n",
        "    \"\"\"\n",
        "    plt.figure()\n",
        "    plt.title(title)\n",
        "    if ylim is not None:\n",
        "        plt.ylim(*ylim)\n",
        "    plt.xlabel(\"Training examples\")\n",
        "    plt.ylabel(\"AUC\")\n",
        "    train_sizes, train_scores, test_scores = learning_curve(\n",
        "        estimator, X, y, cv=cv, n_jobs=n_jobs, train_sizes=train_sizes, scoring = 'roc_auc')\n",
        "    train_scores_mean = np.mean(train_scores, axis=1)\n",
        "    train_scores_std = np.std(train_scores, axis=1)\n",
        "    test_scores_mean = np.mean(test_scores, axis=1)\n",
        "    test_scores_std = np.std(test_scores, axis=1)\n",
        "    plt.grid()\n",
        "\n",
        "    plt.fill_between(train_sizes, train_scores_mean - train_scores_std,\n",
        "                     train_scores_mean + train_scores_std, alpha=0.1,\n",
        "                     color=\"r\")\n",
        "    plt.fill_between(train_sizes, test_scores_mean - test_scores_std,\n",
        "                     test_scores_mean + test_scores_std, alpha=0.1, color=\"b\")\n",
        "    plt.plot(train_sizes, train_scores_mean, 'o-', color=\"r\",\n",
        "             label=\"Training score\")\n",
        "    plt.plot(train_sizes, test_scores_mean, 'o-', color=\"b\",\n",
        "             label=\"Cross-validation score\")\n",
        "\n",
        "    plt.legend(loc=\"best\")\n",
        "    return plt"
      ],
      "id": "qC-KjLVQISAI",
      "execution_count": null,
      "outputs": []
    },
    {
      "cell_type": "code",
      "metadata": {
        "colab": {
          "base_uri": "https://localhost:8080/",
          "height": 295
        },
        "id": "ROJBZqWdFMU7",
        "outputId": "942e4317-6fed-4277-d178-8f219aa931e5"
      },
      "source": [
        "title = \"Learning Curves (Random Forest)\"\n",
        "# Cross validation with 5 iterations to get smoother mean test and train\n",
        "# score curves, each time with 20% data randomly selected as a validation set.\n",
        "cv = ShuffleSplit(n_splits=5, test_size=0.2, random_state=42)\n",
        "estimator = RandomForestClassifier(max_depth = 6, random_state = 42)\n",
        "plot_learning_curve(estimator, title, X_train, y_train, ylim=(0.2, 1.01), cv=cv, n_jobs=4)\n",
        "\n",
        "plt.show()"
      ],
      "id": "ROJBZqWdFMU7",
      "execution_count": null,
      "outputs": [
        {
          "output_type": "display_data",
          "data": {
            "image/png": "[encoded data removed]",
            "text/plain": [
              "<Figure size 432x288 with 1 Axes>"
            ]
          },
          "metadata": {
            "needs_background": "light"
          }
        }
      ]
    },
    {
      "cell_type": "markdown",
      "metadata": {
        "id": "M35mZ6VXIqod"
      },
      "source": [
        "In the case of random forest, we can see the training and validation scores are similar but they both have low scores. This is called high bias and is a sign of underfitting. "
      ],
      "id": "M35mZ6VXIqod"
    },
    {
      "cell_type": "markdown",
      "metadata": {
        "id": "ZCg1P3_aItrT"
      },
      "source": [
        "Depending on your learning curve, there are a few strategies you can employ to improve your models\n",
        "\n",
        "High Bias:\n",
        "- Add new features\n",
        "- Increase model complexity\n",
        "- Reduce regularization\n",
        "- Change model architecture \n",
        "\n",
        "\n",
        "High Variance:\n",
        "- Add more samples\n",
        "- Add regularization\n",
        "- Reduce number of features\n",
        "- Decrease model complexity\n",
        "- Add better features\n",
        "- Change model architecture\n",
        "\n",
        "\n",
        "Source: Andrew Ng's [Coursera class](https://www.coursera.org/specializations/deep-learning?utm_source=gg&utm_medium=sem&campaignid=904733485&adgroupid=54215108588&device=c&keyword=andrew%20ng&matchtype=p&network=g&devicemodel=&adpostion=1t1&creativeid=231631799402&hide_mobile_promo&gclid=Cj0KCQjwk_TbBRDsARIsAALJSOZlkCoqhf68wjopusy6Kzw1qewNAEC-9H0K1LhwOwRZ2llTZtVINicaAiG-EALw_wcB) paraphrased on <https://www.learnopencv.com/bias-variance-tradeoff-in-machine-learning/> and Andrew Ng's Machine Learning Yearning textbook. \n"
      ],
      "id": "ZCg1P3_aItrT"
    },
    {
      "cell_type": "markdown",
      "metadata": {
        "id": "v6ziO0O9Iz88"
      },
      "source": [
        "__Feature Importance__"
      ],
      "id": "v6ziO0O9Iz88"
    },
    {
      "cell_type": "markdown",
      "metadata": {
        "id": "ZM1qlVUZI2wh"
      },
      "source": [
        "__Feature Importance with XGBoost Classifier__"
      ],
      "id": "ZM1qlVUZI2wh"
    },
    {
      "cell_type": "code",
      "metadata": {
        "colab": {
          "base_uri": "https://localhost:8080/",
          "height": 621
        },
        "id": "lU75sJSRI44K",
        "outputId": "75cc142a-94f2-4090-b008-ab09226340c2"
      },
      "source": [
        "import xgboost as xgb\n",
        "\n",
        "plt.rcParams[\"figure.figsize\"] = (18, 10)\n",
        "xgb.plot_importance(xgb_model)\n",
        "\n",
        "feature_imp = pd.Series(xgb_model.feature_importances_, index = X_train.columns)\n",
        "best_features = feature_imp.nlargest(25)"
      ],
      "id": "lU75sJSRI44K",
      "execution_count": null,
      "outputs": [
        {
          "output_type": "display_data",
          "data": {
            "image/png": "[encoded data removed]",
            "text/plain": [
              "<Figure size 1296x720 with 1 Axes>"
            ]
          },
          "metadata": {
            "needs_background": "light"
          }
        }
      ]
    },
    {
      "cell_type": "code",
      "metadata": {
        "colab": {
          "base_uri": "https://localhost:8080/"
        },
        "id": "b5xK8_rkJE0l",
        "outputId": "36197991-bf18-4601-caf4-c5d4cdcd2540"
      },
      "source": [
        "best_features.index"
      ],
      "id": "b5xK8_rkJE0l",
      "execution_count": null,
      "outputs": [
        {
          "output_type": "execute_result",
          "data": {
            "text/plain": [
              "Index(['number_inpatient', 'number_diagnoses', 'diabetesMed',\n",
              "       'number_outpatient', 'number_emergency', 'admission_source_id',\n",
              "       'max_glu_serum', 'time_in_hospital', 'age_range', 'num_medications',\n",
              "       'admission_type_id', 'discharge_disposition_id', 'metformin',\n",
              "       'num_procedures', 'num_lab_procedures', 'insulin', 'diag_1', 'diag_2',\n",
              "       'glipizide', 'gender', 'race', 'repaglinide', 'A1Cresult', 'diag_3',\n",
              "       'glyburide'],\n",
              "      dtype='object')"
            ]
          },
          "metadata": {},
          "execution_count": 42
        }
      ]
    },
    {
      "cell_type": "code",
      "metadata": {
        "id": "BAGQKEp7JZOC"
      },
      "source": [
        "X_train_importance = X_train[best_features.index]\n",
        "X_val_importance = X_val[best_features.index]\n",
        "X_test_importance = X_test[best_features.index]"
      ],
      "id": "BAGQKEp7JZOC",
      "execution_count": null,
      "outputs": []
    },
    {
      "cell_type": "markdown",
      "metadata": {
        "id": "AinUqqIJJdYG"
      },
      "source": [
        "__Hyperparameter Tuning__"
      ],
      "id": "AinUqqIJJdYG"
    },
    {
      "cell_type": "markdown",
      "metadata": {
        "id": "EdnnX3mHJiPa"
      },
      "source": [
        "__Random Forest Classifier Model Tuning__"
      ],
      "id": "EdnnX3mHJiPa"
    },
    {
      "cell_type": "code",
      "metadata": {
        "colab": {
          "base_uri": "https://localhost:8080/"
        },
        "id": "uvGwZjklJzeE",
        "outputId": "b7cf9c81-ee99-4914-8727-68633d96a83c"
      },
      "source": [
        "random_forest_model.get_params()\n"
      ],
      "id": "uvGwZjklJzeE",
      "execution_count": null,
      "outputs": [
        {
          "output_type": "execute_result",
          "data": {
            "text/plain": [
              "{'bootstrap': True,\n",
              " 'ccp_alpha': 0.0,\n",
              " 'class_weight': None,\n",
              " 'criterion': 'gini',\n",
              " 'max_depth': 6,\n",
              " 'max_features': 'auto',\n",
              " 'max_leaf_nodes': None,\n",
              " 'max_samples': None,\n",
              " 'min_impurity_decrease': 0.0,\n",
              " 'min_samples_leaf': 1,\n",
              " 'min_samples_split': 2,\n",
              " 'min_weight_fraction_leaf': 0.0,\n",
              " 'n_estimators': 100,\n",
              " 'n_jobs': None,\n",
              " 'oob_score': False,\n",
              " 'random_state': 42,\n",
              " 'verbose': 0,\n",
              " 'warm_start': False}"
            ]
          },
          "metadata": {},
          "execution_count": 44
        }
      ]
    },
    {
      "cell_type": "code",
      "metadata": {
        "colab": {
          "base_uri": "https://localhost:8080/"
        },
        "id": "R6fv6DDcJ5xc",
        "outputId": "1a40c56e-bfca-4a05-e6bb-61ee21978187"
      },
      "source": [
        "from sklearn.model_selection import RandomizedSearchCV\n",
        "\n",
        "# number of trees\n",
        "n_estimators = range(200,1000,200)\n",
        "# maximum number of features to use at each split\n",
        "max_features = ['auto','sqrt']\n",
        "# maximum depth of the tree\n",
        "max_depth = range(1,10,1)\n",
        "# minimum number of samples to split a node\n",
        "min_samples_split = range(2,10,2)\n",
        "# criterion for evaluating a split\n",
        "criterion = ['gini','entropy']\n",
        "\n",
        "# random grid\n",
        "\n",
        "random_grid = {'n_estimators':n_estimators,\n",
        "              'max_features':max_features,\n",
        "              'max_depth':max_depth,\n",
        "              'min_samples_split':min_samples_split,\n",
        "              'criterion':criterion}\n",
        "\n",
        "print(random_grid)"
      ],
      "id": "R6fv6DDcJ5xc",
      "execution_count": null,
      "outputs": [
        {
          "output_type": "stream",
          "name": "stdout",
          "text": [
            "{'n_estimators': range(200, 1000, 200), 'max_features': ['auto', 'sqrt'], 'max_depth': range(1, 10), 'min_samples_split': range(2, 10, 2), 'criterion': ['gini', 'entropy']}\n"
          ]
        }
      ]
    },
    {
      "cell_type": "code",
      "metadata": {
        "id": "_9TqKsRVJ6K4"
      },
      "source": [
        "from sklearn.metrics import make_scorer, roc_auc_score\n",
        "auc_scoring = make_scorer(roc_auc_score)"
      ],
      "id": "_9TqKsRVJ6K4",
      "execution_count": null,
      "outputs": []
    },
    {
      "cell_type": "code",
      "metadata": {
        "id": "RTuncNb_KT6q"
      },
      "source": [
        "# create the randomized search cross-validation\n",
        "rf_random = RandomizedSearchCV(estimator = random_forest_model, param_distributions = random_grid, \n",
        "                               n_iter = 20, cv = 2, scoring=auc_scoring,\n",
        "                               verbose = 1, random_state = 42)"
      ],
      "id": "RTuncNb_KT6q",
      "execution_count": null,
      "outputs": []
    },
    {
      "cell_type": "code",
      "metadata": {
        "colab": {
          "base_uri": "https://localhost:8080/"
        },
        "id": "GY47dw4lKZjA",
        "outputId": "5b1944f5-7e6f-4a85-a956-e716ba99d24a"
      },
      "source": [
        "# fit the random search model (this will take a few minutes)\n",
        "import time\n",
        "t1 = time.time()\n",
        "rf_random.fit(X_train_importance, y_train)\n",
        "t2 = time.time()\n",
        "print(t2-t1)"
      ],
      "id": "GY47dw4lKZjA",
      "execution_count": null,
      "outputs": [
        {
          "output_type": "stream",
          "name": "stdout",
          "text": [
            "Fitting 2 folds for each of 20 candidates, totalling 40 fits\n",
            "368.1386456489563\n"
          ]
        }
      ]
    },
    {
      "cell_type": "code",
      "metadata": {
        "colab": {
          "base_uri": "https://localhost:8080/"
        },
        "id": "rnzFdhNUKPtW",
        "outputId": "50d9cd73-5f32-4fe3-e4e1-c05e68025782"
      },
      "source": [
        "rf_random.best_params_"
      ],
      "id": "rnzFdhNUKPtW",
      "execution_count": null,
      "outputs": [
        {
          "output_type": "execute_result",
          "data": {
            "text/plain": [
              "{'criterion': 'gini',\n",
              " 'max_depth': 9,\n",
              " 'max_features': 'auto',\n",
              " 'min_samples_split': 2,\n",
              " 'n_estimators': 800}"
            ]
          },
          "metadata": {},
          "execution_count": 49
        }
      ]
    },
    {
      "cell_type": "code",
      "metadata": {
        "colab": {
          "base_uri": "https://localhost:8080/"
        },
        "id": "AzjagDgUKg2R",
        "outputId": "0f889906-900b-4685-e70f-7e1d979d8895"
      },
      "source": [
        "y_train_preds = random_forest_model.predict_proba(X_train)[:,1]\n",
        "y_val_preds = random_forest_model.predict_proba(X_val)[:,1]\n",
        "\n",
        "print('Baseline Random Forest')\n",
        "rf_train_auc_base = roc_auc_score(y_train, y_train_preds)\n",
        "rf_val_auc_base = roc_auc_score(y_val, y_val_preds)\n",
        "\n",
        "print('Training AUC:%.3f'%(rf_train_auc_base))\n",
        "print('Validation AUC:%.3f'%(rf_val_auc_base))\n",
        "\n",
        "print('Optimized Random Forest')\n",
        "y_train_preds_random = rf_random.best_estimator_.predict_proba(X_train_importance)[:,1]\n",
        "y_val_preds_random = rf_random.best_estimator_.predict_proba(X_val_importance)[:,1]\n",
        "\n",
        "rf_train_auc = roc_auc_score(y_train, y_train_preds_random)\n",
        "rf_val_auc = roc_auc_score(y_val, y_val_preds_random)\n",
        "\n",
        "print('Training AUC:%.3f'%(rf_train_auc))\n",
        "print('Validation AUC:%.3f'%(rf_val_auc))"
      ],
      "id": "AzjagDgUKg2R",
      "execution_count": null,
      "outputs": [
        {
          "output_type": "stream",
          "name": "stdout",
          "text": [
            "Baseline Random Forest\n",
            "Training AUC:0.672\n",
            "Validation AUC:0.663\n",
            "Optimized Random Forest\n",
            "Training AUC:0.714\n",
            "Validation AUC:0.669\n"
          ]
        }
      ]
    },
    {
      "cell_type": "markdown",
      "metadata": {
        "id": "mJ26Hc3dKj5Q"
      },
      "source": [
        "__XGBoost Classifier Model Tuning__"
      ],
      "id": "mJ26Hc3dKj5Q"
    },
    {
      "cell_type": "code",
      "metadata": {
        "colab": {
          "base_uri": "https://localhost:8080/"
        },
        "id": "feFx8bq_5ANd",
        "outputId": "8b761e94-195b-4eec-dec3-444f041b5c95"
      },
      "source": [
        "# number of trees\n",
        "n_estimators = range(100,500,100)\n",
        "\n",
        "# maximum depth of the tree\n",
        "max_depth = range(1,5,1)\n",
        "\n",
        "# learning rate\n",
        "learning_rate = [0.001,0.01,0.1]\n",
        "\n",
        "# random grid\n",
        "\n",
        "random_grid_xgbc = {'n_estimators':n_estimators,\n",
        "              'max_depth':max_depth,\n",
        "              'learning_rate':learning_rate}\n",
        "\n",
        "# create the randomized search cross-validation\n",
        "xgbc_random = RandomizedSearchCV(estimator = xgb_model, param_distributions = random_grid_xgbc,\n",
        "                                n_iter = 20, cv = 2, scoring=auc_scoring,\n",
        "                                verbose = 0, random_state = 42)\n",
        "\n",
        "t1 = time.time()\n",
        "xgbc_random.fit(X_train_importance, y_train)\n",
        "t2 = time.time()\n",
        "print(t2-t1)\n"
      ],
      "id": "feFx8bq_5ANd",
      "execution_count": null,
      "outputs": [
        {
          "output_type": "stream",
          "name": "stdout",
          "text": [
            "160.55984234809875\n"
          ]
        }
      ]
    },
    {
      "cell_type": "code",
      "metadata": {
        "colab": {
          "base_uri": "https://localhost:8080/"
        },
        "id": "EFJIkDTqMPT4",
        "outputId": "efd736b7-b98b-4db1-8125-35e6d98df068"
      },
      "source": [
        "xgbc_random.best_params_"
      ],
      "id": "EFJIkDTqMPT4",
      "execution_count": null,
      "outputs": [
        {
          "output_type": "execute_result",
          "data": {
            "text/plain": [
              "{'learning_rate': 0.1, 'max_depth': 4, 'n_estimators': 200}"
            ]
          },
          "metadata": {},
          "execution_count": 54
        }
      ]
    },
    {
      "cell_type": "code",
      "metadata": {
        "colab": {
          "base_uri": "https://localhost:8080/"
        },
        "id": "FkQXI23CMWlv",
        "outputId": "d9996ab2-82ba-4834-b653-c1d8c435ed62"
      },
      "source": [
        "y_train_preds = xgb_model.predict_proba(X_train)[:,1]\n",
        "y_val_preds = xgb_model.predict_proba(X_val)[:,1]\n",
        "\n",
        "print('Baseline XGB')\n",
        "xgb_train_auc_base = roc_auc_score(y_train, y_train_preds)\n",
        "xgb_val_auc_base = roc_auc_score(y_val, y_val_preds)\n",
        "\n",
        "print('Training AUC:%.3f'%(xgb_train_auc_base))\n",
        "print('Validation AUC:%.3f'%(xgb_val_auc_base))\n",
        "\n",
        "print('Optimized XGB')\n",
        "y_train_preds_xgb = xgbc_random.best_estimator_.predict_proba(X_train_importance)[:,1]\n",
        "y_val_preds_xgb = xgbc_random.best_estimator_.predict_proba(X_val_importance)[:,1]\n",
        "\n",
        "xgb_train_auc = roc_auc_score(y_train, y_train_preds_xgb)\n",
        "xgb_val_auc = roc_auc_score(y_val, y_val_preds_xgb)\n",
        "\n",
        "print('Training AUC:%.3f'%(xgb_train_auc))\n",
        "print('Validation AUC:%.3f'%(xgb_val_auc))"
      ],
      "id": "FkQXI23CMWlv",
      "execution_count": null,
      "outputs": [
        {
          "output_type": "stream",
          "name": "stdout",
          "text": [
            "Baseline XGB\n",
            "Training AUC:0.681\n",
            "Validation AUC:0.671\n",
            "Optimized XGB\n",
            "Training AUC:0.707\n",
            "Validation AUC:0.673\n"
          ]
        }
      ]
    },
    {
      "cell_type": "markdown",
      "metadata": {
        "id": "BL4xQwLsM4zi"
      },
      "source": [
        "__Hyperparameter Tuning Results__"
      ],
      "id": "BL4xQwLsM4zi"
    },
    {
      "cell_type": "code",
      "metadata": {
        "id": "sH3PTRLyM8cM"
      },
      "source": [
        "data_results = pd.DataFrame({'classifier':['RF','RF','XGB','XGB'],\n",
        "                           'data_set':['base','optimized']*2,\n",
        "                          'auc':[rf_val_auc_base,rf_val_auc,\n",
        "                                 xgb_val_auc_base,xgb_val_auc,\n",
        "                                ],\n",
        "                          })"
      ],
      "id": "sH3PTRLyM8cM",
      "execution_count": null,
      "outputs": []
    },
    {
      "cell_type": "code",
      "metadata": {
        "colab": {
          "base_uri": "https://localhost:8080/",
          "height": 173
        },
        "id": "4KEdWmmEM_IA",
        "outputId": "83a6b3e6-86a5-4751-db25-1e0ec7c58443"
      },
      "source": [
        "data_results"
      ],
      "id": "4KEdWmmEM_IA",
      "execution_count": null,
      "outputs": [
        {
          "output_type": "execute_result",
          "data": {
            "text/html": [
              "<div>\n",
              "<style scoped>\n",
              "    .dataframe tbody tr th:only-of-type {\n",
              "        vertical-align: middle;\n",
              "    }\n",
              "\n",
              "    .dataframe tbody tr th {\n",
              "        vertical-align: top;\n",
              "    }\n",
              "\n",
              "    .dataframe thead th {\n",
              "        text-align: right;\n",
              "    }\n",
              "</style>\n",
              "<table border=\"1\" class=\"dataframe\">\n",
              "  <thead>\n",
              "    <tr style=\"text-align: right;\">\n",
              "      <th></th>\n",
              "      <th>classifier</th>\n",
              "      <th>data_set</th>\n",
              "      <th>auc</th>\n",
              "    </tr>\n",
              "  </thead>\n",
              "  <tbody>\n",
              "    <tr>\n",
              "      <th>0</th>\n",
              "      <td>RF</td>\n",
              "      <td>base</td>\n",
              "      <td>0.663065</td>\n",
              "    </tr>\n",
              "    <tr>\n",
              "      <th>1</th>\n",
              "      <td>RF</td>\n",
              "      <td>optimized</td>\n",
              "      <td>0.669049</td>\n",
              "    </tr>\n",
              "    <tr>\n",
              "      <th>2</th>\n",
              "      <td>XGB</td>\n",
              "      <td>base</td>\n",
              "      <td>0.670900</td>\n",
              "    </tr>\n",
              "    <tr>\n",
              "      <th>3</th>\n",
              "      <td>XGB</td>\n",
              "      <td>optimized</td>\n",
              "      <td>0.672530</td>\n",
              "    </tr>\n",
              "  </tbody>\n",
              "</table>\n",
              "</div>"
            ],
            "text/plain": [
              "  classifier   data_set       auc\n",
              "0         RF       base  0.663065\n",
              "1         RF  optimized  0.669049\n",
              "2        XGB       base  0.670900\n",
              "3        XGB  optimized  0.672530"
            ]
          },
          "metadata": {},
          "execution_count": 57
        }
      ]
    },
    {
      "cell_type": "code",
      "metadata": {
        "colab": {
          "base_uri": "https://localhost:8080/",
          "height": 347
        },
        "id": "1LvrK4PCNo7z",
        "outputId": "61c75a04-9cde-4c7d-db7a-e2a749c25bec"
      },
      "source": [
        "fig = plt.figure(figsize=(10,5),)\n",
        "ax = sns.barplot(x=\"classifier\", y=\"auc\", hue=\"data_set\", data=data_results, color = 'lightblue')\n",
        "ax.set_xlabel('Classifier',fontsize = 15)\n",
        "ax.set_ylabel('AUC', fontsize = 15)\n",
        "ax.tick_params(labelsize=15)\n",
        "# Put the legend out of the figure\n",
        "plt.legend(bbox_to_anchor=(1.05, 1), loc=2, borderaxespad=0., fontsize = 15)\n",
        "\n",
        "plt.show()"
      ],
      "id": "1LvrK4PCNo7z",
      "execution_count": null,
      "outputs": [
        {
          "output_type": "display_data",
          "data": {
            "image/png": "[encoded data removed]",
            "text/plain": [
              "<Figure size 720x360 with 1 Axes>"
            ]
          },
          "metadata": {
            "needs_background": "light"
          }
        }
      ]
    },
    {
      "cell_type": "markdown",
      "metadata": {
        "id": "i4TcX4PKOO2Y"
      },
      "source": [
        "__Roc-Auc Comparison of Models__"
      ],
      "id": "i4TcX4PKOO2Y"
    },
    {
      "cell_type": "code",
      "metadata": {
        "id": "f4y0en4dORmG"
      },
      "source": [
        "from sklearn.metrics import confusion_matrix, accuracy_score,f1_score,recall_score,mean_squared_error, r2_score, roc_auc_score, roc_curve, classification_report\n",
        "\n",
        "classifiers = [ rf_random.best_estimator_,\n",
        "                xgbc_random.best_estimator_]\n",
        "\n",
        "# Define a result table as a DataFrame\n",
        "result_table = pd.DataFrame(columns=['classifiers', 'fpr','tpr','auc'])\n",
        "\n",
        "# Train the models and record the results\n",
        "for cls in classifiers:\n",
        "    yproba = cls.predict_proba(X_test_importance)[::,1]\n",
        "    \n",
        "    fpr, tpr, _ = roc_curve(y_test,  yproba)\n",
        "    auc = roc_auc_score(y_test, yproba)\n",
        "    \n",
        "    result_table = result_table.append({'classifiers':cls.__class__.__name__,\n",
        "                                        'fpr':fpr, \n",
        "                                        'tpr':tpr, \n",
        "                                        'auc':auc}, ignore_index=True)\n",
        "\n",
        "# Set name of the classifiers as index labels\n",
        "result_table.set_index('classifiers', inplace=True)\n",
        "result_table.sort_values('auc',ascending=False,inplace=True)"
      ],
      "id": "f4y0en4dORmG",
      "execution_count": null,
      "outputs": []
    },
    {
      "cell_type": "code",
      "metadata": {
        "colab": {
          "base_uri": "https://localhost:8080/",
          "height": 410
        },
        "id": "UvGuLO1mOWWk",
        "outputId": "0529a32e-f8e9-47b2-cf20-efb3cf0271ca"
      },
      "source": [
        "fig = plt.figure(figsize=(10,6))\n",
        "\n",
        "for i in result_table.index:\n",
        "    plt.plot(result_table.loc[i]['fpr'], \n",
        "             result_table.loc[i]['tpr'], \n",
        "             label=\"{}, AUC={:.3f}\".format(i, result_table.loc[i]['auc']))\n",
        "    \n",
        "plt.plot([0,1], [0,1], color='black', linestyle='--')\n",
        "\n",
        "plt.xticks(np.arange(0.0, 1.1, step=0.1))\n",
        "plt.xlabel(\"False Positive Rate\", fontsize=14)\n",
        "\n",
        "plt.yticks(np.arange(0.0, 1.1, step=0.1))\n",
        "plt.ylabel(\"True Positive Rate\", fontsize=14)\n",
        "\n",
        "plt.title('ROC Curve Analysis', fontweight='bold', fontsize=15)\n",
        "plt.legend(prop={'size':10}, loc='lower right')\n",
        "\n",
        "plt.show()"
      ],
      "id": "UvGuLO1mOWWk",
      "execution_count": null,
      "outputs": [
        {
          "output_type": "display_data",
          "data": {
            "image/png": "[encoded data removed]",
            "text/plain": [
              "<Figure size 720x432 with 1 Axes>"
            ]
          },
          "metadata": {
            "needs_background": "light"
          }
        }
      ]
    },
    {
      "cell_type": "code",
      "metadata": {
        "id": "4Keq2KZMQIm7"
      },
      "source": [
        "def test_scores(y_actual, y_pred, thresh):\n",
        "    \n",
        "    auc = roc_auc_score(y_actual, y_pred)\n",
        "    accuracy = accuracy_score(y_actual, (y_pred > thresh))\n",
        "    recall = recall_score(y_actual, (y_pred > thresh))\n",
        "    \n",
        "    return auc, accuracy, recall\n",
        "\n",
        "\n",
        "classifiers = [ rf_random.best_estimator_,\n",
        "                xgbc_random.best_estimator_]\n",
        "\n",
        "# Define a result table as a DataFrame\n",
        "test_result = pd.DataFrame(columns=['classifiers', 'accuracy','recall','auc'])\n",
        "\n",
        "# Train the models and record the results\n",
        "for cls in classifiers:\n",
        "    y_test_preds = cls.predict_proba(X_test_importance)[:,1]\n",
        "    \n",
        "    test_auc, test_accuracy, test_recall = test_scores(y_test,y_test_preds, 0.5) # thresh = 0.5\n",
        "    \n",
        "    test_result = test_result.append({'classifiers':cls.__class__.__name__,\n",
        "                                        'accuracy':test_accuracy, \n",
        "                                        'recall':test_recall, \n",
        "                                        'auc':test_auc}, ignore_index=True)\n",
        "\n",
        "\n",
        "# Set name of the classifiers as index labels\n",
        "test_result.set_index('classifiers', inplace=True)\n",
        "test_result.sort_values('auc',ascending=False,inplace=True)"
      ],
      "id": "4Keq2KZMQIm7",
      "execution_count": null,
      "outputs": []
    },
    {
      "cell_type": "code",
      "metadata": {
        "colab": {
          "base_uri": "https://localhost:8080/",
          "height": 142
        },
        "id": "nd_IadJTQMF5",
        "outputId": "154b1a8a-5ae1-4ab7-ed1b-25ead9dcef36"
      },
      "source": [
        "test_result"
      ],
      "id": "nd_IadJTQMF5",
      "execution_count": null,
      "outputs": [
        {
          "output_type": "execute_result",
          "data": {
            "text/html": [
              "<div>\n",
              "<style scoped>\n",
              "    .dataframe tbody tr th:only-of-type {\n",
              "        vertical-align: middle;\n",
              "    }\n",
              "\n",
              "    .dataframe tbody tr th {\n",
              "        vertical-align: top;\n",
              "    }\n",
              "\n",
              "    .dataframe thead th {\n",
              "        text-align: right;\n",
              "    }\n",
              "</style>\n",
              "<table border=\"1\" class=\"dataframe\">\n",
              "  <thead>\n",
              "    <tr style=\"text-align: right;\">\n",
              "      <th></th>\n",
              "      <th>accuracy</th>\n",
              "      <th>recall</th>\n",
              "      <th>auc</th>\n",
              "    </tr>\n",
              "    <tr>\n",
              "      <th>classifiers</th>\n",
              "      <th></th>\n",
              "      <th></th>\n",
              "      <th></th>\n",
              "    </tr>\n",
              "  </thead>\n",
              "  <tbody>\n",
              "    <tr>\n",
              "      <th>XGBClassifier</th>\n",
              "      <td>0.628831</td>\n",
              "      <td>0.589770</td>\n",
              "      <td>0.677323</td>\n",
              "    </tr>\n",
              "    <tr>\n",
              "      <th>RandomForestClassifier</th>\n",
              "      <td>0.621327</td>\n",
              "      <td>0.545054</td>\n",
              "      <td>0.671795</td>\n",
              "    </tr>\n",
              "  </tbody>\n",
              "</table>\n",
              "</div>"
            ],
            "text/plain": [
              "                        accuracy    recall       auc\n",
              "classifiers                                         \n",
              "XGBClassifier           0.628831  0.589770  0.677323\n",
              "RandomForestClassifier  0.621327  0.545054  0.671795"
            ]
          },
          "metadata": {},
          "execution_count": 62
        }
      ]
    },
    {
      "cell_type": "code",
      "metadata": {
        "colab": {
          "base_uri": "https://localhost:8080/",
          "height": 617
        },
        "id": "DWOXPUjdQVqQ",
        "outputId": "404f6dc9-69ce-4f46-ad62-41db5e1e5374"
      },
      "source": [
        "import plotly.graph_objs as go\n",
        "\n",
        "trace1=go.Bar(\n",
        "                x=test_result.index,\n",
        "                y=test_result.accuracy,\n",
        "                name=\"Accuracy\",\n",
        "                marker= dict(color = 'LightBlue',\n",
        "                            line=dict(color='rgb(0,0,0)',width=1.0)),\n",
        "                text=round(test_result.accuracy,3),textposition='auto')\n",
        "trace2=go.Bar(\n",
        "                x=test_result.index,\n",
        "                y=test_result.recall,\n",
        "                name=\"Recall\",\n",
        "                marker=dict(color = 'lightYellow',\n",
        "                           line=dict(color='rgb(0,0,0)',width=1.0)),\n",
        "                text=round(test_result.recall,3),textposition='auto')\n",
        "trace3=go.Bar(\n",
        "                x=test_result.index,\n",
        "                y=test_result.auc,\n",
        "                name=\"AUC\",\n",
        "                marker=dict(color = 'LightGreen',\n",
        "                           line=dict(color='rgb(0,0,0)',width=1.0)),\n",
        "                text=round(test_result.auc,3),textposition='auto')\n",
        "\n",
        "edit_df=[trace1,trace2,trace3]\n",
        "layout = { 'barmode':'group',\n",
        "           'title_text':'Accuracy, Recall and AUC Plot Readmitted' }\n",
        "\n",
        "fig= go.Figure(data=edit_df,layout=go.Layout(\n",
        "    autosize=False,\n",
        "    width=800,\n",
        "    height=600,))\n",
        "#plt.savefig('graph.png')\n",
        "fig.show()"
      ],
      "id": "DWOXPUjdQVqQ",
      "execution_count": null,
      "outputs": [
        {
          "output_type": "display_data",
          "data": {
            "text/html": [
              "<html>\n",
              "<head><meta charset=\"utf-8\" /></head>\n",
              "<body>\n",
              "    <div>\n",
              "            <script src=\"https://cdnjs.cloudflare.com/ajax/libs/mathjax/2.7.5/MathJax.js?config=TeX-AMS-MML_SVG\"></script><script type=\"text/javascript\">if (window.MathJax) {MathJax.Hub.Config({SVG: {font: \"STIX-Web\"}});}</script>\n",
              "                <script type=\"text/javascript\">window.PlotlyConfig = {MathJaxConfig: 'local'};</script>\n",
              "        <script src=\"https://cdn.plot.ly/plotly-latest.min.js\"></script>    \n",
              "            <div id=\"df99f23d-58d0-4313-84fe-52b3305c862d\" class=\"plotly-graph-div\" style=\"height:600px; width:800px;\"></div>\n",
              "            <script type=\"text/javascript\">\n",
              "                \n",
              "                    window.PLOTLYENV=window.PLOTLYENV || {};\n",
              "                    \n",
              "                if (document.getElementById(\"df99f23d-58d0-4313-84fe-52b3305c862d\")) {\n",
              "                    Plotly.newPlot(\n",
              "                        'df99f23d-58d0-4313-84fe-52b3305c862d',\n",
              "                        [{\"marker\": {\"color\": \"LightBlue\", \"line\": {\"color\": \"rgb(0,0,0)\", \"width\": 1.0}}, \"name\": \"Accuracy\", \"text\": [0.629, 0.621], \"textposition\": \"auto\", \"type\": \"bar\", \"x\": [\"XGBClassifier\", \"RandomForestClassifier\"], \"y\": [0.6288311139294018, 0.6213274149228493]}, {\"marker\": {\"color\": \"lightYellow\", \"line\": {\"color\": \"rgb(0,0,0)\", \"width\": 1.0}}, \"name\": \"Recall\", \"text\": [0.59, 0.545], \"textposition\": \"auto\", \"type\": \"bar\", \"x\": [\"XGBClassifier\", \"RandomForestClassifier\"], \"y\": [0.589769647696477, 0.5450542005420054]}, {\"marker\": {\"color\": \"LightGreen\", \"line\": {\"color\": \"rgb(0,0,0)\", \"width\": 1.0}}, \"name\": \"AUC\", \"text\": [0.677, 0.672], \"textposition\": \"auto\", \"type\": \"bar\", \"x\": [\"XGBClassifier\", \"RandomForestClassifier\"], \"y\": [0.677322520994545, 0.6717949716992204]}],\n",
              "                        {\"autosize\": false, \"height\": 600, \"template\": {\"data\": {\"bar\": [{\"error_x\": {\"color\": \"#2a3f5f\"}, \"error_y\": {\"color\": \"#2a3f5f\"}, \"marker\": {\"line\": {\"color\": \"#E5ECF6\", \"width\": 0.5}}, \"type\": \"bar\"}], \"barpolar\": [{\"marker\": {\"line\": {\"color\": \"#E5ECF6\", \"width\": 0.5}}, \"type\": \"barpolar\"}], \"carpet\": [{\"aaxis\": {\"endlinecolor\": \"#2a3f5f\", \"gridcolor\": \"white\", \"linecolor\": \"white\", \"minorgridcolor\": \"white\", \"startlinecolor\": \"#2a3f5f\"}, \"baxis\": {\"endlinecolor\": \"#2a3f5f\", \"gridcolor\": \"white\", \"linecolor\": \"white\", \"minorgridcolor\": \"white\", \"startlinecolor\": \"#2a3f5f\"}, \"type\": \"carpet\"}], \"choropleth\": [{\"colorbar\": {\"outlinewidth\": 0, \"ticks\": \"\"}, \"type\": \"choropleth\"}], \"contour\": [{\"colorbar\": {\"outlinewidth\": 0, \"ticks\": \"\"}, \"colorscale\": [[0.0, \"#0d0887\"], [0.1111111111111111, \"#46039f\"], [0.2222222222222222, \"#7201a8\"], [0.3333333333333333, \"#9c179e\"], [0.4444444444444444, \"#bd3786\"], [0.5555555555555556, \"#d8576b\"], [0.6666666666666666, \"#ed7953\"], [0.7777777777777778, \"#fb9f3a\"], [0.8888888888888888, \"#fdca26\"], [1.0, \"#f0f921\"]], \"type\": \"contour\"}], \"contourcarpet\": [{\"colorbar\": {\"outlinewidth\": 0, \"ticks\": \"\"}, \"type\": \"contourcarpet\"}], \"heatmap\": [{\"colorbar\": {\"outlinewidth\": 0, \"ticks\": \"\"}, \"colorscale\": [[0.0, \"#0d0887\"], [0.1111111111111111, \"#46039f\"], [0.2222222222222222, \"#7201a8\"], [0.3333333333333333, \"#9c179e\"], [0.4444444444444444, \"#bd3786\"], [0.5555555555555556, \"#d8576b\"], [0.6666666666666666, \"#ed7953\"], [0.7777777777777778, \"#fb9f3a\"], [0.8888888888888888, \"#fdca26\"], [1.0, \"#f0f921\"]], \"type\": \"heatmap\"}], \"heatmapgl\": [{\"colorbar\": {\"outlinewidth\": 0, \"ticks\": \"\"}, \"colorscale\": [[0.0, \"#0d0887\"], [0.1111111111111111, \"#46039f\"], [0.2222222222222222, \"#7201a8\"], [0.3333333333333333, \"#9c179e\"], [0.4444444444444444, \"#bd3786\"], [0.5555555555555556, \"#d8576b\"], [0.6666666666666666, \"#ed7953\"], [0.7777777777777778, \"#fb9f3a\"], [0.8888888888888888, \"#fdca26\"], [1.0, \"#f0f921\"]], \"type\": \"heatmapgl\"}], \"histogram\": [{\"marker\": {\"colorbar\": {\"outlinewidth\": 0, \"ticks\": \"\"}}, \"type\": \"histogram\"}], \"histogram2d\": [{\"colorbar\": {\"outlinewidth\": 0, \"ticks\": \"\"}, \"colorscale\": [[0.0, \"#0d0887\"], [0.1111111111111111, \"#46039f\"], [0.2222222222222222, \"#7201a8\"], [0.3333333333333333, \"#9c179e\"], [0.4444444444444444, \"#bd3786\"], [0.5555555555555556, \"#d8576b\"], [0.6666666666666666, \"#ed7953\"], [0.7777777777777778, \"#fb9f3a\"], [0.8888888888888888, \"#fdca26\"], [1.0, \"#f0f921\"]], \"type\": \"histogram2d\"}], \"histogram2dcontour\": [{\"colorbar\": {\"outlinewidth\": 0, \"ticks\": \"\"}, \"colorscale\": [[0.0, \"#0d0887\"], [0.1111111111111111, \"#46039f\"], [0.2222222222222222, \"#7201a8\"], [0.3333333333333333, \"#9c179e\"], [0.4444444444444444, \"#bd3786\"], [0.5555555555555556, \"#d8576b\"], [0.6666666666666666, \"#ed7953\"], [0.7777777777777778, \"#fb9f3a\"], [0.8888888888888888, \"#fdca26\"], [1.0, \"#f0f921\"]], \"type\": \"histogram2dcontour\"}], \"mesh3d\": [{\"colorbar\": {\"outlinewidth\": 0, \"ticks\": \"\"}, \"type\": \"mesh3d\"}], \"parcoords\": [{\"line\": {\"colorbar\": {\"outlinewidth\": 0, \"ticks\": \"\"}}, \"type\": \"parcoords\"}], \"pie\": [{\"automargin\": true, \"type\": \"pie\"}], \"scatter\": [{\"marker\": {\"colorbar\": {\"outlinewidth\": 0, \"ticks\": \"\"}}, \"type\": \"scatter\"}], \"scatter3d\": [{\"line\": {\"colorbar\": {\"outlinewidth\": 0, \"ticks\": \"\"}}, \"marker\": {\"colorbar\": {\"outlinewidth\": 0, \"ticks\": \"\"}}, \"type\": \"scatter3d\"}], \"scattercarpet\": [{\"marker\": {\"colorbar\": {\"outlinewidth\": 0, \"ticks\": \"\"}}, \"type\": \"scattercarpet\"}], \"scattergeo\": [{\"marker\": {\"colorbar\": {\"outlinewidth\": 0, \"ticks\": \"\"}}, \"type\": \"scattergeo\"}], \"scattergl\": [{\"marker\": {\"colorbar\": {\"outlinewidth\": 0, \"ticks\": \"\"}}, \"type\": \"scattergl\"}], \"scattermapbox\": [{\"marker\": {\"colorbar\": {\"outlinewidth\": 0, \"ticks\": \"\"}}, \"type\": \"scattermapbox\"}], \"scatterpolar\": [{\"marker\": {\"colorbar\": {\"outlinewidth\": 0, \"ticks\": \"\"}}, \"type\": \"scatterpolar\"}], \"scatterpolargl\": [{\"marker\": {\"colorbar\": {\"outlinewidth\": 0, \"ticks\": \"\"}}, \"type\": \"scatterpolargl\"}], \"scatterternary\": [{\"marker\": {\"colorbar\": {\"outlinewidth\": 0, \"ticks\": \"\"}}, \"type\": \"scatterternary\"}], \"surface\": [{\"colorbar\": {\"outlinewidth\": 0, \"ticks\": \"\"}, \"colorscale\": [[0.0, \"#0d0887\"], [0.1111111111111111, \"#46039f\"], [0.2222222222222222, \"#7201a8\"], [0.3333333333333333, \"#9c179e\"], [0.4444444444444444, \"#bd3786\"], [0.5555555555555556, \"#d8576b\"], [0.6666666666666666, \"#ed7953\"], [0.7777777777777778, \"#fb9f3a\"], [0.8888888888888888, \"#fdca26\"], [1.0, \"#f0f921\"]], \"type\": \"surface\"}], \"table\": [{\"cells\": {\"fill\": {\"color\": \"#EBF0F8\"}, \"line\": {\"color\": \"white\"}}, \"header\": {\"fill\": {\"color\": \"#C8D4E3\"}, \"line\": {\"color\": \"white\"}}, \"type\": \"table\"}]}, \"layout\": {\"annotationdefaults\": {\"arrowcolor\": \"#2a3f5f\", \"arrowhead\": 0, \"arrowwidth\": 1}, \"coloraxis\": {\"colorbar\": {\"outlinewidth\": 0, \"ticks\": \"\"}}, \"colorscale\": {\"diverging\": [[0, \"#8e0152\"], [0.1, \"#c51b7d\"], [0.2, \"#de77ae\"], [0.3, \"#f1b6da\"], [0.4, \"#fde0ef\"], [0.5, \"#f7f7f7\"], [0.6, \"#e6f5d0\"], [0.7, \"#b8e186\"], [0.8, \"#7fbc41\"], [0.9, \"#4d9221\"], [1, \"#276419\"]], \"sequential\": [[0.0, \"#0d0887\"], [0.1111111111111111, \"#46039f\"], [0.2222222222222222, \"#7201a8\"], [0.3333333333333333, \"#9c179e\"], [0.4444444444444444, \"#bd3786\"], [0.5555555555555556, \"#d8576b\"], [0.6666666666666666, \"#ed7953\"], [0.7777777777777778, \"#fb9f3a\"], [0.8888888888888888, \"#fdca26\"], [1.0, \"#f0f921\"]], \"sequentialminus\": [[0.0, \"#0d0887\"], [0.1111111111111111, \"#46039f\"], [0.2222222222222222, \"#7201a8\"], [0.3333333333333333, \"#9c179e\"], [0.4444444444444444, \"#bd3786\"], [0.5555555555555556, \"#d8576b\"], [0.6666666666666666, \"#ed7953\"], [0.7777777777777778, \"#fb9f3a\"], [0.8888888888888888, \"#fdca26\"], [1.0, \"#f0f921\"]]}, \"colorway\": [\"#636efa\", \"#EF553B\", \"#00cc96\", \"#ab63fa\", \"#FFA15A\", \"#19d3f3\", \"#FF6692\", \"#B6E880\", \"#FF97FF\", \"#FECB52\"], \"font\": {\"color\": \"#2a3f5f\"}, \"geo\": {\"bgcolor\": \"white\", \"lakecolor\": \"white\", \"landcolor\": \"#E5ECF6\", \"showlakes\": true, \"showland\": true, \"subunitcolor\": \"white\"}, \"hoverlabel\": {\"align\": \"left\"}, \"hovermode\": \"closest\", \"mapbox\": {\"style\": \"light\"}, \"paper_bgcolor\": \"white\", \"plot_bgcolor\": \"#E5ECF6\", \"polar\": {\"angularaxis\": {\"gridcolor\": \"white\", \"linecolor\": \"white\", \"ticks\": \"\"}, \"bgcolor\": \"#E5ECF6\", \"radialaxis\": {\"gridcolor\": \"white\", \"linecolor\": \"white\", \"ticks\": \"\"}}, \"scene\": {\"xaxis\": {\"backgroundcolor\": \"#E5ECF6\", \"gridcolor\": \"white\", \"gridwidth\": 2, \"linecolor\": \"white\", \"showbackground\": true, \"ticks\": \"\", \"zerolinecolor\": \"white\"}, \"yaxis\": {\"backgroundcolor\": \"#E5ECF6\", \"gridcolor\": \"white\", \"gridwidth\": 2, \"linecolor\": \"white\", \"showbackground\": true, \"ticks\": \"\", \"zerolinecolor\": \"white\"}, \"zaxis\": {\"backgroundcolor\": \"#E5ECF6\", \"gridcolor\": \"white\", \"gridwidth\": 2, \"linecolor\": \"white\", \"showbackground\": true, \"ticks\": \"\", \"zerolinecolor\": \"white\"}}, \"shapedefaults\": {\"line\": {\"color\": \"#2a3f5f\"}}, \"ternary\": {\"aaxis\": {\"gridcolor\": \"white\", \"linecolor\": \"white\", \"ticks\": \"\"}, \"baxis\": {\"gridcolor\": \"white\", \"linecolor\": \"white\", \"ticks\": \"\"}, \"bgcolor\": \"#E5ECF6\", \"caxis\": {\"gridcolor\": \"white\", \"linecolor\": \"white\", \"ticks\": \"\"}}, \"title\": {\"x\": 0.05}, \"xaxis\": {\"automargin\": true, \"gridcolor\": \"white\", \"linecolor\": \"white\", \"ticks\": \"\", \"title\": {\"standoff\": 15}, \"zerolinecolor\": \"white\", \"zerolinewidth\": 2}, \"yaxis\": {\"automargin\": true, \"gridcolor\": \"white\", \"linecolor\": \"white\", \"ticks\": \"\", \"title\": {\"standoff\": 15}, \"zerolinecolor\": \"white\", \"zerolinewidth\": 2}}}, \"width\": 800},\n",
              "                        {\"responsive\": true}\n",
              "                    ).then(function(){\n",
              "                            \n",
              "var gd = document.getElementById('df99f23d-58d0-4313-84fe-52b3305c862d');\n",
              "var x = new MutationObserver(function (mutations, observer) {{\n",
              "        var display = window.getComputedStyle(gd).display;\n",
              "        if (!display || display === 'none') {{\n",
              "            console.log([gd, 'removed!']);\n",
              "            Plotly.purge(gd);\n",
              "            observer.disconnect();\n",
              "        }}\n",
              "}});\n",
              "\n",
              "// Listen for the removal of the full notebook cells\n",
              "var notebookContainer = gd.closest('#notebook-container');\n",
              "if (notebookContainer) {{\n",
              "    x.observe(notebookContainer, {childList: true});\n",
              "}}\n",
              "\n",
              "// Listen for the clearing of the current output cell\n",
              "var outputEl = gd.closest('.output');\n",
              "if (outputEl) {{\n",
              "    x.observe(outputEl, {childList: true});\n",
              "}}\n",
              "\n",
              "                        })\n",
              "                };\n",
              "                \n",
              "            </script>\n",
              "        </div>\n",
              "</body>\n",
              "</html>"
            ]
          },
          "metadata": {}
        }
      ]
    },
    {
      "cell_type": "markdown",
      "metadata": {
        "id": "8nCWj8J4QZ32"
      },
      "source": [
        "__Prediction Result__"
      ],
      "id": "8nCWj8J4QZ32"
    },
    {
      "cell_type": "markdown",
      "metadata": {
        "id": "OF-pCDcbSOUS"
      },
      "source": [
        "__Model Selection: Best Classifier__"
      ],
      "id": "OF-pCDcbSOUS"
    },
    {
      "cell_type": "code",
      "metadata": {
        "id": "ezsKyTrkSRdf"
      },
      "source": [
        "best_model = xgbc_random\n",
        "\n",
        "y_train_preds = best_model.predict_proba(X_train_importance)[:,1]\n",
        "y_valid_preds = best_model.predict_proba(X_val_importance)[:,1]\n",
        "y_test_preds = best_model.predict_proba(X_test_importance)[:,1]"
      ],
      "id": "ezsKyTrkSRdf",
      "execution_count": null,
      "outputs": []
    },
    {
      "cell_type": "code",
      "metadata": {
        "colab": {
          "base_uri": "https://localhost:8080/"
        },
        "id": "9T7rdgmPSVtr",
        "outputId": "82216d79-891d-4e45-c1d2-c73ee3a33cc2"
      },
      "source": [
        "thresh = 0.5\n",
        "\n",
        "print('Training:')\n",
        "train_auc, train_accuracy, train_recall, train_precision, train_fscore, train_specificity = print_report(y_train,y_train_preds, thresh)\n",
        "print('Validation:')\n",
        "val_auc, val_accuracy, val_recall, val_precision, val_fscore,val_specificity = print_report(y_val,y_val_preds, thresh)\n",
        "print('Test:')\n",
        "test_auc, test_accuracy, test_recall, test_precision, test_fscore, test_specificity = print_report(y_test,y_test_preds, thresh)"
      ],
      "id": "9T7rdgmPSVtr",
      "execution_count": null,
      "outputs": [
        {
          "output_type": "stream",
          "name": "stdout",
          "text": [
            "Training:\n",
            "AUC:0.707\n",
            "accuracy:0.647\n",
            "recall:0.612\n",
            "precision:0.658\n",
            "fscore:0.634\n",
            "specificity:0.682\n",
            " \n",
            "Validation:\n",
            "AUC:0.671\n",
            "accuracy:0.622\n",
            "recall:0.563\n",
            "precision:0.639\n",
            "fscore:0.599\n",
            "specificity:0.681\n",
            " \n",
            "Test:\n",
            "AUC:0.677\n",
            "accuracy:0.629\n",
            "recall:0.590\n",
            "precision:0.606\n",
            "fscore:0.598\n",
            "specificity:0.663\n",
            " \n"
          ]
        }
      ]
    },
    {
      "cell_type": "code",
      "metadata": {
        "colab": {
          "base_uri": "https://localhost:8080/",
          "height": 388
        },
        "id": "nmIiJA-tSj_C",
        "outputId": "9d3b9ee9-bd03-46bb-9780-d28acd83d249"
      },
      "source": [
        "from sklearn.metrics import roc_curve \n",
        "\n",
        "fpr_train, tpr_train, thresholds_train = roc_curve(y_train, y_train_preds)\n",
        "auc_train = roc_auc_score(y_train, y_train_preds)\n",
        "\n",
        "fpr_val, tpr_val, thresholds_val = roc_curve(y_val, y_val_preds)\n",
        "auc_val = roc_auc_score(y_val, y_val_preds)\n",
        "\n",
        "fpr_test, tpr_test, thresholds_test = roc_curve(y_test, y_test_preds)\n",
        "auc_test = roc_auc_score(y_test, y_test_preds)\n",
        "\n",
        "fig, ax = plt.subplots(figsize=(10,6)) \n",
        "plt.plot(fpr_train, tpr_train, 'r-',label ='Train AUC:%.3f'%auc_train)\n",
        "plt.plot(fpr_val, tpr_val, 'b-',label ='Valid AUC:%.3f'%auc_val)\n",
        "plt.plot(fpr_test, tpr_test, 'g-',label ='Test AUC:%.3f'%auc_test)\n",
        "plt.plot([0,1],[0,1],'k--')\n",
        "plt.xlabel('False Positive Rate')\n",
        "plt.ylabel('True Positive Rate')\n",
        "plt.legend()\n",
        "plt.show()"
      ],
      "id": "nmIiJA-tSj_C",
      "execution_count": null,
      "outputs": [
        {
          "output_type": "display_data",
          "data": {
            "image/png": "[encoded data removed]",
            "text/plain": [
              "<Figure size 720x432 with 1 Axes>"
            ]
          },
          "metadata": {
            "needs_background": "light"
          }
        }
      ]
    },
    {
      "cell_type": "markdown",
      "metadata": {
        "id": "3d0d8afb"
      },
      "source": [
        "__Conclusion__\n",
        "\n",
        "Based on the Auc results observed in the best classifier train, validation and test set results. It was observed that the best model was Catboost. The test result was almost 67.7% succesful. it was concluded that 67.7% of the patients returned to the hospital within 30 days and predicted correctly."
      ],
      "id": "3d0d8afb"
    }
  ]
}