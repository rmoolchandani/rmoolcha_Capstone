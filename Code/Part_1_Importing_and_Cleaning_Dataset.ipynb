{
  "nbformat": 4,
  "nbformat_minor": 5,
  "metadata": {
    "kernelspec": {
      "display_name": "Python 3",
      "language": "python",
      "name": "python3"
    },
    "language_info": {
      "codemirror_mode": {
        "name": "ipython",
        "version": 3
      },
      "file_extension": ".py",
      "mimetype": "text/x-python",
      "name": "python",
      "nbconvert_exporter": "python",
      "pygments_lexer": "ipython3",
      "version": "3.8.8"
    },
    "colab": {
      "name": "Part 1 - Importing and Cleaning Dataset.ipynb",
      "provenance": [],
      "collapsed_sections": [],
      "include_colab_link": true
    }
  },
  "cells": [
    {
      "cell_type": "markdown",
      "metadata": {
        "id": "view-in-github",
        "colab_type": "text"
      },
      "source": [
        "<a href=\"https://colab.research.google.com/github/rmoolchandani/rmoolcha_Capstone/blob/main/Code/Part_1_Importing_and_Cleaning_Dataset.ipynb\" target=\"_parent\"><img src=\"https://colab.research.google.com/assets/colab-badge.svg\" alt=\"Open In Colab\"/></a>"
      ]
    },
    {
      "cell_type": "markdown",
      "metadata": {
        "id": "ce66892e"
      },
      "source": [
        "# Predicting Diabetes Patient Readmission"
      ],
      "id": "ce66892e"
    },
    {
      "cell_type": "markdown",
      "metadata": {
        "id": "ab55901c"
      },
      "source": [
        "### Data Overview"
      ],
      "id": "ab55901c"
    },
    {
      "cell_type": "markdown",
      "metadata": {
        "id": "7e339ece"
      },
      "source": [
        "The data I obtained represents 100,000+ unique inpatient diabetes encounters over 10 years (1999–2008) of clinical care at 130 hospitals and integrated delivery networks\n",
        "\n",
        "The dataset represents 10 years (1999-2008) of clinical care at 130 US hospitals and integrated delivery networks  throughout the United States: Midwest (18 hospitals), Northeast (58), South (28), and West (16). It includes over 50 features representing patient and hospital outcomes. Information was extracted from the database for encounters that satisfied the following criteria: \n",
        "1. It is an inpatient encounter (a hospital admission).\n",
        "2. It is a diabetic encounter, that is, one during which any kind of diabetes was entered to the system as a diagnosis.\n",
        "3. The length of stay was at least 1 day and at most 14 days.\n",
        "4. Laboratory tests were performed during the encounter.\n",
        "5. Medications were administered during the encounter.\n",
        "\n",
        "The data contains such attributes as patient number, race, gender, age, admission type, time in hospital, medical specialty of admitting physician, number of lab test performed, HbA1c test result, diagnosis, number of medication, diabetic medications, number of outpatient, inpatient, and emergency visits in the year before the hospitalization, etc. For a full  list of attributes and their descriptions, [click here](https://www.hindawi.com/journals/bmri/2014/781670/tab1/)"
      ],
      "id": "7e339ece"
    },
    {
      "cell_type": "markdown",
      "metadata": {
        "id": "3318fba0"
      },
      "source": [
        "__Source:__ [UCI Machine Learning Repository](https://archive.ics.uci.edu/ml/datasets/Diabetes+130-US+hospitals+for+years+1999-2008)"
      ],
      "id": "3318fba0"
    },
    {
      "cell_type": "markdown",
      "metadata": {
        "id": "fbb4212a"
      },
      "source": [
        "__Imports__"
      ],
      "id": "fbb4212a"
    },
    {
      "cell_type": "code",
      "metadata": {
        "id": "cbc3cb88"
      },
      "source": [
        "import numpy as np\n",
        "import pandas as pd\n",
        "from matplotlib import pyplot as plt\n",
        "import seaborn as sns\n",
        "import missingno as msno"
      ],
      "id": "cbc3cb88",
      "execution_count": null,
      "outputs": []
    },
    {
      "cell_type": "code",
      "metadata": {
        "colab": {
          "base_uri": "https://localhost:8080/"
        },
        "id": "k6pWu48pa2WO",
        "outputId": "1a94dd07-6ced-4633-f03b-d72dd1782b7d"
      },
      "source": [
        "# Connect to Google Drive\n",
        "# Upload the dataset to your Google drive so it can be loaded here\n",
        "from google.colab import drive\n",
        "drive.mount('/content/gdrive')\n",
        "\n",
        "# load the csv file\n",
        "df = pd.read_csv('/content/gdrive/My Drive/Colab Notebooks/diabetic_data.csv', na_values='?')"
      ],
      "id": "k6pWu48pa2WO",
      "execution_count": null,
      "outputs": [
        {
          "output_type": "stream",
          "name": "stdout",
          "text": [
            "Mounted at /content/gdrive\n"
          ]
        },
        {
          "output_type": "stream",
          "name": "stderr",
          "text": [
            "/usr/local/lib/python3.7/dist-packages/IPython/core/interactiveshell.py:2718: DtypeWarning: Columns (10) have mixed types.Specify dtype option on import or set low_memory=False.\n",
            "  interactivity=interactivity, compiler=compiler, result=result)\n"
          ]
        }
      ]
    },
    {
      "cell_type": "markdown",
      "metadata": {
        "id": "cde77a32"
      },
      "source": [
        "__Read the file and create a pandas dataframe__"
      ],
      "id": "cde77a32"
    },
    {
      "cell_type": "code",
      "metadata": {
        "id": "b38861e6",
        "colab": {
          "base_uri": "https://localhost:8080/",
          "height": 326
        },
        "outputId": "07fdc81f-071e-4132-805e-8aeb1a7a9d83"
      },
      "source": [
        "df.head()"
      ],
      "id": "b38861e6",
      "execution_count": null,
      "outputs": [
        {
          "output_type": "execute_result",
          "data": {
            "text/html": [
              "<div>\n",
              "<style scoped>\n",
              "    .dataframe tbody tr th:only-of-type {\n",
              "        vertical-align: middle;\n",
              "    }\n",
              "\n",
              "    .dataframe tbody tr th {\n",
              "        vertical-align: top;\n",
              "    }\n",
              "\n",
              "    .dataframe thead th {\n",
              "        text-align: right;\n",
              "    }\n",
              "</style>\n",
              "<table border=\"1\" class=\"dataframe\">\n",
              "  <thead>\n",
              "    <tr style=\"text-align: right;\">\n",
              "      <th></th>\n",
              "      <th>encounter_id</th>\n",
              "      <th>patient_nbr</th>\n",
              "      <th>race</th>\n",
              "      <th>gender</th>\n",
              "      <th>age</th>\n",
              "      <th>weight</th>\n",
              "      <th>admission_type_id</th>\n",
              "      <th>discharge_disposition_id</th>\n",
              "      <th>admission_source_id</th>\n",
              "      <th>time_in_hospital</th>\n",
              "      <th>payer_code</th>\n",
              "      <th>medical_specialty</th>\n",
              "      <th>num_lab_procedures</th>\n",
              "      <th>num_procedures</th>\n",
              "      <th>num_medications</th>\n",
              "      <th>number_outpatient</th>\n",
              "      <th>number_emergency</th>\n",
              "      <th>number_inpatient</th>\n",
              "      <th>diag_1</th>\n",
              "      <th>diag_2</th>\n",
              "      <th>diag_3</th>\n",
              "      <th>number_diagnoses</th>\n",
              "      <th>max_glu_serum</th>\n",
              "      <th>A1Cresult</th>\n",
              "      <th>metformin</th>\n",
              "      <th>repaglinide</th>\n",
              "      <th>nateglinide</th>\n",
              "      <th>chlorpropamide</th>\n",
              "      <th>glimepiride</th>\n",
              "      <th>acetohexamide</th>\n",
              "      <th>glipizide</th>\n",
              "      <th>glyburide</th>\n",
              "      <th>tolbutamide</th>\n",
              "      <th>pioglitazone</th>\n",
              "      <th>rosiglitazone</th>\n",
              "      <th>acarbose</th>\n",
              "      <th>miglitol</th>\n",
              "      <th>troglitazone</th>\n",
              "      <th>tolazamide</th>\n",
              "      <th>examide</th>\n",
              "      <th>citoglipton</th>\n",
              "      <th>insulin</th>\n",
              "      <th>glyburide-metformin</th>\n",
              "      <th>glipizide-metformin</th>\n",
              "      <th>glimepiride-pioglitazone</th>\n",
              "      <th>metformin-rosiglitazone</th>\n",
              "      <th>metformin-pioglitazone</th>\n",
              "      <th>change</th>\n",
              "      <th>diabetesMed</th>\n",
              "      <th>readmitted</th>\n",
              "    </tr>\n",
              "  </thead>\n",
              "  <tbody>\n",
              "    <tr>\n",
              "      <th>0</th>\n",
              "      <td>2278392</td>\n",
              "      <td>8222157</td>\n",
              "      <td>Caucasian</td>\n",
              "      <td>Female</td>\n",
              "      <td>[0-10)</td>\n",
              "      <td>NaN</td>\n",
              "      <td>6</td>\n",
              "      <td>25</td>\n",
              "      <td>1</td>\n",
              "      <td>1</td>\n",
              "      <td>NaN</td>\n",
              "      <td>Pediatrics-Endocrinology</td>\n",
              "      <td>41</td>\n",
              "      <td>0</td>\n",
              "      <td>1</td>\n",
              "      <td>0</td>\n",
              "      <td>0</td>\n",
              "      <td>0</td>\n",
              "      <td>250.83</td>\n",
              "      <td>NaN</td>\n",
              "      <td>NaN</td>\n",
              "      <td>1</td>\n",
              "      <td>None</td>\n",
              "      <td>None</td>\n",
              "      <td>No</td>\n",
              "      <td>No</td>\n",
              "      <td>No</td>\n",
              "      <td>No</td>\n",
              "      <td>No</td>\n",
              "      <td>No</td>\n",
              "      <td>No</td>\n",
              "      <td>No</td>\n",
              "      <td>No</td>\n",
              "      <td>No</td>\n",
              "      <td>No</td>\n",
              "      <td>No</td>\n",
              "      <td>No</td>\n",
              "      <td>No</td>\n",
              "      <td>No</td>\n",
              "      <td>No</td>\n",
              "      <td>No</td>\n",
              "      <td>No</td>\n",
              "      <td>No</td>\n",
              "      <td>No</td>\n",
              "      <td>No</td>\n",
              "      <td>No</td>\n",
              "      <td>No</td>\n",
              "      <td>No</td>\n",
              "      <td>No</td>\n",
              "      <td>NO</td>\n",
              "    </tr>\n",
              "    <tr>\n",
              "      <th>1</th>\n",
              "      <td>149190</td>\n",
              "      <td>55629189</td>\n",
              "      <td>Caucasian</td>\n",
              "      <td>Female</td>\n",
              "      <td>[10-20)</td>\n",
              "      <td>NaN</td>\n",
              "      <td>1</td>\n",
              "      <td>1</td>\n",
              "      <td>7</td>\n",
              "      <td>3</td>\n",
              "      <td>NaN</td>\n",
              "      <td>NaN</td>\n",
              "      <td>59</td>\n",
              "      <td>0</td>\n",
              "      <td>18</td>\n",
              "      <td>0</td>\n",
              "      <td>0</td>\n",
              "      <td>0</td>\n",
              "      <td>276</td>\n",
              "      <td>250.01</td>\n",
              "      <td>255</td>\n",
              "      <td>9</td>\n",
              "      <td>None</td>\n",
              "      <td>None</td>\n",
              "      <td>No</td>\n",
              "      <td>No</td>\n",
              "      <td>No</td>\n",
              "      <td>No</td>\n",
              "      <td>No</td>\n",
              "      <td>No</td>\n",
              "      <td>No</td>\n",
              "      <td>No</td>\n",
              "      <td>No</td>\n",
              "      <td>No</td>\n",
              "      <td>No</td>\n",
              "      <td>No</td>\n",
              "      <td>No</td>\n",
              "      <td>No</td>\n",
              "      <td>No</td>\n",
              "      <td>No</td>\n",
              "      <td>No</td>\n",
              "      <td>Up</td>\n",
              "      <td>No</td>\n",
              "      <td>No</td>\n",
              "      <td>No</td>\n",
              "      <td>No</td>\n",
              "      <td>No</td>\n",
              "      <td>Ch</td>\n",
              "      <td>Yes</td>\n",
              "      <td>&gt;30</td>\n",
              "    </tr>\n",
              "    <tr>\n",
              "      <th>2</th>\n",
              "      <td>64410</td>\n",
              "      <td>86047875</td>\n",
              "      <td>AfricanAmerican</td>\n",
              "      <td>Female</td>\n",
              "      <td>[20-30)</td>\n",
              "      <td>NaN</td>\n",
              "      <td>1</td>\n",
              "      <td>1</td>\n",
              "      <td>7</td>\n",
              "      <td>2</td>\n",
              "      <td>NaN</td>\n",
              "      <td>NaN</td>\n",
              "      <td>11</td>\n",
              "      <td>5</td>\n",
              "      <td>13</td>\n",
              "      <td>2</td>\n",
              "      <td>0</td>\n",
              "      <td>1</td>\n",
              "      <td>648</td>\n",
              "      <td>250</td>\n",
              "      <td>V27</td>\n",
              "      <td>6</td>\n",
              "      <td>None</td>\n",
              "      <td>None</td>\n",
              "      <td>No</td>\n",
              "      <td>No</td>\n",
              "      <td>No</td>\n",
              "      <td>No</td>\n",
              "      <td>No</td>\n",
              "      <td>No</td>\n",
              "      <td>Steady</td>\n",
              "      <td>No</td>\n",
              "      <td>No</td>\n",
              "      <td>No</td>\n",
              "      <td>No</td>\n",
              "      <td>No</td>\n",
              "      <td>No</td>\n",
              "      <td>No</td>\n",
              "      <td>No</td>\n",
              "      <td>No</td>\n",
              "      <td>No</td>\n",
              "      <td>No</td>\n",
              "      <td>No</td>\n",
              "      <td>No</td>\n",
              "      <td>No</td>\n",
              "      <td>No</td>\n",
              "      <td>No</td>\n",
              "      <td>No</td>\n",
              "      <td>Yes</td>\n",
              "      <td>NO</td>\n",
              "    </tr>\n",
              "    <tr>\n",
              "      <th>3</th>\n",
              "      <td>500364</td>\n",
              "      <td>82442376</td>\n",
              "      <td>Caucasian</td>\n",
              "      <td>Male</td>\n",
              "      <td>[30-40)</td>\n",
              "      <td>NaN</td>\n",
              "      <td>1</td>\n",
              "      <td>1</td>\n",
              "      <td>7</td>\n",
              "      <td>2</td>\n",
              "      <td>NaN</td>\n",
              "      <td>NaN</td>\n",
              "      <td>44</td>\n",
              "      <td>1</td>\n",
              "      <td>16</td>\n",
              "      <td>0</td>\n",
              "      <td>0</td>\n",
              "      <td>0</td>\n",
              "      <td>8</td>\n",
              "      <td>250.43</td>\n",
              "      <td>403</td>\n",
              "      <td>7</td>\n",
              "      <td>None</td>\n",
              "      <td>None</td>\n",
              "      <td>No</td>\n",
              "      <td>No</td>\n",
              "      <td>No</td>\n",
              "      <td>No</td>\n",
              "      <td>No</td>\n",
              "      <td>No</td>\n",
              "      <td>No</td>\n",
              "      <td>No</td>\n",
              "      <td>No</td>\n",
              "      <td>No</td>\n",
              "      <td>No</td>\n",
              "      <td>No</td>\n",
              "      <td>No</td>\n",
              "      <td>No</td>\n",
              "      <td>No</td>\n",
              "      <td>No</td>\n",
              "      <td>No</td>\n",
              "      <td>Up</td>\n",
              "      <td>No</td>\n",
              "      <td>No</td>\n",
              "      <td>No</td>\n",
              "      <td>No</td>\n",
              "      <td>No</td>\n",
              "      <td>Ch</td>\n",
              "      <td>Yes</td>\n",
              "      <td>NO</td>\n",
              "    </tr>\n",
              "    <tr>\n",
              "      <th>4</th>\n",
              "      <td>16680</td>\n",
              "      <td>42519267</td>\n",
              "      <td>Caucasian</td>\n",
              "      <td>Male</td>\n",
              "      <td>[40-50)</td>\n",
              "      <td>NaN</td>\n",
              "      <td>1</td>\n",
              "      <td>1</td>\n",
              "      <td>7</td>\n",
              "      <td>1</td>\n",
              "      <td>NaN</td>\n",
              "      <td>NaN</td>\n",
              "      <td>51</td>\n",
              "      <td>0</td>\n",
              "      <td>8</td>\n",
              "      <td>0</td>\n",
              "      <td>0</td>\n",
              "      <td>0</td>\n",
              "      <td>197</td>\n",
              "      <td>157</td>\n",
              "      <td>250</td>\n",
              "      <td>5</td>\n",
              "      <td>None</td>\n",
              "      <td>None</td>\n",
              "      <td>No</td>\n",
              "      <td>No</td>\n",
              "      <td>No</td>\n",
              "      <td>No</td>\n",
              "      <td>No</td>\n",
              "      <td>No</td>\n",
              "      <td>Steady</td>\n",
              "      <td>No</td>\n",
              "      <td>No</td>\n",
              "      <td>No</td>\n",
              "      <td>No</td>\n",
              "      <td>No</td>\n",
              "      <td>No</td>\n",
              "      <td>No</td>\n",
              "      <td>No</td>\n",
              "      <td>No</td>\n",
              "      <td>No</td>\n",
              "      <td>Steady</td>\n",
              "      <td>No</td>\n",
              "      <td>No</td>\n",
              "      <td>No</td>\n",
              "      <td>No</td>\n",
              "      <td>No</td>\n",
              "      <td>Ch</td>\n",
              "      <td>Yes</td>\n",
              "      <td>NO</td>\n",
              "    </tr>\n",
              "  </tbody>\n",
              "</table>\n",
              "</div>"
            ],
            "text/plain": [
              "   encounter_id  patient_nbr             race  ... change diabetesMed readmitted\n",
              "0       2278392      8222157        Caucasian  ...     No          No         NO\n",
              "1        149190     55629189        Caucasian  ...     Ch         Yes        >30\n",
              "2         64410     86047875  AfricanAmerican  ...     No         Yes         NO\n",
              "3        500364     82442376        Caucasian  ...     Ch         Yes         NO\n",
              "4         16680     42519267        Caucasian  ...     Ch         Yes         NO\n",
              "\n",
              "[5 rows x 50 columns]"
            ]
          },
          "metadata": {},
          "execution_count": 3
        }
      ]
    },
    {
      "cell_type": "markdown",
      "metadata": {
        "id": "14853987"
      },
      "source": [
        "[attribute details](https://www.hindawi.com/journals/bmri/2014/781670/tab1/)"
      ],
      "id": "14853987"
    },
    {
      "cell_type": "markdown",
      "metadata": {
        "id": "b44c7ab3"
      },
      "source": [
        "__Check for dimensions__"
      ],
      "id": "b44c7ab3"
    },
    {
      "cell_type": "code",
      "metadata": {
        "id": "95e8707d",
        "colab": {
          "base_uri": "https://localhost:8080/"
        },
        "outputId": "7e2a364b-2b2a-4e75-e044-c2c9c8df30e4"
      },
      "source": [
        "df.shape"
      ],
      "id": "95e8707d",
      "execution_count": null,
      "outputs": [
        {
          "output_type": "execute_result",
          "data": {
            "text/plain": [
              "(101766, 50)"
            ]
          },
          "metadata": {},
          "execution_count": 4
        }
      ]
    },
    {
      "cell_type": "markdown",
      "metadata": {
        "id": "1764c0b4"
      },
      "source": [
        "__A look at data types__"
      ],
      "id": "1764c0b4"
    },
    {
      "cell_type": "code",
      "metadata": {
        "id": "ff3e647e",
        "colab": {
          "base_uri": "https://localhost:8080/"
        },
        "outputId": "dea37436-e077-45f6-8d43-ce9feaec01bc"
      },
      "source": [
        "df.info()"
      ],
      "id": "ff3e647e",
      "execution_count": null,
      "outputs": [
        {
          "output_type": "stream",
          "name": "stdout",
          "text": [
            "<class 'pandas.core.frame.DataFrame'>\n",
            "RangeIndex: 101766 entries, 0 to 101765\n",
            "Data columns (total 50 columns):\n",
            " #   Column                    Non-Null Count   Dtype \n",
            "---  ------                    --------------   ----- \n",
            " 0   encounter_id              101766 non-null  int64 \n",
            " 1   patient_nbr               101766 non-null  int64 \n",
            " 2   race                      99493 non-null   object\n",
            " 3   gender                    101766 non-null  object\n",
            " 4   age                       101766 non-null  object\n",
            " 5   weight                    3197 non-null    object\n",
            " 6   admission_type_id         101766 non-null  int64 \n",
            " 7   discharge_disposition_id  101766 non-null  int64 \n",
            " 8   admission_source_id       101766 non-null  int64 \n",
            " 9   time_in_hospital          101766 non-null  int64 \n",
            " 10  payer_code                61510 non-null   object\n",
            " 11  medical_specialty         51817 non-null   object\n",
            " 12  num_lab_procedures        101766 non-null  int64 \n",
            " 13  num_procedures            101766 non-null  int64 \n",
            " 14  num_medications           101766 non-null  int64 \n",
            " 15  number_outpatient         101766 non-null  int64 \n",
            " 16  number_emergency          101766 non-null  int64 \n",
            " 17  number_inpatient          101766 non-null  int64 \n",
            " 18  diag_1                    101745 non-null  object\n",
            " 19  diag_2                    101408 non-null  object\n",
            " 20  diag_3                    100343 non-null  object\n",
            " 21  number_diagnoses          101766 non-null  int64 \n",
            " 22  max_glu_serum             101766 non-null  object\n",
            " 23  A1Cresult                 101766 non-null  object\n",
            " 24  metformin                 101766 non-null  object\n",
            " 25  repaglinide               101766 non-null  object\n",
            " 26  nateglinide               101766 non-null  object\n",
            " 27  chlorpropamide            101766 non-null  object\n",
            " 28  glimepiride               101766 non-null  object\n",
            " 29  acetohexamide             101766 non-null  object\n",
            " 30  glipizide                 101766 non-null  object\n",
            " 31  glyburide                 101766 non-null  object\n",
            " 32  tolbutamide               101766 non-null  object\n",
            " 33  pioglitazone              101766 non-null  object\n",
            " 34  rosiglitazone             101766 non-null  object\n",
            " 35  acarbose                  101766 non-null  object\n",
            " 36  miglitol                  101766 non-null  object\n",
            " 37  troglitazone              101766 non-null  object\n",
            " 38  tolazamide                101766 non-null  object\n",
            " 39  examide                   101766 non-null  object\n",
            " 40  citoglipton               101766 non-null  object\n",
            " 41  insulin                   101766 non-null  object\n",
            " 42  glyburide-metformin       101766 non-null  object\n",
            " 43  glipizide-metformin       101766 non-null  object\n",
            " 44  glimepiride-pioglitazone  101766 non-null  object\n",
            " 45  metformin-rosiglitazone   101766 non-null  object\n",
            " 46  metformin-pioglitazone    101766 non-null  object\n",
            " 47  change                    101766 non-null  object\n",
            " 48  diabetesMed               101766 non-null  object\n",
            " 49  readmitted                101766 non-null  object\n",
            "dtypes: int64(13), object(37)\n",
            "memory usage: 38.8+ MB\n"
          ]
        }
      ]
    },
    {
      "cell_type": "markdown",
      "metadata": {
        "id": "c7753c9c"
      },
      "source": [
        "__Missing Observations__"
      ],
      "id": "c7753c9c"
    },
    {
      "cell_type": "code",
      "metadata": {
        "id": "b7ff02bc",
        "colab": {
          "base_uri": "https://localhost:8080/"
        },
        "outputId": "6fa922b9-5503-43d6-d58a-f7952a7ef110"
      },
      "source": [
        "df.isnull().sum()"
      ],
      "id": "b7ff02bc",
      "execution_count": null,
      "outputs": [
        {
          "output_type": "execute_result",
          "data": {
            "text/plain": [
              "encounter_id                    0\n",
              "patient_nbr                     0\n",
              "race                         2273\n",
              "gender                          0\n",
              "age                             0\n",
              "weight                      98569\n",
              "admission_type_id               0\n",
              "discharge_disposition_id        0\n",
              "admission_source_id             0\n",
              "time_in_hospital                0\n",
              "payer_code                  40256\n",
              "medical_specialty           49949\n",
              "num_lab_procedures              0\n",
              "num_procedures                  0\n",
              "num_medications                 0\n",
              "number_outpatient               0\n",
              "number_emergency                0\n",
              "number_inpatient                0\n",
              "diag_1                         21\n",
              "diag_2                        358\n",
              "diag_3                       1423\n",
              "number_diagnoses                0\n",
              "max_glu_serum                   0\n",
              "A1Cresult                       0\n",
              "metformin                       0\n",
              "repaglinide                     0\n",
              "nateglinide                     0\n",
              "chlorpropamide                  0\n",
              "glimepiride                     0\n",
              "acetohexamide                   0\n",
              "glipizide                       0\n",
              "glyburide                       0\n",
              "tolbutamide                     0\n",
              "pioglitazone                    0\n",
              "rosiglitazone                   0\n",
              "acarbose                        0\n",
              "miglitol                        0\n",
              "troglitazone                    0\n",
              "tolazamide                      0\n",
              "examide                         0\n",
              "citoglipton                     0\n",
              "insulin                         0\n",
              "glyburide-metformin             0\n",
              "glipizide-metformin             0\n",
              "glimepiride-pioglitazone        0\n",
              "metformin-rosiglitazone         0\n",
              "metformin-pioglitazone          0\n",
              "change                          0\n",
              "diabetesMed                     0\n",
              "readmitted                      0\n",
              "dtype: int64"
            ]
          },
          "metadata": {},
          "execution_count": 6
        }
      ]
    },
    {
      "cell_type": "code",
      "metadata": {
        "colab": {
          "base_uri": "https://localhost:8080/",
          "height": 651
        },
        "id": "DwEWx-3wa0D2",
        "outputId": "dadcfee8-f882-43dc-8ad0-96aa84deadbc"
      },
      "source": [
        "msno.matrix(df)\n",
        "plt.show()"
      ],
      "id": "DwEWx-3wa0D2",
      "execution_count": null,
      "outputs": [
        {
          "output_type": "display_data",
          "data": {
            "image/png": "[encoded data removed]",
            "text/plain": [
              "<Figure size 1800x720 with 2 Axes>"
            ]
          },
          "metadata": {
            "needs_background": "light"
          }
        }
      ]
    },
    {
      "cell_type": "code",
      "metadata": {
        "id": "yH93jPSIbYIo",
        "colab": {
          "base_uri": "https://localhost:8080/",
          "height": 677
        },
        "outputId": "cbb1d939-8f93-4ebc-e98b-32b616ffeb68"
      },
      "source": [
        "msno.bar(df,sort='descending',color='#66a9bc')\n",
        "plt.show()"
      ],
      "id": "yH93jPSIbYIo",
      "execution_count": null,
      "outputs": [
        {
          "output_type": "display_data",
          "data": {
            "image/png": "[encoded data removed]",
            "text/plain": [
              "<Figure size 1800x720 with 3 Axes>"
            ]
          },
          "metadata": {
            "needs_background": "light"
          }
        }
      ]
    },
    {
      "cell_type": "markdown",
      "metadata": {
        "id": "26fbdd86"
      },
      "source": [
        "Per our results above, let's take a closer look at all variables that have missing/null values. Since \"weight\" had the most number of missing values, let's start with that variable first. "
      ],
      "id": "26fbdd86"
    },
    {
      "cell_type": "markdown",
      "metadata": {
        "id": "4e6c6de7"
      },
      "source": [
        "__Weight__"
      ],
      "id": "4e6c6de7"
    },
    {
      "cell_type": "code",
      "metadata": {
        "id": "ff0c5bdf",
        "colab": {
          "base_uri": "https://localhost:8080/"
        },
        "outputId": "79579270-2418-477a-ddf6-789dc33253d6"
      },
      "source": [
        "df.weight.isnull().sum()"
      ],
      "id": "ff0c5bdf",
      "execution_count": null,
      "outputs": [
        {
          "output_type": "execute_result",
          "data": {
            "text/plain": [
              "98569"
            ]
          },
          "metadata": {},
          "execution_count": 31
        }
      ]
    },
    {
      "cell_type": "code",
      "metadata": {
        "id": "afcf9f16",
        "colab": {
          "base_uri": "https://localhost:8080/"
        },
        "outputId": "9be9c81f-a217-4c39-ffc2-29e938ae93ed"
      },
      "source": [
        "df.weight.isnull().mean()"
      ],
      "id": "afcf9f16",
      "execution_count": null,
      "outputs": [
        {
          "output_type": "execute_result",
          "data": {
            "text/plain": [
              "0.9685847925633315"
            ]
          },
          "metadata": {},
          "execution_count": 32
        }
      ]
    },
    {
      "cell_type": "markdown",
      "metadata": {
        "id": "6df11c99"
      },
      "source": [
        "Approximately 97% or more than 9,500 of the values denoted under the weight variable are missing or null values. Typically in cases of missing values the next step is to determine which method to best impute the missing values but seeing as over 95% of the values are missing for a data set with over 100,000 observations, it makes much more sense to simply drop the column all together."
      ],
      "id": "6df11c99"
    },
    {
      "cell_type": "code",
      "metadata": {
        "id": "eaec11c9"
      },
      "source": [
        "df.drop('weight', axis =1 , inplace = True)"
      ],
      "id": "eaec11c9",
      "execution_count": null,
      "outputs": []
    },
    {
      "cell_type": "markdown",
      "metadata": {
        "id": "f14bdf6b"
      },
      "source": [
        "__Payer Code__"
      ],
      "id": "f14bdf6b"
    },
    {
      "cell_type": "code",
      "metadata": {
        "id": "f6cdc4b9",
        "colab": {
          "base_uri": "https://localhost:8080/"
        },
        "outputId": "66e99949-b49e-43d9-fbfb-9c524b0cbb71"
      },
      "source": [
        "df.payer_code.unique()"
      ],
      "id": "f6cdc4b9",
      "execution_count": null,
      "outputs": [
        {
          "output_type": "execute_result",
          "data": {
            "text/plain": [
              "array([nan, 'MC', 'MD', 'HM', 'UN', 'BC', 'SP', 'CP', 'SI', 'DM', 'CM',\n",
              "       'CH', 'PO', 'WC', 'OT', 'OG', 'MP', 'FR'], dtype=object)"
            ]
          },
          "metadata": {},
          "execution_count": 34
        }
      ]
    },
    {
      "cell_type": "code",
      "metadata": {
        "id": "f21b8dab",
        "colab": {
          "base_uri": "https://localhost:8080/"
        },
        "outputId": "11e1bbc3-80e1-4a10-ee0d-71d3f7302c54"
      },
      "source": [
        "df.payer_code.value_counts(normalize=True)"
      ],
      "id": "f21b8dab",
      "execution_count": null,
      "outputs": [
        {
          "output_type": "execute_result",
          "data": {
            "text/plain": [
              "MC    0.527378\n",
              "HM    0.102000\n",
              "SP    0.081401\n",
              "BC    0.075679\n",
              "MD    0.057422\n",
              "CP    0.041180\n",
              "UN    0.039798\n",
              "CM    0.031491\n",
              "OG    0.016794\n",
              "PO    0.009624\n",
              "DM    0.008925\n",
              "CH    0.002374\n",
              "WC    0.002195\n",
              "OT    0.001544\n",
              "MP    0.001284\n",
              "SI    0.000894\n",
              "FR    0.000016\n",
              "Name: payer_code, dtype: float64"
            ]
          },
          "metadata": {},
          "execution_count": 35
        }
      ]
    },
    {
      "cell_type": "code",
      "metadata": {
        "id": "1c5e5920",
        "colab": {
          "base_uri": "https://localhost:8080/"
        },
        "outputId": "e1d5d3ba-1987-484f-ec40-5cf902156409"
      },
      "source": [
        "df.payer_code.isnull().sum()"
      ],
      "id": "1c5e5920",
      "execution_count": null,
      "outputs": [
        {
          "output_type": "execute_result",
          "data": {
            "text/plain": [
              "40256"
            ]
          },
          "metadata": {},
          "execution_count": 36
        }
      ]
    },
    {
      "cell_type": "code",
      "metadata": {
        "id": "8247d4f1",
        "colab": {
          "base_uri": "https://localhost:8080/"
        },
        "outputId": "3073e8ca-b69f-4dd7-b964-5fc507dd0eac"
      },
      "source": [
        "df.payer_code.isnull().mean()"
      ],
      "id": "8247d4f1",
      "execution_count": null,
      "outputs": [
        {
          "output_type": "execute_result",
          "data": {
            "text/plain": [
              "0.395574160328597"
            ]
          },
          "metadata": {},
          "execution_count": 37
        }
      ]
    },
    {
      "cell_type": "markdown",
      "metadata": {
        "id": "a9ff4f78"
      },
      "source": [
        "With almost 40% of its data missing, I also decided to drop this variable. "
      ],
      "id": "a9ff4f78"
    },
    {
      "cell_type": "code",
      "metadata": {
        "id": "f5152030"
      },
      "source": [
        "df.drop('payer_code',axis=1, inplace = True )"
      ],
      "id": "f5152030",
      "execution_count": null,
      "outputs": []
    },
    {
      "cell_type": "markdown",
      "metadata": {
        "id": "e145540d"
      },
      "source": [
        "__Medical_Specialty__"
      ],
      "id": "e145540d"
    },
    {
      "cell_type": "code",
      "metadata": {
        "id": "500cca71",
        "colab": {
          "base_uri": "https://localhost:8080/"
        },
        "outputId": "adf5c32c-8665-43e8-a3c5-1072aa0ed1da"
      },
      "source": [
        "df.medical_specialty.unique()"
      ],
      "id": "500cca71",
      "execution_count": null,
      "outputs": [
        {
          "output_type": "execute_result",
          "data": {
            "text/plain": [
              "array(['Pediatrics-Endocrinology', nan, 'InternalMedicine',\n",
              "       'Family/GeneralPractice', 'Cardiology', 'Surgery-General',\n",
              "       'Orthopedics', 'Gastroenterology',\n",
              "       'Surgery-Cardiovascular/Thoracic', 'Nephrology',\n",
              "       'Orthopedics-Reconstructive', 'Psychiatry', 'Emergency/Trauma',\n",
              "       'Pulmonology', 'Surgery-Neuro',\n",
              "       'Obsterics&Gynecology-GynecologicOnco', 'ObstetricsandGynecology',\n",
              "       'Pediatrics', 'Hematology/Oncology', 'Otolaryngology',\n",
              "       'Surgery-Colon&Rectal', 'Pediatrics-CriticalCare', 'Endocrinology',\n",
              "       'Urology', 'Psychiatry-Child/Adolescent', 'Pediatrics-Pulmonology',\n",
              "       'Neurology', 'Anesthesiology-Pediatric', 'Radiology',\n",
              "       'Pediatrics-Hematology-Oncology', 'Psychology', 'Podiatry',\n",
              "       'Gynecology', 'Oncology', 'Pediatrics-Neurology',\n",
              "       'Surgery-Plastic', 'Surgery-Thoracic',\n",
              "       'Surgery-PlasticwithinHeadandNeck', 'Ophthalmology',\n",
              "       'Surgery-Pediatric', 'Pediatrics-EmergencyMedicine',\n",
              "       'PhysicalMedicineandRehabilitation', 'InfectiousDiseases',\n",
              "       'Anesthesiology', 'Rheumatology', 'AllergyandImmunology',\n",
              "       'Surgery-Maxillofacial', 'Pediatrics-InfectiousDiseases',\n",
              "       'Pediatrics-AllergyandImmunology', 'Dentistry', 'Surgeon',\n",
              "       'Surgery-Vascular', 'Osteopath', 'Psychiatry-Addictive',\n",
              "       'Surgery-Cardiovascular', 'PhysicianNotFound', 'Hematology',\n",
              "       'Proctology', 'Obstetrics', 'SurgicalSpecialty', 'Radiologist',\n",
              "       'Pathology', 'Dermatology', 'SportsMedicine', 'Speech',\n",
              "       'Hospitalist', 'OutreachServices', 'Cardiology-Pediatric',\n",
              "       'Perinatology', 'Neurophysiology', 'Endocrinology-Metabolism',\n",
              "       'DCPTEAM', 'Resident'], dtype=object)"
            ]
          },
          "metadata": {},
          "execution_count": 39
        }
      ]
    },
    {
      "cell_type": "code",
      "metadata": {
        "id": "f17a3b8f",
        "colab": {
          "base_uri": "https://localhost:8080/"
        },
        "outputId": "1213157c-e297-4a49-f505-d91f295e1704"
      },
      "source": [
        "df.medical_specialty.isnull().sum()"
      ],
      "id": "f17a3b8f",
      "execution_count": null,
      "outputs": [
        {
          "output_type": "execute_result",
          "data": {
            "text/plain": [
              "49949"
            ]
          },
          "metadata": {},
          "execution_count": 40
        }
      ]
    },
    {
      "cell_type": "code",
      "metadata": {
        "id": "2d552701",
        "colab": {
          "base_uri": "https://localhost:8080/"
        },
        "outputId": "6f9fd3fa-69b2-459d-e764-cd3afb5f4d62"
      },
      "source": [
        "df.medical_specialty.isnull().mean()"
      ],
      "id": "2d552701",
      "execution_count": null,
      "outputs": [
        {
          "output_type": "execute_result",
          "data": {
            "text/plain": [
              "0.49082208203132677"
            ]
          },
          "metadata": {},
          "execution_count": 41
        }
      ]
    },
    {
      "cell_type": "markdown",
      "metadata": {
        "id": "9bcfe07d"
      },
      "source": [
        "For the missing null values I researched to see if they indicated a different type of specialist to those listed above or it simply meant that there was no data available for that observation. I found out it was the former. With this in mind, I decided to drop this variable seeing that almost 50% of the data was not available to begin with. Also trying to impute these missing values would introduce more inaccuracy since I'd simply have to make speculations for the missing data.  "
      ],
      "id": "9bcfe07d"
    },
    {
      "cell_type": "code",
      "metadata": {
        "id": "c8079177"
      },
      "source": [
        "df.drop('medical_specialty',axis=1, inplace = True )"
      ],
      "id": "c8079177",
      "execution_count": null,
      "outputs": []
    },
    {
      "cell_type": "markdown",
      "metadata": {
        "id": "d7acfe97"
      },
      "source": [
        "__Race__"
      ],
      "id": "d7acfe97"
    },
    {
      "cell_type": "code",
      "metadata": {
        "id": "0eeadfa5",
        "colab": {
          "base_uri": "https://localhost:8080/"
        },
        "outputId": "942dfd36-abc2-4c9f-85f6-16c6c6602d8d"
      },
      "source": [
        "df.race.unique()"
      ],
      "id": "0eeadfa5",
      "execution_count": null,
      "outputs": [
        {
          "output_type": "execute_result",
          "data": {
            "text/plain": [
              "array(['Caucasian', 'AfricanAmerican', nan, 'Other', 'Asian', 'Hispanic'],\n",
              "      dtype=object)"
            ]
          },
          "metadata": {},
          "execution_count": 43
        }
      ]
    },
    {
      "cell_type": "code",
      "metadata": {
        "id": "c7bfe68f",
        "colab": {
          "base_uri": "https://localhost:8080/"
        },
        "outputId": "e9b72146-4ea9-4477-a035-7e504a4108fc"
      },
      "source": [
        "df.race.isnull().sum()"
      ],
      "id": "c7bfe68f",
      "execution_count": null,
      "outputs": [
        {
          "output_type": "execute_result",
          "data": {
            "text/plain": [
              "2273"
            ]
          },
          "metadata": {},
          "execution_count": 44
        }
      ]
    },
    {
      "cell_type": "code",
      "metadata": {
        "id": "8be8ea9a",
        "colab": {
          "base_uri": "https://localhost:8080/"
        },
        "outputId": "b2fe22b0-6e3e-4c93-a658-7ea9cf7ea7a0"
      },
      "source": [
        "(df.race.isnull().mean())*100"
      ],
      "id": "8be8ea9a",
      "execution_count": null,
      "outputs": [
        {
          "output_type": "execute_result",
          "data": {
            "text/plain": [
              "2.2335554114340743"
            ]
          },
          "metadata": {},
          "execution_count": 45
        }
      ]
    },
    {
      "cell_type": "markdown",
      "metadata": {
        "id": "4a90b61e"
      },
      "source": [
        "Approximately 2% or less than 2,300 of the values denoted under race are missing or null values. As dropping these won't result in a great impact to the overall dataset, that's the step I'll take. "
      ],
      "id": "4a90b61e"
    },
    {
      "cell_type": "code",
      "metadata": {
        "id": "7d999655"
      },
      "source": [
        "df.dropna(subset=['race'], inplace = True)"
      ],
      "id": "7d999655",
      "execution_count": null,
      "outputs": []
    },
    {
      "cell_type": "markdown",
      "metadata": {
        "id": "85c276bf"
      },
      "source": [
        "__Diagnoses__"
      ],
      "id": "85c276bf"
    },
    {
      "cell_type": "code",
      "metadata": {
        "id": "139e8175",
        "colab": {
          "base_uri": "https://localhost:8080/"
        },
        "outputId": "558dacf7-18d0-42ce-8913-c890475029f5"
      },
      "source": [
        "df.diag_1.isnull().sum()"
      ],
      "id": "139e8175",
      "execution_count": null,
      "outputs": [
        {
          "output_type": "execute_result",
          "data": {
            "text/plain": [
              "19"
            ]
          },
          "metadata": {},
          "execution_count": 47
        }
      ]
    },
    {
      "cell_type": "code",
      "metadata": {
        "id": "049b75a2",
        "colab": {
          "base_uri": "https://localhost:8080/"
        },
        "outputId": "a3bf9479-37be-4b0f-8983-cce19e069712"
      },
      "source": [
        "df.diag_1.isnull().mean()"
      ],
      "id": "049b75a2",
      "execution_count": null,
      "outputs": [
        {
          "output_type": "execute_result",
          "data": {
            "text/plain": [
              "0.00019096820881871088"
            ]
          },
          "metadata": {},
          "execution_count": 48
        }
      ]
    },
    {
      "cell_type": "code",
      "metadata": {
        "id": "d46655f2",
        "colab": {
          "base_uri": "https://localhost:8080/"
        },
        "outputId": "6268fc2f-916e-4355-9fde-63de0d6e5a59"
      },
      "source": [
        "df.diag_2.isnull().sum()"
      ],
      "id": "d46655f2",
      "execution_count": null,
      "outputs": [
        {
          "output_type": "execute_result",
          "data": {
            "text/plain": [
              "336"
            ]
          },
          "metadata": {},
          "execution_count": 49
        }
      ]
    },
    {
      "cell_type": "code",
      "metadata": {
        "id": "96721b43",
        "colab": {
          "base_uri": "https://localhost:8080/"
        },
        "outputId": "fb5cd240-3e49-4a65-d797-85bc00228f6a"
      },
      "source": [
        "df.diag_2.isnull().mean()"
      ],
      "id": "96721b43",
      "execution_count": null,
      "outputs": [
        {
          "output_type": "execute_result",
          "data": {
            "text/plain": [
              "0.0033771220085835186"
            ]
          },
          "metadata": {},
          "execution_count": 50
        }
      ]
    },
    {
      "cell_type": "code",
      "metadata": {
        "id": "a33eea59",
        "colab": {
          "base_uri": "https://localhost:8080/"
        },
        "outputId": "4f08a377-709c-4f07-ce37-8f093939a151"
      },
      "source": [
        "df.diag_3.isnull().sum()"
      ],
      "id": "a33eea59",
      "execution_count": null,
      "outputs": [
        {
          "output_type": "execute_result",
          "data": {
            "text/plain": [
              "1349"
            ]
          },
          "metadata": {},
          "execution_count": 51
        }
      ]
    },
    {
      "cell_type": "code",
      "metadata": {
        "id": "afcfe85e",
        "colab": {
          "base_uri": "https://localhost:8080/"
        },
        "outputId": "0ac9bbef-c4cf-431b-cb86-6d189d3cb76b"
      },
      "source": [
        "df.diag_3.isnull().mean()"
      ],
      "id": "afcfe85e",
      "execution_count": null,
      "outputs": [
        {
          "output_type": "execute_result",
          "data": {
            "text/plain": [
              "0.013558742826128472"
            ]
          },
          "metadata": {},
          "execution_count": 52
        }
      ]
    },
    {
      "cell_type": "markdown",
      "metadata": {
        "id": "7d40f621"
      },
      "source": [
        "As each of the diagnoses variables have missing or null values that are less that 2% of the remaining observations, dropping these observations won't result in a great impact to the overall dataset. "
      ],
      "id": "7d40f621"
    },
    {
      "cell_type": "code",
      "metadata": {
        "id": "d96f18ca"
      },
      "source": [
        "df.dropna(subset=['diag_1','diag_2','diag_3'], inplace = True)"
      ],
      "id": "d96f18ca",
      "execution_count": null,
      "outputs": []
    },
    {
      "cell_type": "code",
      "metadata": {
        "id": "aa4359ce",
        "colab": {
          "base_uri": "https://localhost:8080/"
        },
        "outputId": "f5645fe4-342c-4fff-96a9-8a558b35d54d"
      },
      "source": [
        "df.shape"
      ],
      "id": "aa4359ce",
      "execution_count": null,
      "outputs": [
        {
          "output_type": "execute_result",
          "data": {
            "text/plain": [
              "(98053, 47)"
            ]
          },
          "metadata": {},
          "execution_count": 54
        }
      ]
    },
    {
      "cell_type": "code",
      "metadata": {
        "id": "48416d5a",
        "colab": {
          "base_uri": "https://localhost:8080/"
        },
        "outputId": "280f8f81-4c97-44a6-8387-283f3e8ae6c4"
      },
      "source": [
        "(98053/101766)*100"
      ],
      "id": "48416d5a",
      "execution_count": null,
      "outputs": [
        {
          "output_type": "execute_result",
          "data": {
            "text/plain": [
              "96.35143368119017"
            ]
          },
          "metadata": {},
          "execution_count": 55
        }
      ]
    },
    {
      "cell_type": "markdown",
      "metadata": {
        "id": "50469374"
      },
      "source": [
        "Summary:\n",
        "\n",
        "* Dropped the following columns:\n",
        "    - weight\n",
        "    - payer_code\n",
        "    - medical_speciality\n",
        "\n",
        "* Dropped rows with  nan/missing values for the following columns:\n",
        "    - race\n",
        "    - diag_1\n",
        "    - diag_2\n",
        "    - diag_3\n",
        "\n",
        "We are left with 98,053 observations or 96% of our original data set to continue cleaning. "
      ],
      "id": "50469374"
    },
    {
      "cell_type": "markdown",
      "metadata": {
        "id": "b5f57f3a"
      },
      "source": [
        "__Looking at non numeric values__"
      ],
      "id": "b5f57f3a"
    },
    {
      "cell_type": "markdown",
      "metadata": {
        "id": "07af5bd5"
      },
      "source": [
        "For a majority, if not all of the non-numeric variables my aim is to change them into numeric values in order for me to perform EDA and modeling on as many of the variables in the dataset as possible. "
      ],
      "id": "07af5bd5"
    },
    {
      "cell_type": "code",
      "metadata": {
        "id": "c3f1be94",
        "colab": {
          "base_uri": "https://localhost:8080/"
        },
        "outputId": "765f3796-d9f8-40d2-d2e5-de95b977e188"
      },
      "source": [
        "df.dtypes"
      ],
      "id": "c3f1be94",
      "execution_count": null,
      "outputs": [
        {
          "output_type": "execute_result",
          "data": {
            "text/plain": [
              "encounter_id                 int64\n",
              "patient_nbr                  int64\n",
              "race                        object\n",
              "gender                      object\n",
              "age                         object\n",
              "admission_type_id            int64\n",
              "discharge_disposition_id     int64\n",
              "admission_source_id          int64\n",
              "time_in_hospital             int64\n",
              "num_lab_procedures           int64\n",
              "num_procedures               int64\n",
              "num_medications              int64\n",
              "number_outpatient            int64\n",
              "number_emergency             int64\n",
              "number_inpatient             int64\n",
              "diag_1                      object\n",
              "diag_2                      object\n",
              "diag_3                      object\n",
              "number_diagnoses             int64\n",
              "max_glu_serum               object\n",
              "A1Cresult                   object\n",
              "metformin                   object\n",
              "repaglinide                 object\n",
              "nateglinide                 object\n",
              "chlorpropamide              object\n",
              "glimepiride                 object\n",
              "acetohexamide               object\n",
              "glipizide                   object\n",
              "glyburide                   object\n",
              "tolbutamide                 object\n",
              "pioglitazone                object\n",
              "rosiglitazone               object\n",
              "acarbose                    object\n",
              "miglitol                    object\n",
              "troglitazone                object\n",
              "tolazamide                  object\n",
              "examide                     object\n",
              "citoglipton                 object\n",
              "insulin                     object\n",
              "glyburide-metformin         object\n",
              "glipizide-metformin         object\n",
              "glimepiride-pioglitazone    object\n",
              "metformin-rosiglitazone     object\n",
              "metformin-pioglitazone      object\n",
              "change                      object\n",
              "diabetesMed                 object\n",
              "readmitted                  object\n",
              "dtype: object"
            ]
          },
          "metadata": {},
          "execution_count": 56
        }
      ]
    },
    {
      "cell_type": "markdown",
      "metadata": {
        "id": "c5f8d9a3"
      },
      "source": [
        "__Race__"
      ],
      "id": "c5f8d9a3"
    },
    {
      "cell_type": "code",
      "metadata": {
        "id": "692a3bf2",
        "colab": {
          "base_uri": "https://localhost:8080/"
        },
        "outputId": "5f1331f0-69c9-4c80-b8e6-6a6d67c8fad8"
      },
      "source": [
        "df.race.unique()"
      ],
      "id": "692a3bf2",
      "execution_count": null,
      "outputs": [
        {
          "output_type": "execute_result",
          "data": {
            "text/plain": [
              "array(['Caucasian', 'AfricanAmerican', 'Other', 'Asian', 'Hispanic'],\n",
              "      dtype=object)"
            ]
          },
          "metadata": {},
          "execution_count": 57
        }
      ]
    },
    {
      "cell_type": "code",
      "metadata": {
        "id": "a9b44538"
      },
      "source": [
        "#dummify\n",
        "df['race']= df.race.map({'Caucasian':0, 'AfricanAmerican':1, 'Asian':2, 'Hispanic':3,'Other':4}) "
      ],
      "id": "a9b44538",
      "execution_count": null,
      "outputs": []
    },
    {
      "cell_type": "markdown",
      "metadata": {
        "id": "769d0e22"
      },
      "source": [
        "__Gender__"
      ],
      "id": "769d0e22"
    },
    {
      "cell_type": "code",
      "metadata": {
        "scrolled": true,
        "id": "8dac5884",
        "colab": {
          "base_uri": "https://localhost:8080/"
        },
        "outputId": "d241e815-8f32-46a6-ee13-37a3a9227da1"
      },
      "source": [
        "df.gender.value_counts()"
      ],
      "id": "8dac5884",
      "execution_count": null,
      "outputs": [
        {
          "output_type": "execute_result",
          "data": {
            "text/plain": [
              "Female             52833\n",
              "Male               45219\n",
              "Unknown/Invalid        1\n",
              "Name: gender, dtype: int64"
            ]
          },
          "metadata": {},
          "execution_count": 59
        }
      ]
    },
    {
      "cell_type": "code",
      "metadata": {
        "id": "cae4c252"
      },
      "source": [
        "#dropping the 1 observaion that is unknown\n",
        "df.drop(df.index[df['gender'] == 'Unknown/Invalid'], inplace = True)"
      ],
      "id": "cae4c252",
      "execution_count": null,
      "outputs": []
    },
    {
      "cell_type": "code",
      "metadata": {
        "id": "74377136"
      },
      "source": [
        "#dummify\n",
        "df['gender']= df.gender.map({'Female':0, 'Male':1})"
      ],
      "id": "74377136",
      "execution_count": null,
      "outputs": []
    },
    {
      "cell_type": "markdown",
      "metadata": {
        "id": "ff6b0e52"
      },
      "source": [
        "__Age__"
      ],
      "id": "ff6b0e52"
    },
    {
      "cell_type": "code",
      "metadata": {
        "id": "e8df68f5",
        "colab": {
          "base_uri": "https://localhost:8080/"
        },
        "outputId": "4b87a921-3ff2-4664-8bda-8275b0b5a125"
      },
      "source": [
        "df.age.value_counts()"
      ],
      "id": "e8df68f5",
      "execution_count": null,
      "outputs": [
        {
          "output_type": "execute_result",
          "data": {
            "text/plain": [
              "[70-80)     25305\n",
              "[60-70)     21809\n",
              "[80-90)     16702\n",
              "[50-60)     16697\n",
              "[40-50)      9265\n",
              "[30-40)      3548\n",
              "[90-100)     2717\n",
              "[20-30)      1478\n",
              "[10-20)       466\n",
              "[0-10)         65\n",
              "Name: age, dtype: int64"
            ]
          },
          "metadata": {},
          "execution_count": 62
        }
      ]
    },
    {
      "cell_type": "code",
      "metadata": {
        "id": "a548b3ab"
      },
      "source": [
        "#dummify\n",
        "df['age_range']= df.age.map({'[0-10)':0, '[10-20)':1, '[20-30)':2, '[90-100)':3,'[30-40)':4, '[40-50)':5, '[50-60)':6,'[80-90)':7,'[60-70)':8, '[70-80)':9}) "
      ],
      "id": "a548b3ab",
      "execution_count": null,
      "outputs": []
    },
    {
      "cell_type": "markdown",
      "metadata": {
        "id": "f2a8c735"
      },
      "source": [
        "__Diagnosis__"
      ],
      "id": "f2a8c735"
    },
    {
      "cell_type": "code",
      "metadata": {
        "id": "302c3a65"
      },
      "source": [
        "diag_columns = ['diag_1', 'diag_2', 'diag_3']"
      ],
      "id": "302c3a65",
      "execution_count": null,
      "outputs": []
    },
    {
      "cell_type": "code",
      "metadata": {
        "id": "9cc5e01c",
        "colab": {
          "base_uri": "https://localhost:8080/"
        },
        "outputId": "2ac59f84-b3fe-4bf1-bde8-e536d80a8653"
      },
      "source": [
        "df.diag_1.unique()"
      ],
      "id": "9cc5e01c",
      "execution_count": null,
      "outputs": [
        {
          "output_type": "execute_result",
          "data": {
            "text/plain": [
              "array(['276', '648', '8', '197', '414', '428', '398', '434', '250.7',\n",
              "       '157', '518', '999', '410', '682', '402', 'V57', '189', '786',\n",
              "       '427', '996', '277', '584', '462', '473', '411', '174', '486',\n",
              "       '998', '511', '432', '626', '295', '196', '250.6', '182', '845',\n",
              "       '423', '808', '250.4', '722', '403', '784', '707', '440', '151',\n",
              "       '715', '997', '198', '564', '38', '590', '578', '250.32', '433',\n",
              "       '569', '185', '536', '255', '250.13', '599', '558', '574', '491',\n",
              "       '560', '244', '250.03', '577', '730', '188', '824', '250.8', '332',\n",
              "       '562', '291', '296', '510', '401', '263', '438', '70', '642',\n",
              "       '571', '738', '593', '618', '250.42', '807', '456', '446', '572',\n",
              "       '575', '250.41', '250.02', '820', '515', '780', '250.22', '995',\n",
              "       '235', '250.82', '721', '787', '556', '162', '724', '282',\n",
              "       '250.83', '514', 'V55', '281', '250.33', '530', '466', '435',\n",
              "       '250.12', 'V53', '789', '566', '822', '191', '557', '733', '455',\n",
              "       '711', '482', '202', '493', '280', '553', '154', '441', '250.81',\n",
              "       '349', '962', '592', '507', '386', '156', '200', '728', '426',\n",
              "       '607', '337', '82', '531', '812', '225', '596', '288', 'V58',\n",
              "       '656', '573', '492', '220', '516', '210', '922', '286', '885',\n",
              "       '958', '661', '969', '227', '112', '404', '823', '532', '416',\n",
              "       '346', '535', '453', '250', '595', '211', '303', '852', '218',\n",
              "       '540', '457', '285', '431', '340', '550', '351', '601', '723',\n",
              "       '555', '153', '443', '380', '204', '424', '241', '358', '694',\n",
              "       '331', '345', '681', '447', '290', '158', '579', '436', '335',\n",
              "       '309', '654', '805', '799', '292', '183', '78', '851', '458',\n",
              "       '586', '311', '54', '892', '305', '293', '415', '591', '794',\n",
              "       '803', '250.11', '79', '429', '278', '658', '598', '729', '585',\n",
              "       '444', '727', '214', '552', '284', '41', '644', '481', '821',\n",
              "       '413', '437', '968', '756', '632', '782', '359', '275', '512',\n",
              "       '781', '420', '368', '522', '737', '294', '825', '135', '304',\n",
              "       '320', '250.31', '669', '868', '496', '826', '567', '3', '203',\n",
              "       '680', '459', '53', '251', '565', '495', '49', '250.1', '297',\n",
              "       '663', '250.43', '576', '355', '850', '287', '250.2', '611', '348',\n",
              "       '840', '350', '726', '537', '620', '180', '366', '783', '11',\n",
              "       '751', '250.3', '199', '464', '580', '836', '664', '283', '966',\n",
              "       '289', '708', '965', '184', '604', '480', '608', '333', '972',\n",
              "       '212', '117', '788', '625', '924', '959', '621', '238', '785',\n",
              "       '714', '942', '250.23', '710', '47', '933', '508', '844', '7',\n",
              "       '233', '42', '250.5', '397', '395', '201', '421', '253', '250.92',\n",
              "       '600', '494', '977', '716', '39', '659', '312', '614', '647',\n",
              "       '652', '646', '274', '861', '425', '527', '451', '485', '217',\n",
              "       '250.53', '442', '970', '193', '160', '322', '581', '475', '623',\n",
              "       '374', '582', '568', '465', '801', '237', '376', '150', '461',\n",
              "       '913', '617', '987', '641', '298', '790', '336', '362', '228',\n",
              "       '513', '478', '383', '746', '353', '911', '506', '873', '155',\n",
              "       '860', '534', '802', '141', 'V45', '310', '341', '242', '719',\n",
              "       '736', '239', '533', '616', '519', '301', 'V66', '5', '989', '230',\n",
              "       '300', '853', '871', '570', '848', '9', '934', '250.21', '361',\n",
              "       '594', '810', '250.93', '643', '430', '528', '205', '791', '983',\n",
              "       '992', '490', '396', '172', '171', '622', '306', '863', '864',\n",
              "       '474', '660', '759', '356', '634', '967', '551', '695', '187',\n",
              "       '732', '747', '323', '308', '370', '252', '152', '846', '164',\n",
              "       '365', '718', '48', '266', '720', '94', '161', '344', '797', '813',\n",
              "       '170', '878', '904', 'V56', '882', '843', '709', '973', '454',\n",
              "       '686', '939', '487', '229', '991', '226', '483', '357', '692',\n",
              "       '796', '693', '935', '936', '800', '920', '261', '307', '262',\n",
              "       '831', '145', '388', '223', 'V71', '839', '685', 'V54', '655',\n",
              "       '35', '34', '179', '964', '136', '324', '389', '815', '334', '143',\n",
              "       '526', '588', '250.01', '192', 'V67', '394', '917', '88', '219',\n",
              "       '325', '501', '792', '717', '994', '990', '793', '207', '637',\n",
              "       '195', '373', '847', '827', '31', '891', '814', 'V60', '703',\n",
              "       '865', '352', '627', '378', '342', '886', '369', '745', '705',\n",
              "       '816', '541', '986', '610', '633', '640', '753', '173', '835',\n",
              "       '379', '445', '945', '619', '881', '250.52', '866', '405', '916',\n",
              "       '215', '893', '75', '928', '906', '897', '725', '867', '115',\n",
              "       '734', '674', '521', '470', '834', '146', '696', '524', '980',\n",
              "       '691', '384', '142', '879', '250.51', '246', '208', '955', '653',\n",
              "       '149', '245', '735', '883', '854', '952', '838', '194', 'V43',\n",
              "       '163', '216', '147', '27', '477', '318', '880', '921', '890',\n",
              "       '377', '471', '683', '272', '448', '175', '602', '250.91', '982',\n",
              "       '382', '706', '375', '417', '131', '250.9', '463', '347', '385',\n",
              "       '870', '148', '354', 'V26', '862', '61', '817', '914', '360',\n",
              "       '684', '314', 'V63', '36', '57', '240', '915', '971', '795', '988',\n",
              "       '452', '963', '327', '731', '842', 'V25', '645', '665', '110',\n",
              "       '944', '923', '412', '363', '957', '976', '698', '299', '700',\n",
              "       '273', '974', '97', '529', '66', '98', '605', '941', '806', '84',\n",
              "       '271', '837', '657', '895', '338', '523', '542', '114', '543',\n",
              "       '372', 'E909', '583', 'V07', '422', '615', '279', '500', '919',\n",
              "       '875', '236', '381', '804', '704', '23', '58', '649', '832', '133',\n",
              "       '975', '833', '391', '690', '603', '10', '52', 'V51'], dtype=object)"
            ]
          },
          "metadata": {},
          "execution_count": 65
        }
      ]
    },
    {
      "cell_type": "markdown",
      "metadata": {
        "id": "7cae35c8"
      },
      "source": [
        "Noted that some of the diagnosis code starts with an \"E\" or \"V\" indicating a form of injury, in order to keep these instances for analysis I converted them from a string to float data type. "
      ],
      "id": "7cae35c8"
    },
    {
      "cell_type": "code",
      "metadata": {
        "id": "443694ac"
      },
      "source": [
        "df['diag_1'] = df.diag_1.map(lambda x: x.replace('E','2000').replace('V', '5000'))"
      ],
      "id": "443694ac",
      "execution_count": null,
      "outputs": []
    },
    {
      "cell_type": "code",
      "metadata": {
        "id": "16f09448"
      },
      "source": [
        "df['diag_2'] = df.diag_2.map(lambda x: x.replace('E','2000').replace('V', '5000'))"
      ],
      "id": "16f09448",
      "execution_count": null,
      "outputs": []
    },
    {
      "cell_type": "code",
      "metadata": {
        "id": "d81f061b"
      },
      "source": [
        "df['diag_3'] = df.diag_3.map(lambda x: x.replace('E','2000').replace('V', '5000'))"
      ],
      "id": "d81f061b",
      "execution_count": null,
      "outputs": []
    },
    {
      "cell_type": "code",
      "metadata": {
        "id": "57594738",
        "colab": {
          "base_uri": "https://localhost:8080/"
        },
        "outputId": "054a7ea8-0bae-4083-c1b3-324576e11187"
      },
      "source": [
        "df.diag_1.unique()"
      ],
      "id": "57594738",
      "execution_count": null,
      "outputs": [
        {
          "output_type": "execute_result",
          "data": {
            "text/plain": [
              "array(['276', '648', '8', '197', '414', '428', '398', '434', '250.7',\n",
              "       '157', '518', '999', '410', '682', '402', '500057', '189', '786',\n",
              "       '427', '996', '277', '584', '462', '473', '411', '174', '486',\n",
              "       '998', '511', '432', '626', '295', '196', '250.6', '182', '845',\n",
              "       '423', '808', '250.4', '722', '403', '784', '707', '440', '151',\n",
              "       '715', '997', '198', '564', '38', '590', '578', '250.32', '433',\n",
              "       '569', '185', '536', '255', '250.13', '599', '558', '574', '491',\n",
              "       '560', '244', '250.03', '577', '730', '188', '824', '250.8', '332',\n",
              "       '562', '291', '296', '510', '401', '263', '438', '70', '642',\n",
              "       '571', '738', '593', '618', '250.42', '807', '456', '446', '572',\n",
              "       '575', '250.41', '250.02', '820', '515', '780', '250.22', '995',\n",
              "       '235', '250.82', '721', '787', '556', '162', '724', '282',\n",
              "       '250.83', '514', '500055', '281', '250.33', '530', '466', '435',\n",
              "       '250.12', '500053', '789', '566', '822', '191', '557', '733',\n",
              "       '455', '711', '482', '202', '493', '280', '553', '154', '441',\n",
              "       '250.81', '349', '962', '592', '507', '386', '156', '200', '728',\n",
              "       '426', '607', '337', '82', '531', '812', '225', '596', '288',\n",
              "       '500058', '656', '573', '492', '220', '516', '210', '922', '286',\n",
              "       '885', '958', '661', '969', '227', '112', '404', '823', '532',\n",
              "       '416', '346', '535', '453', '250', '595', '211', '303', '852',\n",
              "       '218', '540', '457', '285', '431', '340', '550', '351', '601',\n",
              "       '723', '555', '153', '443', '380', '204', '424', '241', '358',\n",
              "       '694', '331', '345', '681', '447', '290', '158', '579', '436',\n",
              "       '335', '309', '654', '805', '799', '292', '183', '78', '851',\n",
              "       '458', '586', '311', '54', '892', '305', '293', '415', '591',\n",
              "       '794', '803', '250.11', '79', '429', '278', '658', '598', '729',\n",
              "       '585', '444', '727', '214', '552', '284', '41', '644', '481',\n",
              "       '821', '413', '437', '968', '756', '632', '782', '359', '275',\n",
              "       '512', '781', '420', '368', '522', '737', '294', '825', '135',\n",
              "       '304', '320', '250.31', '669', '868', '496', '826', '567', '3',\n",
              "       '203', '680', '459', '53', '251', '565', '495', '49', '250.1',\n",
              "       '297', '663', '250.43', '576', '355', '850', '287', '250.2', '611',\n",
              "       '348', '840', '350', '726', '537', '620', '180', '366', '783',\n",
              "       '11', '751', '250.3', '199', '464', '580', '836', '664', '283',\n",
              "       '966', '289', '708', '965', '184', '604', '480', '608', '333',\n",
              "       '972', '212', '117', '788', '625', '924', '959', '621', '238',\n",
              "       '785', '714', '942', '250.23', '710', '47', '933', '508', '844',\n",
              "       '7', '233', '42', '250.5', '397', '395', '201', '421', '253',\n",
              "       '250.92', '600', '494', '977', '716', '39', '659', '312', '614',\n",
              "       '647', '652', '646', '274', '861', '425', '527', '451', '485',\n",
              "       '217', '250.53', '442', '970', '193', '160', '322', '581', '475',\n",
              "       '623', '374', '582', '568', '465', '801', '237', '376', '150',\n",
              "       '461', '913', '617', '987', '641', '298', '790', '336', '362',\n",
              "       '228', '513', '478', '383', '746', '353', '911', '506', '873',\n",
              "       '155', '860', '534', '802', '141', '500045', '310', '341', '242',\n",
              "       '719', '736', '239', '533', '616', '519', '301', '500066', '5',\n",
              "       '989', '230', '300', '853', '871', '570', '848', '9', '934',\n",
              "       '250.21', '361', '594', '810', '250.93', '643', '430', '528',\n",
              "       '205', '791', '983', '992', '490', '396', '172', '171', '622',\n",
              "       '306', '863', '864', '474', '660', '759', '356', '634', '967',\n",
              "       '551', '695', '187', '732', '747', '323', '308', '370', '252',\n",
              "       '152', '846', '164', '365', '718', '48', '266', '720', '94', '161',\n",
              "       '344', '797', '813', '170', '878', '904', '500056', '882', '843',\n",
              "       '709', '973', '454', '686', '939', '487', '229', '991', '226',\n",
              "       '483', '357', '692', '796', '693', '935', '936', '800', '920',\n",
              "       '261', '307', '262', '831', '145', '388', '223', '500071', '839',\n",
              "       '685', '500054', '655', '35', '34', '179', '964', '136', '324',\n",
              "       '389', '815', '334', '143', '526', '588', '250.01', '192',\n",
              "       '500067', '394', '917', '88', '219', '325', '501', '792', '717',\n",
              "       '994', '990', '793', '207', '637', '195', '373', '847', '827',\n",
              "       '31', '891', '814', '500060', '703', '865', '352', '627', '378',\n",
              "       '342', '886', '369', '745', '705', '816', '541', '986', '610',\n",
              "       '633', '640', '753', '173', '835', '379', '445', '945', '619',\n",
              "       '881', '250.52', '866', '405', '916', '215', '893', '75', '928',\n",
              "       '906', '897', '725', '867', '115', '734', '674', '521', '470',\n",
              "       '834', '146', '696', '524', '980', '691', '384', '142', '879',\n",
              "       '250.51', '246', '208', '955', '653', '149', '245', '735', '883',\n",
              "       '854', '952', '838', '194', '500043', '163', '216', '147', '27',\n",
              "       '477', '318', '880', '921', '890', '377', '471', '683', '272',\n",
              "       '448', '175', '602', '250.91', '982', '382', '706', '375', '417',\n",
              "       '131', '250.9', '463', '347', '385', '870', '148', '354', '500026',\n",
              "       '862', '61', '817', '914', '360', '684', '314', '500063', '36',\n",
              "       '57', '240', '915', '971', '795', '988', '452', '963', '327',\n",
              "       '731', '842', '500025', '645', '665', '110', '944', '923', '412',\n",
              "       '363', '957', '976', '698', '299', '700', '273', '974', '97',\n",
              "       '529', '66', '98', '605', '941', '806', '84', '271', '837', '657',\n",
              "       '895', '338', '523', '542', '114', '543', '372', '2000909', '583',\n",
              "       '500007', '422', '615', '279', '500', '919', '875', '236', '381',\n",
              "       '804', '704', '23', '58', '649', '832', '133', '975', '833', '391',\n",
              "       '690', '603', '10', '52', '500051'], dtype=object)"
            ]
          },
          "metadata": {},
          "execution_count": 69
        }
      ]
    },
    {
      "cell_type": "code",
      "metadata": {
        "id": "2ed423da"
      },
      "source": [
        "df['diag_1'] = df.diag_1.astype('float')"
      ],
      "id": "2ed423da",
      "execution_count": null,
      "outputs": []
    },
    {
      "cell_type": "code",
      "metadata": {
        "id": "2ca771d0"
      },
      "source": [
        "df['diag_2'] = df.diag_2.astype('float')"
      ],
      "id": "2ca771d0",
      "execution_count": null,
      "outputs": []
    },
    {
      "cell_type": "code",
      "metadata": {
        "id": "26ad4157"
      },
      "source": [
        "df['diag_3'] = df.diag_3.astype('float')"
      ],
      "id": "26ad4157",
      "execution_count": null,
      "outputs": []
    },
    {
      "cell_type": "code",
      "metadata": {
        "id": "a182e26c",
        "colab": {
          "base_uri": "https://localhost:8080/"
        },
        "outputId": "58bec8e6-6dc5-49db-8d8b-46f3bb468986"
      },
      "source": [
        "df.dtypes"
      ],
      "id": "a182e26c",
      "execution_count": null,
      "outputs": [
        {
          "output_type": "execute_result",
          "data": {
            "text/plain": [
              "encounter_id                  int64\n",
              "patient_nbr                   int64\n",
              "race                          int64\n",
              "gender                        int64\n",
              "age                          object\n",
              "admission_type_id             int64\n",
              "discharge_disposition_id      int64\n",
              "admission_source_id           int64\n",
              "time_in_hospital              int64\n",
              "num_lab_procedures            int64\n",
              "num_procedures                int64\n",
              "num_medications               int64\n",
              "number_outpatient             int64\n",
              "number_emergency              int64\n",
              "number_inpatient              int64\n",
              "diag_1                      float64\n",
              "diag_2                      float64\n",
              "diag_3                      float64\n",
              "number_diagnoses              int64\n",
              "max_glu_serum                object\n",
              "A1Cresult                    object\n",
              "metformin                    object\n",
              "repaglinide                  object\n",
              "nateglinide                  object\n",
              "chlorpropamide               object\n",
              "glimepiride                  object\n",
              "acetohexamide                object\n",
              "glipizide                    object\n",
              "glyburide                    object\n",
              "tolbutamide                  object\n",
              "pioglitazone                 object\n",
              "rosiglitazone                object\n",
              "acarbose                     object\n",
              "miglitol                     object\n",
              "troglitazone                 object\n",
              "tolazamide                   object\n",
              "examide                      object\n",
              "citoglipton                  object\n",
              "insulin                      object\n",
              "glyburide-metformin          object\n",
              "glipizide-metformin          object\n",
              "glimepiride-pioglitazone     object\n",
              "metformin-rosiglitazone      object\n",
              "metformin-pioglitazone       object\n",
              "change                       object\n",
              "diabetesMed                  object\n",
              "readmitted                   object\n",
              "age_range                     int64\n",
              "dtype: object"
            ]
          },
          "metadata": {},
          "execution_count": 73
        }
      ]
    },
    {
      "cell_type": "markdown",
      "metadata": {
        "id": "d6d2a11d"
      },
      "source": [
        "__Glucose serum test result__"
      ],
      "id": "d6d2a11d"
    },
    {
      "cell_type": "code",
      "metadata": {
        "id": "500b4222",
        "colab": {
          "base_uri": "https://localhost:8080/"
        },
        "outputId": "e5126fda-2043-46ff-a91b-43fd1992c882"
      },
      "source": [
        "df.max_glu_serum.value_counts()"
      ],
      "id": "500b4222",
      "execution_count": null,
      "outputs": [
        {
          "output_type": "execute_result",
          "data": {
            "text/plain": [
              "None    92844\n",
              "Norm     2532\n",
              ">200     1449\n",
              ">300     1227\n",
              "Name: max_glu_serum, dtype: int64"
            ]
          },
          "metadata": {},
          "execution_count": 74
        }
      ]
    },
    {
      "cell_type": "code",
      "metadata": {
        "id": "f9ca3559"
      },
      "source": [
        "#dummify\n",
        "df['max_glu_serum']= df.max_glu_serum.map({'None':0, 'Norm':1, '>200':2, '>300':3}) "
      ],
      "id": "f9ca3559",
      "execution_count": null,
      "outputs": []
    },
    {
      "cell_type": "markdown",
      "metadata": {
        "id": "cd63f542"
      },
      "source": [
        "__A1c test result__"
      ],
      "id": "cd63f542"
    },
    {
      "cell_type": "code",
      "metadata": {
        "id": "70d95111",
        "colab": {
          "base_uri": "https://localhost:8080/"
        },
        "outputId": "b58821de-df77-4d6d-e2b8-01b4f9e42875"
      },
      "source": [
        "df.A1Cresult.value_counts()"
      ],
      "id": "70d95111",
      "execution_count": null,
      "outputs": [
        {
          "output_type": "execute_result",
          "data": {
            "text/plain": [
              "None    81859\n",
              ">8       7631\n",
              "Norm     4854\n",
              ">7       3708\n",
              "Name: A1Cresult, dtype: int64"
            ]
          },
          "metadata": {},
          "execution_count": 76
        }
      ]
    },
    {
      "cell_type": "code",
      "metadata": {
        "id": "14b1b1c2"
      },
      "source": [
        "df['A1Cresult']= df.A1Cresult.map({'None':0, 'Norm':1, '>7':2, '>8':3}) "
      ],
      "id": "14b1b1c2",
      "execution_count": null,
      "outputs": []
    },
    {
      "cell_type": "markdown",
      "metadata": {
        "id": "92fd94cb"
      },
      "source": [
        "__Dummifying the generic drugs variables__"
      ],
      "id": "92fd94cb"
    },
    {
      "cell_type": "code",
      "metadata": {
        "id": "834db7c9"
      },
      "source": [
        "columns = ['metformin', 'repaglinide', 'nateglinide', 'chlorpropamide', \n",
        "        'glimepiride', 'acetohexamide', 'glipizide', 'glyburide', 'tolbutamide','pioglitazone', \n",
        "          'rosiglitazone', 'acarbose', 'miglitol', 'troglitazone','tolazamide', 'examide', 'citoglipton', 'insulin',\n",
        "           'glyburide-metformin', 'glipizide-metformin','glimepiride-pioglitazone', 'metformin-rosiglitazone','metformin-pioglitazone']"
      ],
      "id": "834db7c9",
      "execution_count": null,
      "outputs": []
    },
    {
      "cell_type": "code",
      "metadata": {
        "id": "17b75e66"
      },
      "source": [
        "#dummfy the group of varaibles\n",
        "def generic_medication(df, targetcols):\n",
        "    for i in targetcols:\n",
        "        df[i] = df[i].map({'No':0, 'Steady':1, 'Up':2, 'Down':3})"
      ],
      "id": "17b75e66",
      "execution_count": null,
      "outputs": []
    },
    {
      "cell_type": "code",
      "metadata": {
        "id": "0f08bc54"
      },
      "source": [
        "generic_medication(df,columns)"
      ],
      "id": "0f08bc54",
      "execution_count": null,
      "outputs": []
    },
    {
      "cell_type": "markdown",
      "metadata": {
        "id": "896f93e6"
      },
      "source": [
        "__Change in medication__"
      ],
      "id": "896f93e6"
    },
    {
      "cell_type": "code",
      "metadata": {
        "id": "3a0ff9e7",
        "colab": {
          "base_uri": "https://localhost:8080/"
        },
        "outputId": "059e5754-5b42-4592-fad4-3b8245bc2be5"
      },
      "source": [
        "df.change.unique() "
      ],
      "id": "3a0ff9e7",
      "execution_count": null,
      "outputs": [
        {
          "output_type": "execute_result",
          "data": {
            "text/plain": [
              "array(['Ch', 'No'], dtype=object)"
            ]
          },
          "metadata": {},
          "execution_count": 81
        }
      ]
    },
    {
      "cell_type": "code",
      "metadata": {
        "id": "b26e227f"
      },
      "source": [
        "#dummify\n",
        "df['change']= df.change.map({'Ch':0, 'No':1})"
      ],
      "id": "b26e227f",
      "execution_count": null,
      "outputs": []
    },
    {
      "cell_type": "markdown",
      "metadata": {
        "id": "7c297512"
      },
      "source": [
        "__Diabetes medication prescribed__"
      ],
      "id": "7c297512"
    },
    {
      "cell_type": "code",
      "metadata": {
        "id": "016fc71a"
      },
      "source": [
        "#dummify\n",
        "df['diabetesMed']= df.diabetesMed.map({'No':0, 'Yes':1})"
      ],
      "id": "016fc71a",
      "execution_count": null,
      "outputs": []
    },
    {
      "cell_type": "markdown",
      "metadata": {
        "id": "b36f79d1"
      },
      "source": [
        "__Readmission__"
      ],
      "id": "b36f79d1"
    },
    {
      "cell_type": "code",
      "metadata": {
        "id": "25fb4753",
        "colab": {
          "base_uri": "https://localhost:8080/"
        },
        "outputId": "bd088c8f-0a19-4fbf-ba56-d6d958067e21"
      },
      "source": [
        "df.readmitted.unique()"
      ],
      "id": "25fb4753",
      "execution_count": null,
      "outputs": [
        {
          "output_type": "execute_result",
          "data": {
            "text/plain": [
              "array(['>30', 'NO', '<30'], dtype=object)"
            ]
          },
          "metadata": {},
          "execution_count": 84
        }
      ]
    },
    {
      "cell_type": "code",
      "metadata": {
        "id": "f33cac9b"
      },
      "source": [
        "#dummify\n",
        "df['readmitted']= df.readmitted.map({'NO':0, '<30':1, '>30':2}) "
      ],
      "id": "f33cac9b",
      "execution_count": null,
      "outputs": []
    },
    {
      "cell_type": "markdown",
      "metadata": {
        "id": "87a5fa5c"
      },
      "source": [
        "__Sanity Check__"
      ],
      "id": "87a5fa5c"
    },
    {
      "cell_type": "code",
      "metadata": {
        "id": "ac96f2b2",
        "colab": {
          "base_uri": "https://localhost:8080/"
        },
        "outputId": "843529cb-2162-421d-b853-e9f6a38c8a27"
      },
      "source": [
        "df.isnull().sum()"
      ],
      "id": "ac96f2b2",
      "execution_count": null,
      "outputs": [
        {
          "output_type": "execute_result",
          "data": {
            "text/plain": [
              "encounter_id                0\n",
              "patient_nbr                 0\n",
              "race                        0\n",
              "gender                      0\n",
              "age                         0\n",
              "admission_type_id           0\n",
              "discharge_disposition_id    0\n",
              "admission_source_id         0\n",
              "time_in_hospital            0\n",
              "num_lab_procedures          0\n",
              "num_procedures              0\n",
              "num_medications             0\n",
              "number_outpatient           0\n",
              "number_emergency            0\n",
              "number_inpatient            0\n",
              "diag_1                      0\n",
              "diag_2                      0\n",
              "diag_3                      0\n",
              "number_diagnoses            0\n",
              "max_glu_serum               0\n",
              "A1Cresult                   0\n",
              "metformin                   0\n",
              "repaglinide                 0\n",
              "nateglinide                 0\n",
              "chlorpropamide              0\n",
              "glimepiride                 0\n",
              "acetohexamide               0\n",
              "glipizide                   0\n",
              "glyburide                   0\n",
              "tolbutamide                 0\n",
              "pioglitazone                0\n",
              "rosiglitazone               0\n",
              "acarbose                    0\n",
              "miglitol                    0\n",
              "troglitazone                0\n",
              "tolazamide                  0\n",
              "examide                     0\n",
              "citoglipton                 0\n",
              "insulin                     0\n",
              "glyburide-metformin         0\n",
              "glipizide-metformin         0\n",
              "glimepiride-pioglitazone    0\n",
              "metformin-rosiglitazone     0\n",
              "metformin-pioglitazone      0\n",
              "change                      0\n",
              "diabetesMed                 0\n",
              "readmitted                  0\n",
              "age_range                   0\n",
              "dtype: int64"
            ]
          },
          "metadata": {},
          "execution_count": 86
        }
      ]
    },
    {
      "cell_type": "markdown",
      "metadata": {
        "id": "da783e09"
      },
      "source": [
        "No noted null/missing values"
      ],
      "id": "da783e09"
    },
    {
      "cell_type": "code",
      "metadata": {
        "id": "aadc8e93",
        "colab": {
          "base_uri": "https://localhost:8080/"
        },
        "outputId": "871372b7-32c5-4a5f-8868-b0c4c45438e5"
      },
      "source": [
        "df.dtypes"
      ],
      "id": "aadc8e93",
      "execution_count": null,
      "outputs": [
        {
          "output_type": "execute_result",
          "data": {
            "text/plain": [
              "encounter_id                  int64\n",
              "patient_nbr                   int64\n",
              "race                          int64\n",
              "gender                        int64\n",
              "age                          object\n",
              "admission_type_id             int64\n",
              "discharge_disposition_id      int64\n",
              "admission_source_id           int64\n",
              "time_in_hospital              int64\n",
              "num_lab_procedures            int64\n",
              "num_procedures                int64\n",
              "num_medications               int64\n",
              "number_outpatient             int64\n",
              "number_emergency              int64\n",
              "number_inpatient              int64\n",
              "diag_1                      float64\n",
              "diag_2                      float64\n",
              "diag_3                      float64\n",
              "number_diagnoses              int64\n",
              "max_glu_serum                 int64\n",
              "A1Cresult                     int64\n",
              "metformin                     int64\n",
              "repaglinide                   int64\n",
              "nateglinide                   int64\n",
              "chlorpropamide                int64\n",
              "glimepiride                   int64\n",
              "acetohexamide                 int64\n",
              "glipizide                     int64\n",
              "glyburide                     int64\n",
              "tolbutamide                   int64\n",
              "pioglitazone                  int64\n",
              "rosiglitazone                 int64\n",
              "acarbose                      int64\n",
              "miglitol                      int64\n",
              "troglitazone                  int64\n",
              "tolazamide                    int64\n",
              "examide                       int64\n",
              "citoglipton                   int64\n",
              "insulin                       int64\n",
              "glyburide-metformin           int64\n",
              "glipizide-metformin           int64\n",
              "glimepiride-pioglitazone      int64\n",
              "metformin-rosiglitazone       int64\n",
              "metformin-pioglitazone        int64\n",
              "change                        int64\n",
              "diabetesMed                   int64\n",
              "readmitted                    int64\n",
              "age_range                     int64\n",
              "dtype: object"
            ]
          },
          "metadata": {},
          "execution_count": 87
        }
      ]
    },
    {
      "cell_type": "markdown",
      "metadata": {
        "id": "d4599fe1"
      },
      "source": [
        "Converted variables to either floats or integers. "
      ],
      "id": "d4599fe1"
    },
    {
      "cell_type": "code",
      "metadata": {
        "id": "ffc13b88",
        "colab": {
          "base_uri": "https://localhost:8080/"
        },
        "outputId": "0f4eb3bd-4b16-41c0-d249-969078687e09"
      },
      "source": [
        "df.shape"
      ],
      "id": "ffc13b88",
      "execution_count": null,
      "outputs": [
        {
          "output_type": "execute_result",
          "data": {
            "text/plain": [
              "(98052, 48)"
            ]
          },
          "metadata": {},
          "execution_count": 88
        }
      ]
    },
    {
      "cell_type": "markdown",
      "metadata": {
        "id": "872a6eea"
      },
      "source": [
        "98052 observations, 48 variables available to perform EDA on. "
      ],
      "id": "872a6eea"
    },
    {
      "cell_type": "code",
      "metadata": {
        "id": "942b57e1"
      },
      "source": [
        "df.to_csv('/content/gdrive/My Drive/Colab Notebooks/diabetic_data_clean.csv')"
      ],
      "id": "942b57e1",
      "execution_count": null,
      "outputs": []
    },
    {
      "cell_type": "markdown",
      "metadata": {
        "id": "db83defb"
      },
      "source": [
        "Saved cleaned file. Let's go to the EDA notebook to begin exploring the data and see what we can derive. "
      ],
      "id": "db83defb"
    }
  ]
}