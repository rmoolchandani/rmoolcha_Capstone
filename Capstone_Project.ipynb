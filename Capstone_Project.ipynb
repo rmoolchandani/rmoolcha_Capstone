{
  "nbformat": 4,
  "nbformat_minor": 0,
  "metadata": {
    "colab": {
      "name": "Capstone Project.ipynb",
      "provenance": [],
      "collapsed_sections": [
        "SeoqT8csHzmi",
        "9qFstn_bH6FZ",
        "P6UlBBKJH87L",
        "aaVhKpVwO3OA",
        "YvUojpfhQRln"
      ],
      "toc_visible": true,
      "authorship_tag": "ABX9TyOlYyPsXgCd73VHaPrvSVZK",
      "include_colab_link": true
    },
    "kernelspec": {
      "name": "python3",
      "display_name": "Python 3"
    },
    "language_info": {
      "name": "python"
    }
  },
  "cells": [
    {
      "cell_type": "markdown",
      "metadata": {
        "id": "view-in-github",
        "colab_type": "text"
      },
      "source": [
        "<a href=\"https://colab.research.google.com/github/rmoolchandani/rmoolcha_Capstone/blob/main/Capstone_Project.ipynb\" target=\"_parent\"><img src=\"https://colab.research.google.com/assets/colab-badge.svg\" alt=\"Open In Colab\"/></a>"
      ]
    },
    {
      "cell_type": "markdown",
      "metadata": {
        "id": "SeoqT8csHzmi"
      },
      "source": [
        "#Introduction\n",
        "\n",
        "In this project I will demonstrate how to build a model predicting readmission for patients with diabetes in Python using the following steps\n",
        "data exploration\n",
        "feature engineering\n",
        "building training/validation/test samples\n",
        "model selection\n",
        "model evaluation. \n"
      ]
    },
    {
      "cell_type": "markdown",
      "metadata": {
        "id": "9qFstn_bH6FZ"
      },
      "source": [
        "\n",
        "# Project Definition\n",
        "Predict if a patient with diabetes will be readmitted to the hospital within 30 days.\n"
      ]
    },
    {
      "cell_type": "markdown",
      "metadata": {
        "id": "P6UlBBKJH87L"
      },
      "source": [
        "# Data set exploration\n",
        "The data that is used in this project originally comes from the UCI machine learning repository (https://archive.ics.uci.edu/ml/datasets/diabetes+130-us+hospitals+for+years+1999-2008). The data consists of over 100000 hospital admissions from patients with diabetes from 130 US hospitals between 1999-2008."
      ]
    },
    {
      "cell_type": "markdown",
      "metadata": {
        "id": "aaVhKpVwO3OA"
      },
      "source": [
        "# Data Set Description\n",
        "\n",
        "\n",
        "* **Encounter ID**\tUnique identifier of an encounter\n",
        "* **Patient number**\tUnique identifier of a patient\n",
        "* **Race**\tValues: Caucasian, Asian, African American, Hispanic, and other\n",
        "* **Gender**\tValues: male, female, and unknown/invalid\n",
        "* **Age**\tGrouped in 10-year intervals: 0, 10), 10, 20), …, 90, 100)\n",
        "* **Weight**\tWeight in pounds\n",
        "* **Admission type**\tInteger identifier corresponding to 9 distinct values, for example, emergency, urgent, elective, newborn, and not available\n",
        "* **Discharge disposition**\tInteger identifier corresponding to 29 distinct values, for example, discharged to home, expired, and not available\n",
        "* **Admission source**\tInteger identifier corresponding to 21 distinct values, for example, physician referral, emergency room, and transfer from a hospital\n",
        "* **Time in hospital**\tInteger number of days between admission and discharge\n",
        "* **Payer code**\tInteger identifier corresponding to 23 distinct values, for example, Blue Cross/Blue Shield, Medicare, and self-pay Medical\n",
        "* **Medical specialty**\tInteger identifier of a specialty of the admitting physician, corresponding to 84 distinct values, for example, cardiology, internal medicine, family/general practice, and surgeon\n",
        "* **Number of lab procedures**\tNumber of lab tests performed during the encounter\n",
        "* **Number of procedures** Numeric\tNumber of procedures (other than lab tests) performed during the encounter\n",
        "* **Number of medications**\tNumber of distinct generic names administered during the encounter\n",
        "* **Number of outpatient visits** Number of outpatient visits of the patient in the year preceding the encounter\n",
        "* **Number of emergency visits**\tNumber of emergency visits of the patient in the year preceding the encounter\n",
        "* **Number of inpatient visits**\tNumber of inpatient visits of the patient in the year preceding the encounter\n",
        "* **Diagnosis 1**\tThe primary diagnosis (coded as first three digits of ICD9); 848 distinct values\n",
        "* **Diagnosis 2**\tSecondary diagnosis (coded as first three digits of ICD9); 923 distinct values\n",
        "* **Diagnosis 3** Additional secondary diagnosis (coded as first three digits of ICD9); 954 distinct values\n",
        "* **Number of diagnoses**\tNumber of diagnoses entered to the system 0%\n",
        "* **Glucose serum test result**\tIndicates the range of the result or if the test was not taken. Values: “>200,” “>300,” “normal,” and “none” if not measured\n",
        "* **A1c test result**\tIndicates the range of the result or if the test was not taken. Values: “>8” if the result was greater than 8%, “>7” if the result was greater than 7% but less than 8%, “normal” if the result was less than 7%, and “none” if not measured.\n",
        "* **Change of medications**\tIndicates if there was a change in diabetic medications (either dosage or generic name). Values: “change” and “no change”\n",
        "* **Diabetes medications**\tIndicates if there was any diabetic medication prescribed. Values: “yes” and “no”\n",
        "* 24 features for medications\tFor the generic names: **metformin, repaglinide, nateglinide, chlorpropamide, glimepiride, acetohexamide, glipizide, glyburide, tolbutamide, pioglitazone, rosiglitazone, acarbose, miglitol, troglitazone, tolazamide, examide, sitagliptin, insulin, glyburide-metformin, glipizide-metformin, glimepiride- pioglitazone, metformin-rosiglitazone, and metformin- pioglitazone**, the feature indicates whether the drug was prescribed or there was a change in the dosage. Values: “up” if the dosage was increased during the encounter, “down” if the dosage was decreased, “steady” if the dosage did not change, and “no” if the drug was not prescribed\n",
        "* **Readmitted**\tDays to inpatient readmission. Values: “<30” if the patient was readmitted in less than 30 days, “>30” if the patient was readmitted in more than 30 days, and “No” for no record of readmission\n",
        "\n"
      ]
    },
    {
      "cell_type": "markdown",
      "metadata": {
        "id": "YvUojpfhQRln"
      },
      "source": [
        "# Data Dictionary\n",
        "\n",
        "# admission_type_id\tDescription\n",
        "1.\tEmergency\n",
        "2.\tUrgent\t\n",
        "3.\tElective\t\n",
        "4.\tNewborn\t\n",
        "5.\tNot Available\n",
        "6.\tNULL\t\n",
        "7.\tTrauma Center\n",
        "8.\tNot Mapped\n",
        "\t\t\n",
        "# discharge_disposition_id\tDescription\n",
        "1.\tDischarged to home\n",
        "2.\tDischarged/transferred to another short term hospital\n",
        "3.\tDischarged/transferred to SNF\n",
        "4.\tDischarged/transferred to ICF\n",
        "5. Discharged/transferred to another type of inpatient care institution\n",
        "6.\tDischarged/transferred to home with home health service\n",
        "7.\tLeft AMA\t\n",
        "8.\tDischarged/transferred to home under care of Home IV provider\n",
        "9.\tAdmitted as an inpatient to this hospital\n",
        "10.\tNeonate discharged to another hospital for neonatal aftercare\n",
        "11.\tExpired\t\n",
        "12.\tStill patient or expected to return for outpatient services\n",
        "13.\tHospice / home\n",
        "14.\tHospice / medical facility\n",
        "15.\tDischarged/transferred within this institution to Medicare approved swing bed\n",
        "16.\tDischarged/transferred/referred another institution for outpatient services\n",
        "17.\tDischarged/transferred/referred to this institution for outpatient services\n",
        "18.\tNULL\t\n",
        "19.\tExpired at home. Medicaid only, hospice.\n",
        "20.\tExpired in a medical facility. Medicaid only, hospice.\n",
        "21.\tExpired, place unknown. Medicaid only, hospice.\n",
        "22.\tDischarged/transferred to another rehab fac including rehab units of a hospital .\n",
        "23.\tDischarged/transferred to a long term care hospital.\n",
        "24.\tDischarged/transferred to a nursing facility certified under Medicaid but not certified under Medicare.\n",
        "25.\tNot Mapped\n",
        "26.\tUnknown/Invalid\n",
        "30.\tDischarged/transferred to another Type of Health Care Institution not Defined Elsewhere\n",
        "27.\tDischarged/transferred to a federal health care facility.\n",
        "28.\tDischarged/transferred/referred to a psychiatric hospital of psychiatric distinct part unit of a hospital\n",
        "29.\tDischarged/transferred to a Critical Access Hospital (CAH).\n",
        "\t\t\n",
        "# admission_source_id\tDescription\n",
        "1.\t Physician Referral\n",
        "2.\tClinic Referral\n",
        "3.\tHMO Referral\n",
        "4.\tTransfer from a hospital\n",
        "5.\t Transfer from a Skilled Nursing Facility (SNF)\n",
        "6.\t Transfer from another health care facility\n",
        "7.\t Emergency Room\n",
        "8.\t Court/Law Enforcement\n",
        "9.\t Not Available\n",
        "10.\t Transfer from critical access hospital\n",
        "11.\tNormal Delivery\n",
        "12.\t Premature Delivery\n",
        "13.\t Sick Baby\t\n",
        "14.\t Extramural Birth\n",
        "15.\tNot Available\n",
        "17.\tNULL\t\n",
        "18.\t Transfer From Another Home Health Agency\n",
        "19.\tReadmission to Same Home Health Agency\n",
        "20.\t Not Mapped\n",
        "21.\tUnknown/Invalid\n",
        "22.\t Transfer from hospital inpt/same fac reslt in a sep claim\n",
        "23.\t Born inside this hospital\n",
        "24.\t Born outside this hospital\n",
        "25.\t Transfer from Ambulatory Surgery Center\n",
        "26.\tTransfer from Hospice\n",
        "\n"
      ]
    },
    {
      "cell_type": "code",
      "metadata": {
        "id": "0dYIUGOFIJWn"
      },
      "source": [
        "# importing libraries thal will be used\n",
        "import pandas as pd\n",
        "import pandas_profiling\n",
        "import numpy as np\n",
        "import seaborn as sns\n",
        "import matplotlib.pyplot as plt\n",
        "from matplotlib.pyplot import figure\n",
        "# to avoid putting plt.show() for plots in each Jupyter cell\n",
        "%matplotlib inline"
      ],
      "execution_count": 38,
      "outputs": []
    },
    {
      "cell_type": "code",
      "metadata": {
        "colab": {
          "base_uri": "https://localhost:8080/"
        },
        "id": "tI8lim0uIOCJ",
        "outputId": "cf54b78c-2d4d-4e2b-f8a4-d333769792bc"
      },
      "source": [
        "# Connect to Google Drive\n",
        "# Upload the dataset to your Google drive so it can be loaded here\n",
        "from google.colab import drive\n",
        "drive.mount('/content/gdrive')\n",
        "\n",
        "# load the csv file\n",
        "data = pd.read_csv('/content/gdrive/My Drive/Colab Notebooks/diabetic_data.csv')"
      ],
      "execution_count": 63,
      "outputs": [
        {
          "output_type": "stream",
          "name": "stdout",
          "text": [
            "Drive already mounted at /content/gdrive; to attempt to forcibly remount, call drive.mount(\"/content/gdrive\", force_remount=True).\n"
          ]
        }
      ]
    },
    {
      "cell_type": "code",
      "metadata": {
        "colab": {
          "base_uri": "https://localhost:8080/"
        },
        "id": "I4JmHjLlKd7C",
        "outputId": "f0e9fc6d-3d3c-4170-cf66-44ac12d5efdc"
      },
      "source": [
        "print('Number of samples:',len(data))"
      ],
      "execution_count": 64,
      "outputs": [
        {
          "output_type": "stream",
          "name": "stdout",
          "text": [
            "Number of samples: 101766\n"
          ]
        }
      ]
    },
    {
      "cell_type": "markdown",
      "metadata": {
        "id": "Mm32lBDEKjue"
      },
      "source": [
        "Quick overview of the data (columns, variable type and non-null values)"
      ]
    },
    {
      "cell_type": "code",
      "metadata": {
        "colab": {
          "base_uri": "https://localhost:8080/",
          "height": 566
        },
        "id": "utov5XTzKkY2",
        "outputId": "4b12ba50-4249-4e82-f512-90d08787e9d0"
      },
      "source": [
        "data.head(10)"
      ],
      "execution_count": 65,
      "outputs": [
        {
          "output_type": "execute_result",
          "data": {
            "text/html": [
              "<div>\n",
              "<style scoped>\n",
              "    .dataframe tbody tr th:only-of-type {\n",
              "        vertical-align: middle;\n",
              "    }\n",
              "\n",
              "    .dataframe tbody tr th {\n",
              "        vertical-align: top;\n",
              "    }\n",
              "\n",
              "    .dataframe thead th {\n",
              "        text-align: right;\n",
              "    }\n",
              "</style>\n",
              "<table border=\"1\" class=\"dataframe\">\n",
              "  <thead>\n",
              "    <tr style=\"text-align: right;\">\n",
              "      <th></th>\n",
              "      <th>encounter_id</th>\n",
              "      <th>patient_nbr</th>\n",
              "      <th>race</th>\n",
              "      <th>gender</th>\n",
              "      <th>age</th>\n",
              "      <th>weight</th>\n",
              "      <th>admission_type_id</th>\n",
              "      <th>discharge_disposition_id</th>\n",
              "      <th>admission_source_id</th>\n",
              "      <th>time_in_hospital</th>\n",
              "      <th>payer_code</th>\n",
              "      <th>medical_specialty</th>\n",
              "      <th>num_lab_procedures</th>\n",
              "      <th>num_procedures</th>\n",
              "      <th>num_medications</th>\n",
              "      <th>number_outpatient</th>\n",
              "      <th>number_emergency</th>\n",
              "      <th>number_inpatient</th>\n",
              "      <th>diag_1</th>\n",
              "      <th>diag_2</th>\n",
              "      <th>diag_3</th>\n",
              "      <th>number_diagnoses</th>\n",
              "      <th>max_glu_serum</th>\n",
              "      <th>A1Cresult</th>\n",
              "      <th>metformin</th>\n",
              "      <th>repaglinide</th>\n",
              "      <th>nateglinide</th>\n",
              "      <th>chlorpropamide</th>\n",
              "      <th>glimepiride</th>\n",
              "      <th>acetohexamide</th>\n",
              "      <th>glipizide</th>\n",
              "      <th>glyburide</th>\n",
              "      <th>tolbutamide</th>\n",
              "      <th>pioglitazone</th>\n",
              "      <th>rosiglitazone</th>\n",
              "      <th>acarbose</th>\n",
              "      <th>miglitol</th>\n",
              "      <th>troglitazone</th>\n",
              "      <th>tolazamide</th>\n",
              "      <th>examide</th>\n",
              "      <th>citoglipton</th>\n",
              "      <th>insulin</th>\n",
              "      <th>glyburide-metformin</th>\n",
              "      <th>glipizide-metformin</th>\n",
              "      <th>glimepiride-pioglitazone</th>\n",
              "      <th>metformin-rosiglitazone</th>\n",
              "      <th>metformin-pioglitazone</th>\n",
              "      <th>change</th>\n",
              "      <th>diabetesMed</th>\n",
              "      <th>readmitted</th>\n",
              "    </tr>\n",
              "  </thead>\n",
              "  <tbody>\n",
              "    <tr>\n",
              "      <th>0</th>\n",
              "      <td>2278392</td>\n",
              "      <td>8222157</td>\n",
              "      <td>Caucasian</td>\n",
              "      <td>Female</td>\n",
              "      <td>[0-10)</td>\n",
              "      <td>?</td>\n",
              "      <td>6</td>\n",
              "      <td>25</td>\n",
              "      <td>1</td>\n",
              "      <td>1</td>\n",
              "      <td>?</td>\n",
              "      <td>Pediatrics-Endocrinology</td>\n",
              "      <td>41</td>\n",
              "      <td>0</td>\n",
              "      <td>1</td>\n",
              "      <td>0</td>\n",
              "      <td>0</td>\n",
              "      <td>0</td>\n",
              "      <td>250.83</td>\n",
              "      <td>?</td>\n",
              "      <td>?</td>\n",
              "      <td>1</td>\n",
              "      <td>None</td>\n",
              "      <td>None</td>\n",
              "      <td>No</td>\n",
              "      <td>No</td>\n",
              "      <td>No</td>\n",
              "      <td>No</td>\n",
              "      <td>No</td>\n",
              "      <td>No</td>\n",
              "      <td>No</td>\n",
              "      <td>No</td>\n",
              "      <td>No</td>\n",
              "      <td>No</td>\n",
              "      <td>No</td>\n",
              "      <td>No</td>\n",
              "      <td>No</td>\n",
              "      <td>No</td>\n",
              "      <td>No</td>\n",
              "      <td>No</td>\n",
              "      <td>No</td>\n",
              "      <td>No</td>\n",
              "      <td>No</td>\n",
              "      <td>No</td>\n",
              "      <td>No</td>\n",
              "      <td>No</td>\n",
              "      <td>No</td>\n",
              "      <td>No</td>\n",
              "      <td>No</td>\n",
              "      <td>NO</td>\n",
              "    </tr>\n",
              "    <tr>\n",
              "      <th>1</th>\n",
              "      <td>149190</td>\n",
              "      <td>55629189</td>\n",
              "      <td>Caucasian</td>\n",
              "      <td>Female</td>\n",
              "      <td>[10-20)</td>\n",
              "      <td>?</td>\n",
              "      <td>1</td>\n",
              "      <td>1</td>\n",
              "      <td>7</td>\n",
              "      <td>3</td>\n",
              "      <td>?</td>\n",
              "      <td>?</td>\n",
              "      <td>59</td>\n",
              "      <td>0</td>\n",
              "      <td>18</td>\n",
              "      <td>0</td>\n",
              "      <td>0</td>\n",
              "      <td>0</td>\n",
              "      <td>276</td>\n",
              "      <td>250.01</td>\n",
              "      <td>255</td>\n",
              "      <td>9</td>\n",
              "      <td>None</td>\n",
              "      <td>None</td>\n",
              "      <td>No</td>\n",
              "      <td>No</td>\n",
              "      <td>No</td>\n",
              "      <td>No</td>\n",
              "      <td>No</td>\n",
              "      <td>No</td>\n",
              "      <td>No</td>\n",
              "      <td>No</td>\n",
              "      <td>No</td>\n",
              "      <td>No</td>\n",
              "      <td>No</td>\n",
              "      <td>No</td>\n",
              "      <td>No</td>\n",
              "      <td>No</td>\n",
              "      <td>No</td>\n",
              "      <td>No</td>\n",
              "      <td>No</td>\n",
              "      <td>Up</td>\n",
              "      <td>No</td>\n",
              "      <td>No</td>\n",
              "      <td>No</td>\n",
              "      <td>No</td>\n",
              "      <td>No</td>\n",
              "      <td>Ch</td>\n",
              "      <td>Yes</td>\n",
              "      <td>&gt;30</td>\n",
              "    </tr>\n",
              "    <tr>\n",
              "      <th>2</th>\n",
              "      <td>64410</td>\n",
              "      <td>86047875</td>\n",
              "      <td>AfricanAmerican</td>\n",
              "      <td>Female</td>\n",
              "      <td>[20-30)</td>\n",
              "      <td>?</td>\n",
              "      <td>1</td>\n",
              "      <td>1</td>\n",
              "      <td>7</td>\n",
              "      <td>2</td>\n",
              "      <td>?</td>\n",
              "      <td>?</td>\n",
              "      <td>11</td>\n",
              "      <td>5</td>\n",
              "      <td>13</td>\n",
              "      <td>2</td>\n",
              "      <td>0</td>\n",
              "      <td>1</td>\n",
              "      <td>648</td>\n",
              "      <td>250</td>\n",
              "      <td>V27</td>\n",
              "      <td>6</td>\n",
              "      <td>None</td>\n",
              "      <td>None</td>\n",
              "      <td>No</td>\n",
              "      <td>No</td>\n",
              "      <td>No</td>\n",
              "      <td>No</td>\n",
              "      <td>No</td>\n",
              "      <td>No</td>\n",
              "      <td>Steady</td>\n",
              "      <td>No</td>\n",
              "      <td>No</td>\n",
              "      <td>No</td>\n",
              "      <td>No</td>\n",
              "      <td>No</td>\n",
              "      <td>No</td>\n",
              "      <td>No</td>\n",
              "      <td>No</td>\n",
              "      <td>No</td>\n",
              "      <td>No</td>\n",
              "      <td>No</td>\n",
              "      <td>No</td>\n",
              "      <td>No</td>\n",
              "      <td>No</td>\n",
              "      <td>No</td>\n",
              "      <td>No</td>\n",
              "      <td>No</td>\n",
              "      <td>Yes</td>\n",
              "      <td>NO</td>\n",
              "    </tr>\n",
              "    <tr>\n",
              "      <th>3</th>\n",
              "      <td>500364</td>\n",
              "      <td>82442376</td>\n",
              "      <td>Caucasian</td>\n",
              "      <td>Male</td>\n",
              "      <td>[30-40)</td>\n",
              "      <td>?</td>\n",
              "      <td>1</td>\n",
              "      <td>1</td>\n",
              "      <td>7</td>\n",
              "      <td>2</td>\n",
              "      <td>?</td>\n",
              "      <td>?</td>\n",
              "      <td>44</td>\n",
              "      <td>1</td>\n",
              "      <td>16</td>\n",
              "      <td>0</td>\n",
              "      <td>0</td>\n",
              "      <td>0</td>\n",
              "      <td>8</td>\n",
              "      <td>250.43</td>\n",
              "      <td>403</td>\n",
              "      <td>7</td>\n",
              "      <td>None</td>\n",
              "      <td>None</td>\n",
              "      <td>No</td>\n",
              "      <td>No</td>\n",
              "      <td>No</td>\n",
              "      <td>No</td>\n",
              "      <td>No</td>\n",
              "      <td>No</td>\n",
              "      <td>No</td>\n",
              "      <td>No</td>\n",
              "      <td>No</td>\n",
              "      <td>No</td>\n",
              "      <td>No</td>\n",
              "      <td>No</td>\n",
              "      <td>No</td>\n",
              "      <td>No</td>\n",
              "      <td>No</td>\n",
              "      <td>No</td>\n",
              "      <td>No</td>\n",
              "      <td>Up</td>\n",
              "      <td>No</td>\n",
              "      <td>No</td>\n",
              "      <td>No</td>\n",
              "      <td>No</td>\n",
              "      <td>No</td>\n",
              "      <td>Ch</td>\n",
              "      <td>Yes</td>\n",
              "      <td>NO</td>\n",
              "    </tr>\n",
              "    <tr>\n",
              "      <th>4</th>\n",
              "      <td>16680</td>\n",
              "      <td>42519267</td>\n",
              "      <td>Caucasian</td>\n",
              "      <td>Male</td>\n",
              "      <td>[40-50)</td>\n",
              "      <td>?</td>\n",
              "      <td>1</td>\n",
              "      <td>1</td>\n",
              "      <td>7</td>\n",
              "      <td>1</td>\n",
              "      <td>?</td>\n",
              "      <td>?</td>\n",
              "      <td>51</td>\n",
              "      <td>0</td>\n",
              "      <td>8</td>\n",
              "      <td>0</td>\n",
              "      <td>0</td>\n",
              "      <td>0</td>\n",
              "      <td>197</td>\n",
              "      <td>157</td>\n",
              "      <td>250</td>\n",
              "      <td>5</td>\n",
              "      <td>None</td>\n",
              "      <td>None</td>\n",
              "      <td>No</td>\n",
              "      <td>No</td>\n",
              "      <td>No</td>\n",
              "      <td>No</td>\n",
              "      <td>No</td>\n",
              "      <td>No</td>\n",
              "      <td>Steady</td>\n",
              "      <td>No</td>\n",
              "      <td>No</td>\n",
              "      <td>No</td>\n",
              "      <td>No</td>\n",
              "      <td>No</td>\n",
              "      <td>No</td>\n",
              "      <td>No</td>\n",
              "      <td>No</td>\n",
              "      <td>No</td>\n",
              "      <td>No</td>\n",
              "      <td>Steady</td>\n",
              "      <td>No</td>\n",
              "      <td>No</td>\n",
              "      <td>No</td>\n",
              "      <td>No</td>\n",
              "      <td>No</td>\n",
              "      <td>Ch</td>\n",
              "      <td>Yes</td>\n",
              "      <td>NO</td>\n",
              "    </tr>\n",
              "    <tr>\n",
              "      <th>5</th>\n",
              "      <td>35754</td>\n",
              "      <td>82637451</td>\n",
              "      <td>Caucasian</td>\n",
              "      <td>Male</td>\n",
              "      <td>[50-60)</td>\n",
              "      <td>?</td>\n",
              "      <td>2</td>\n",
              "      <td>1</td>\n",
              "      <td>2</td>\n",
              "      <td>3</td>\n",
              "      <td>?</td>\n",
              "      <td>?</td>\n",
              "      <td>31</td>\n",
              "      <td>6</td>\n",
              "      <td>16</td>\n",
              "      <td>0</td>\n",
              "      <td>0</td>\n",
              "      <td>0</td>\n",
              "      <td>414</td>\n",
              "      <td>411</td>\n",
              "      <td>250</td>\n",
              "      <td>9</td>\n",
              "      <td>None</td>\n",
              "      <td>None</td>\n",
              "      <td>No</td>\n",
              "      <td>No</td>\n",
              "      <td>No</td>\n",
              "      <td>No</td>\n",
              "      <td>No</td>\n",
              "      <td>No</td>\n",
              "      <td>No</td>\n",
              "      <td>No</td>\n",
              "      <td>No</td>\n",
              "      <td>No</td>\n",
              "      <td>No</td>\n",
              "      <td>No</td>\n",
              "      <td>No</td>\n",
              "      <td>No</td>\n",
              "      <td>No</td>\n",
              "      <td>No</td>\n",
              "      <td>No</td>\n",
              "      <td>Steady</td>\n",
              "      <td>No</td>\n",
              "      <td>No</td>\n",
              "      <td>No</td>\n",
              "      <td>No</td>\n",
              "      <td>No</td>\n",
              "      <td>No</td>\n",
              "      <td>Yes</td>\n",
              "      <td>&gt;30</td>\n",
              "    </tr>\n",
              "    <tr>\n",
              "      <th>6</th>\n",
              "      <td>55842</td>\n",
              "      <td>84259809</td>\n",
              "      <td>Caucasian</td>\n",
              "      <td>Male</td>\n",
              "      <td>[60-70)</td>\n",
              "      <td>?</td>\n",
              "      <td>3</td>\n",
              "      <td>1</td>\n",
              "      <td>2</td>\n",
              "      <td>4</td>\n",
              "      <td>?</td>\n",
              "      <td>?</td>\n",
              "      <td>70</td>\n",
              "      <td>1</td>\n",
              "      <td>21</td>\n",
              "      <td>0</td>\n",
              "      <td>0</td>\n",
              "      <td>0</td>\n",
              "      <td>414</td>\n",
              "      <td>411</td>\n",
              "      <td>V45</td>\n",
              "      <td>7</td>\n",
              "      <td>None</td>\n",
              "      <td>None</td>\n",
              "      <td>Steady</td>\n",
              "      <td>No</td>\n",
              "      <td>No</td>\n",
              "      <td>No</td>\n",
              "      <td>Steady</td>\n",
              "      <td>No</td>\n",
              "      <td>No</td>\n",
              "      <td>No</td>\n",
              "      <td>No</td>\n",
              "      <td>No</td>\n",
              "      <td>No</td>\n",
              "      <td>No</td>\n",
              "      <td>No</td>\n",
              "      <td>No</td>\n",
              "      <td>No</td>\n",
              "      <td>No</td>\n",
              "      <td>No</td>\n",
              "      <td>Steady</td>\n",
              "      <td>No</td>\n",
              "      <td>No</td>\n",
              "      <td>No</td>\n",
              "      <td>No</td>\n",
              "      <td>No</td>\n",
              "      <td>Ch</td>\n",
              "      <td>Yes</td>\n",
              "      <td>NO</td>\n",
              "    </tr>\n",
              "    <tr>\n",
              "      <th>7</th>\n",
              "      <td>63768</td>\n",
              "      <td>114882984</td>\n",
              "      <td>Caucasian</td>\n",
              "      <td>Male</td>\n",
              "      <td>[70-80)</td>\n",
              "      <td>?</td>\n",
              "      <td>1</td>\n",
              "      <td>1</td>\n",
              "      <td>7</td>\n",
              "      <td>5</td>\n",
              "      <td>?</td>\n",
              "      <td>?</td>\n",
              "      <td>73</td>\n",
              "      <td>0</td>\n",
              "      <td>12</td>\n",
              "      <td>0</td>\n",
              "      <td>0</td>\n",
              "      <td>0</td>\n",
              "      <td>428</td>\n",
              "      <td>492</td>\n",
              "      <td>250</td>\n",
              "      <td>8</td>\n",
              "      <td>None</td>\n",
              "      <td>None</td>\n",
              "      <td>No</td>\n",
              "      <td>No</td>\n",
              "      <td>No</td>\n",
              "      <td>No</td>\n",
              "      <td>No</td>\n",
              "      <td>No</td>\n",
              "      <td>No</td>\n",
              "      <td>Steady</td>\n",
              "      <td>No</td>\n",
              "      <td>No</td>\n",
              "      <td>No</td>\n",
              "      <td>No</td>\n",
              "      <td>No</td>\n",
              "      <td>No</td>\n",
              "      <td>No</td>\n",
              "      <td>No</td>\n",
              "      <td>No</td>\n",
              "      <td>No</td>\n",
              "      <td>No</td>\n",
              "      <td>No</td>\n",
              "      <td>No</td>\n",
              "      <td>No</td>\n",
              "      <td>No</td>\n",
              "      <td>No</td>\n",
              "      <td>Yes</td>\n",
              "      <td>&gt;30</td>\n",
              "    </tr>\n",
              "    <tr>\n",
              "      <th>8</th>\n",
              "      <td>12522</td>\n",
              "      <td>48330783</td>\n",
              "      <td>Caucasian</td>\n",
              "      <td>Female</td>\n",
              "      <td>[80-90)</td>\n",
              "      <td>?</td>\n",
              "      <td>2</td>\n",
              "      <td>1</td>\n",
              "      <td>4</td>\n",
              "      <td>13</td>\n",
              "      <td>?</td>\n",
              "      <td>?</td>\n",
              "      <td>68</td>\n",
              "      <td>2</td>\n",
              "      <td>28</td>\n",
              "      <td>0</td>\n",
              "      <td>0</td>\n",
              "      <td>0</td>\n",
              "      <td>398</td>\n",
              "      <td>427</td>\n",
              "      <td>38</td>\n",
              "      <td>8</td>\n",
              "      <td>None</td>\n",
              "      <td>None</td>\n",
              "      <td>No</td>\n",
              "      <td>No</td>\n",
              "      <td>No</td>\n",
              "      <td>No</td>\n",
              "      <td>No</td>\n",
              "      <td>No</td>\n",
              "      <td>Steady</td>\n",
              "      <td>No</td>\n",
              "      <td>No</td>\n",
              "      <td>No</td>\n",
              "      <td>No</td>\n",
              "      <td>No</td>\n",
              "      <td>No</td>\n",
              "      <td>No</td>\n",
              "      <td>No</td>\n",
              "      <td>No</td>\n",
              "      <td>No</td>\n",
              "      <td>Steady</td>\n",
              "      <td>No</td>\n",
              "      <td>No</td>\n",
              "      <td>No</td>\n",
              "      <td>No</td>\n",
              "      <td>No</td>\n",
              "      <td>Ch</td>\n",
              "      <td>Yes</td>\n",
              "      <td>NO</td>\n",
              "    </tr>\n",
              "    <tr>\n",
              "      <th>9</th>\n",
              "      <td>15738</td>\n",
              "      <td>63555939</td>\n",
              "      <td>Caucasian</td>\n",
              "      <td>Female</td>\n",
              "      <td>[90-100)</td>\n",
              "      <td>?</td>\n",
              "      <td>3</td>\n",
              "      <td>3</td>\n",
              "      <td>4</td>\n",
              "      <td>12</td>\n",
              "      <td>?</td>\n",
              "      <td>InternalMedicine</td>\n",
              "      <td>33</td>\n",
              "      <td>3</td>\n",
              "      <td>18</td>\n",
              "      <td>0</td>\n",
              "      <td>0</td>\n",
              "      <td>0</td>\n",
              "      <td>434</td>\n",
              "      <td>198</td>\n",
              "      <td>486</td>\n",
              "      <td>8</td>\n",
              "      <td>None</td>\n",
              "      <td>None</td>\n",
              "      <td>No</td>\n",
              "      <td>No</td>\n",
              "      <td>No</td>\n",
              "      <td>No</td>\n",
              "      <td>No</td>\n",
              "      <td>No</td>\n",
              "      <td>No</td>\n",
              "      <td>No</td>\n",
              "      <td>No</td>\n",
              "      <td>No</td>\n",
              "      <td>Steady</td>\n",
              "      <td>No</td>\n",
              "      <td>No</td>\n",
              "      <td>No</td>\n",
              "      <td>No</td>\n",
              "      <td>No</td>\n",
              "      <td>No</td>\n",
              "      <td>Steady</td>\n",
              "      <td>No</td>\n",
              "      <td>No</td>\n",
              "      <td>No</td>\n",
              "      <td>No</td>\n",
              "      <td>No</td>\n",
              "      <td>Ch</td>\n",
              "      <td>Yes</td>\n",
              "      <td>NO</td>\n",
              "    </tr>\n",
              "  </tbody>\n",
              "</table>\n",
              "</div>"
            ],
            "text/plain": [
              "   encounter_id  patient_nbr             race  ... change diabetesMed readmitted\n",
              "0       2278392      8222157        Caucasian  ...     No          No         NO\n",
              "1        149190     55629189        Caucasian  ...     Ch         Yes        >30\n",
              "2         64410     86047875  AfricanAmerican  ...     No         Yes         NO\n",
              "3        500364     82442376        Caucasian  ...     Ch         Yes         NO\n",
              "4         16680     42519267        Caucasian  ...     Ch         Yes         NO\n",
              "5         35754     82637451        Caucasian  ...     No         Yes        >30\n",
              "6         55842     84259809        Caucasian  ...     Ch         Yes         NO\n",
              "7         63768    114882984        Caucasian  ...     No         Yes        >30\n",
              "8         12522     48330783        Caucasian  ...     Ch         Yes         NO\n",
              "9         15738     63555939        Caucasian  ...     Ch         Yes         NO\n",
              "\n",
              "[10 rows x 50 columns]"
            ]
          },
          "metadata": {},
          "execution_count": 65
        }
      ]
    },
    {
      "cell_type": "markdown",
      "metadata": {
        "id": "Nx_nd9qeK8GV"
      },
      "source": [
        "# 10 rows × 50 columns\n",
        "\n",
        "There is some missing data that are represented with ?. "
      ]
    },
    {
      "cell_type": "code",
      "metadata": {
        "colab": {
          "base_uri": "https://localhost:8080/"
        },
        "id": "GKeANa7DWEhh",
        "outputId": "3d3627ee-3e98-48bb-c08f-9c92afc2cf3f"
      },
      "source": [
        "data = data.replace(\"?\",np.nan)\n",
        "data.isnull().sum()[data.isnull().sum()>1]/len(data)*100"
      ],
      "execution_count": 66,
      "outputs": [
        {
          "output_type": "execute_result",
          "data": {
            "text/plain": [
              "race                  2.233555\n",
              "weight               96.858479\n",
              "payer_code           39.557416\n",
              "medical_specialty    49.082208\n",
              "diag_1                0.020636\n",
              "diag_2                0.351787\n",
              "diag_3                1.398306\n",
              "dtype: float64"
            ]
          },
          "metadata": {},
          "execution_count": 66
        }
      ]
    },
    {
      "cell_type": "markdown",
      "metadata": {
        "id": "0RJjX6zCTF3f"
      },
      "source": [
        "* encounter_id identifies the number of encounter of the patient. As it is unique, it will be seted as index of the data frame.\n"
      ]
    },
    {
      "cell_type": "code",
      "metadata": {
        "id": "ACN2fs3LTI14"
      },
      "source": [
        "data = data.set_index('encounter_id')"
      ],
      "execution_count": 67,
      "outputs": []
    },
    {
      "cell_type": "markdown",
      "metadata": {
        "id": "rEOp2IuJTPKV"
      },
      "source": [
        "* patient-nbr is the Patient number. It is repeated when the patient had more than one encouter with the hospital."
      ]
    },
    {
      "cell_type": "code",
      "metadata": {
        "id": "deeeUkZiTTJK"
      },
      "source": [
        "repeated_patients = (data[\"patient_nbr\"].value_counts()[data[\"patient_nbr\"].value_counts() > 1]).index"
      ],
      "execution_count": 68,
      "outputs": []
    },
    {
      "cell_type": "code",
      "metadata": {
        "colab": {
          "base_uri": "https://localhost:8080/"
        },
        "id": "Z0vDG2WGTYWy",
        "outputId": "cffb7fe2-55ce-4606-f1f7-65ebf158564d"
      },
      "source": [
        "len(repeated_patients)"
      ],
      "execution_count": 69,
      "outputs": [
        {
          "output_type": "execute_result",
          "data": {
            "text/plain": [
              "16773"
            ]
          },
          "metadata": {},
          "execution_count": 69
        }
      ]
    },
    {
      "cell_type": "markdown",
      "metadata": {
        "id": "aOJUN7VQTcQa"
      },
      "source": [
        "There are 16773 patients who had more than one ecounter. Their patients number is not usefull information, but it's usefull to know if they are recurrent patients and the amount of times they visit the hospital. This value should be consider by any model to predict if the patient will return."
      ]
    },
    {
      "cell_type": "code",
      "metadata": {
        "id": "jyPDVMOjTdCT"
      },
      "source": [
        "countcol = data['patient_nbr'].value_counts().to_dict() #converts to dictionary\n",
        "data['Visits'] = data['patient_nbr'].map(countcol)"
      ],
      "execution_count": 70,
      "outputs": []
    },
    {
      "cell_type": "code",
      "metadata": {
        "id": "7TUZkOlJTmry"
      },
      "source": [
        "# Function to drop a column easily\n",
        "def dropEntireColumn(column):\n",
        "    data.drop([column], axis = 1, inplace=True)"
      ],
      "execution_count": 71,
      "outputs": []
    },
    {
      "cell_type": "code",
      "metadata": {
        "id": "c3wtlzBXTqrU"
      },
      "source": [
        "# Drop patient number column\n",
        "dropEntireColumn('patient_nbr')"
      ],
      "execution_count": 72,
      "outputs": []
    },
    {
      "cell_type": "code",
      "metadata": {
        "id": "WA4zkCDoTuQH"
      },
      "source": [
        "# this will be de default setting to plot histograms of different features\n",
        "def plotHistOfCol(column, title):\n",
        "    plt.figure(figsize=(20,10))\n",
        "    plt.xticks(rotation=45, fontsize=12.5)\n",
        "    plt.hist(data[column].sort_values().astype(str), bins=range(len(data[column].unique())+1), align='left')\n",
        "    plt.title(title, fontsize=20)"
      ],
      "execution_count": 73,
      "outputs": []
    },
    {
      "cell_type": "code",
      "metadata": {
        "colab": {
          "base_uri": "https://localhost:8080/",
          "height": 554
        },
        "id": "ZnPeiTLaTyjg",
        "outputId": "9cd5107c-127a-45ec-9bb4-68f96b96a2f4"
      },
      "source": [
        "plotHistOfCol('Visits', 'Histogram of visits to hospital')"
      ],
      "execution_count": 50,
      "outputs": [
        {
          "output_type": "display_data",
          "data": {
            "image/png": "[encoded data removed]",
            "text/plain": [
              "<Figure size 2000x1000 with 1 Axes>"
            ]
          },
          "metadata": {}
        }
      ]
    },
    {
      "cell_type": "markdown",
      "metadata": {
        "id": "Z8M8qVy4UBpI"
      },
      "source": [
        "Most people visited the hospital just once."
      ]
    },
    {
      "cell_type": "markdown",
      "metadata": {
        "id": "vjo0k3Y5XUjJ"
      },
      "source": [
        "* race has some missing records with a question mark which were replaced."
      ]
    },
    {
      "cell_type": "code",
      "metadata": {
        "colab": {
          "base_uri": "https://localhost:8080/",
          "height": 601
        },
        "id": "nOH_SdlJXaV2",
        "outputId": "e5035a9a-b85f-4393-b9df-00cb8096ac56"
      },
      "source": [
        "plotHistOfCol('race', 'Histogram by race')"
      ],
      "execution_count": 74,
      "outputs": [
        {
          "output_type": "display_data",
          "data": {
            "image/png": "[encoded data removed]",
            "text/plain": [
              "<Figure size 2000x1000 with 1 Axes>"
            ]
          },
          "metadata": {}
        }
      ]
    },
    {
      "cell_type": "markdown",
      "metadata": {
        "id": "WVXfJrVlXvQp"
      },
      "source": [
        "\n",
        "Most of the observations are from Caucasian race."
      ]
    },
    {
      "cell_type": "markdown",
      "metadata": {
        "id": "7MToo8j0XuG6"
      },
      "source": [
        "Race is categorical but not ordinal, so dummy features for each category will be made and atached to the data frame."
      ]
    },
    {
      "cell_type": "code",
      "metadata": {
        "id": "7rvVE1FbX3W8"
      },
      "source": [
        "dummy = pd.get_dummies(data['race'])\n",
        "data = pd.concat([data, dummy], axis=1)      \n",
        "data.drop(['race'], inplace=True, axis=1)"
      ],
      "execution_count": 75,
      "outputs": []
    },
    {
      "cell_type": "markdown",
      "metadata": {
        "id": "J5rjNG65X8EP"
      },
      "source": [
        "* gender also has missing records with an Unknown/Invalid tag"
      ]
    },
    {
      "cell_type": "code",
      "metadata": {
        "colab": {
          "base_uri": "https://localhost:8080/",
          "height": 601
        },
        "id": "qvgRvIZ4X_k5",
        "outputId": "46c0048f-6bcd-442b-f655-81fd6cbcd648"
      },
      "source": [
        "plotHistOfCol('gender','Histogram by gender')"
      ],
      "execution_count": 77,
      "outputs": [
        {
          "output_type": "display_data",
          "data": {
            "image/png": "[encoded data removed]",
            "text/plain": [
              "<Figure size 2000x1000 with 1 Axes>"
            ]
          },
          "metadata": {}
        }
      ]
    },
    {
      "cell_type": "markdown",
      "metadata": {
        "id": "2nOResOsYUvn"
      },
      "source": [
        "We can also drop this Unknown/Valid rows"
      ]
    },
    {
      "cell_type": "code",
      "metadata": {
        "id": "Ut9TqalKYgrd"
      },
      "source": [
        "# Function to drop entire rows by the value of one column\n",
        "def dropRowsbyColValue(colname,value):\n",
        "    # Get index of rows with question marks in race column\n",
        "    indexOfRows = data[data[colname] == value].index\n",
        "    # Deleting rows by index\n",
        "    data.drop(indexOfRows, inplace=True)\n"
      ],
      "execution_count": 78,
      "outputs": []
    },
    {
      "cell_type": "code",
      "metadata": {
        "id": "qv59gjISYmcT"
      },
      "source": [
        "dropRowsbyColValue('gender','Unknown/Invalid')"
      ],
      "execution_count": 79,
      "outputs": []
    },
    {
      "cell_type": "code",
      "metadata": {
        "colab": {
          "base_uri": "https://localhost:8080/",
          "height": 570
        },
        "id": "uqHkhmWxYtZ0",
        "outputId": "c53b6007-237c-488e-a6e2-882322aeeeb7"
      },
      "source": [
        "plotHistOfCol('gender','Histogram by gender')"
      ],
      "execution_count": 80,
      "outputs": [
        {
          "output_type": "display_data",
          "data": {
            "image/png": "[encoded data removed]",
            "text/plain": [
              "<Figure size 2000x1000 with 1 Axes>"
            ]
          },
          "metadata": {}
        }
      ]
    },
    {
      "cell_type": "markdown",
      "metadata": {
        "id": "NreCOfe8aejH"
      },
      "source": [
        "Looking at all the observations we see a similar amount of male and female patients."
      ]
    },
    {
      "cell_type": "markdown",
      "metadata": {
        "id": "94PlbBr7afTF"
      },
      "source": [
        "\n",
        "Gender will be changed to the values zero and one, in order to train the algorithm. Female will be value one and male zero."
      ]
    },
    {
      "cell_type": "code",
      "metadata": {
        "id": "dtgYPaiZah97"
      },
      "source": [
        "data['gender'] = data['gender'].replace('Female' , 1)\n",
        "data['gender'] = data['gender'].replace('Male' , 0)"
      ],
      "execution_count": 81,
      "outputs": []
    },
    {
      "cell_type": "markdown",
      "metadata": {
        "id": "_RiAW8KManT1"
      },
      "source": [
        "Histogram by age range."
      ]
    },
    {
      "cell_type": "code",
      "metadata": {
        "colab": {
          "base_uri": "https://localhost:8080/",
          "height": 574
        },
        "id": "hOaYSL4taqsR",
        "outputId": "eedba862-5690-46be-bbfb-a16c21e97adb"
      },
      "source": [
        "plotHistOfCol('age', 'Histogram by age')"
      ],
      "execution_count": 82,
      "outputs": [
        {
          "output_type": "display_data",
          "data": {
            "image/png": "[encoded data removed]",
            "text/plain": [
              "<Figure size 2000x1000 with 1 Axes>"
            ]
          },
          "metadata": {}
        }
      ]
    },
    {
      "cell_type": "markdown",
      "metadata": {
        "id": "xGBMZ3iWaybT"
      },
      "source": [
        "Most patients are between 70-80 years old."
      ]
    },
    {
      "cell_type": "markdown",
      "metadata": {
        "id": "wdFHBrgzazgx"
      },
      "source": [
        "\n",
        "Age ranges will be replaced with range average."
      ]
    },
    {
      "cell_type": "code",
      "metadata": {
        "colab": {
          "base_uri": "https://localhost:8080/"
        },
        "id": "FoS7U1K3a1u2",
        "outputId": "de4ec97c-0243-43c4-ae84-7e7f2a640c96"
      },
      "source": [
        "ageranks = data['age'].unique()\n",
        "ageranks = list(ageranks)\n",
        "ageranks"
      ],
      "execution_count": 83,
      "outputs": [
        {
          "output_type": "execute_result",
          "data": {
            "text/plain": [
              "['[0-10)',\n",
              " '[10-20)',\n",
              " '[20-30)',\n",
              " '[30-40)',\n",
              " '[40-50)',\n",
              " '[50-60)',\n",
              " '[60-70)',\n",
              " '[70-80)',\n",
              " '[80-90)',\n",
              " '[90-100)']"
            ]
          },
          "metadata": {},
          "execution_count": 83
        }
      ]
    },
    {
      "cell_type": "code",
      "metadata": {
        "id": "Xi2tuDN4bNSn"
      },
      "source": [
        "for i in ageranks:\n",
        "    value = i\n",
        "    newvalue = int(i[1])*10+5\n",
        "    data.loc[(data.age == value),'age'] = newvalue"
      ],
      "execution_count": 84,
      "outputs": []
    },
    {
      "cell_type": "code",
      "metadata": {
        "colab": {
          "base_uri": "https://localhost:8080/"
        },
        "id": "exBX4kZ7bP_D",
        "outputId": "24f524e3-1d57-4a75-b9f4-cce379dab7a3"
      },
      "source": [
        "data['age'].unique()"
      ],
      "execution_count": 85,
      "outputs": [
        {
          "output_type": "execute_result",
          "data": {
            "text/plain": [
              "array([5, 15, 25, 35, 45, 55, 65, 75, 85, 95], dtype=object)"
            ]
          },
          "metadata": {},
          "execution_count": 85
        }
      ]
    },
    {
      "cell_type": "code",
      "metadata": {
        "id": "HLdOxmz8bT7J"
      },
      "source": [
        "data['age'] = data['age'].astype(np.int64)"
      ],
      "execution_count": 88,
      "outputs": []
    },
    {
      "cell_type": "code",
      "metadata": {
        "colab": {
          "base_uri": "https://localhost:8080/"
        },
        "id": "kzBsAaH3bXm0",
        "outputId": "52994f1e-6f3e-4be7-a4e5-9aa6017695f6"
      },
      "source": [
        "data['age'].unique()"
      ],
      "execution_count": 90,
      "outputs": [
        {
          "output_type": "execute_result",
          "data": {
            "text/plain": [
              "array([ 5, 15, 25, 35, 45, 55, 65, 75, 85, 95])"
            ]
          },
          "metadata": {},
          "execution_count": 90
        }
      ]
    }
  ]
}